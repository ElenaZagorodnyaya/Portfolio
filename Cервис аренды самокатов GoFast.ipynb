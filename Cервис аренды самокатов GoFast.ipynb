{
 "cells": [
  {
   "cell_type": "markdown",
   "id": "e275b647",
   "metadata": {},
   "source": [
    "# Cервис аренды самокатов GoFast"
   ]
  },
  {
   "cell_type": "markdown",
   "id": "7b22d503",
   "metadata": {},
   "source": [
    "## Описание проекта"
   ]
  },
  {
   "cell_type": "markdown",
   "id": "95b014e6",
   "metadata": {},
   "source": [
    "Имеются данные о некоторых пользователях из нескольких городов, а также об их поездках. Необходимо проанализировать данные и проверить некоторые гипотезы, которые могут помочь бизнесу вырасти.\n",
    "Чтобы совершать поездки по городу, пользователи сервиса GoFast пользуются мобильным приложением. Сервисом можно пользоваться:\n",
    "1. без подписки:\n",
    "* абонентская плата отсутствует;\n",
    "* стоимость одной минуты поездки - 8 рублей;\n",
    "* стоимость старта (начала поездки) — 50 рублей;\n",
    "2. с подпиской Ultra:\n",
    "* абонентская плата — 199 рублей в месяц;\n",
    "* стоимость одной минуты поездки — 6 рублей;\n",
    "* стоимость старта — бесплатно."
   ]
  },
  {
   "cell_type": "markdown",
   "id": "341cef09",
   "metadata": {},
   "source": [
    "## Описание данных\n",
    "\n",
    "В основных данных есть информация о пользователях, их поездках и подписках.\n",
    "1. Пользователи:\n",
    "* user_id\t- уникальный идентификатор пользователя\n",
    "* name - имя пользователя\n",
    "* age - возраст\n",
    "* city - город\n",
    "* subscription_type - тип подписки (free, ultra)\n",
    "2. Поездки:\n",
    "* user_id\t- уникальный идентификатор пользователя\n",
    "* distance - расстояние, которое пользователь проехал в текущей сессии (в метрах)\n",
    "* duration - продолжительность сессии (в минутах) — время с того момента, как пользователь нажал кнопку «Начать поездку» до момента, как он нажал кнопку «Завершить поездку»\n",
    "* date - дата совершения поездки\n",
    "3. Подписки:\n",
    "* subscription_type - тип подписки\n",
    "* minute_price - стоимость одной минуты поездки по данной подписке\n",
    "* start_ride_price - стоимость начала поездки\n",
    "* subscription_fee - стоимость ежемесячного платежа"
   ]
  },
  {
   "cell_type": "markdown",
   "id": "c42cbe00",
   "metadata": {},
   "source": [
    "### Загрузка данных"
   ]
  },
  {
   "cell_type": "code",
   "execution_count": 1,
   "id": "72576667",
   "metadata": {},
   "outputs": [],
   "source": [
    "import pandas as pd\n",
    "import matplotlib.pyplot as plt\n",
    "import seaborn as sns\n",
    "import plotly.express as px\n",
    "import numpy as np\n",
    "from scipy import stats as st\n",
    "from math import factorial"
   ]
  },
  {
   "cell_type": "markdown",
   "id": "84dc0834",
   "metadata": {},
   "source": [
    "Импортирую необходимые библиотеки."
   ]
  },
  {
   "cell_type": "code",
   "execution_count": 2,
   "id": "eff9f206",
   "metadata": {},
   "outputs": [
    {
     "data": {
      "text/html": [
       "<div>\n",
       "<style scoped>\n",
       "    .dataframe tbody tr th:only-of-type {\n",
       "        vertical-align: middle;\n",
       "    }\n",
       "\n",
       "    .dataframe tbody tr th {\n",
       "        vertical-align: top;\n",
       "    }\n",
       "\n",
       "    .dataframe thead th {\n",
       "        text-align: right;\n",
       "    }\n",
       "</style>\n",
       "<table border=\"1\" class=\"dataframe\">\n",
       "  <thead>\n",
       "    <tr style=\"text-align: right;\">\n",
       "      <th></th>\n",
       "      <th>user_id</th>\n",
       "      <th>name</th>\n",
       "      <th>age</th>\n",
       "      <th>city</th>\n",
       "      <th>subscription_type</th>\n",
       "    </tr>\n",
       "  </thead>\n",
       "  <tbody>\n",
       "    <tr>\n",
       "      <th>0</th>\n",
       "      <td>1</td>\n",
       "      <td>Кира</td>\n",
       "      <td>22</td>\n",
       "      <td>Тюмень</td>\n",
       "      <td>ultra</td>\n",
       "    </tr>\n",
       "    <tr>\n",
       "      <th>1</th>\n",
       "      <td>2</td>\n",
       "      <td>Станислав</td>\n",
       "      <td>31</td>\n",
       "      <td>Омск</td>\n",
       "      <td>ultra</td>\n",
       "    </tr>\n",
       "    <tr>\n",
       "      <th>2</th>\n",
       "      <td>3</td>\n",
       "      <td>Алексей</td>\n",
       "      <td>20</td>\n",
       "      <td>Москва</td>\n",
       "      <td>ultra</td>\n",
       "    </tr>\n",
       "    <tr>\n",
       "      <th>3</th>\n",
       "      <td>4</td>\n",
       "      <td>Константин</td>\n",
       "      <td>26</td>\n",
       "      <td>Ростов-на-Дону</td>\n",
       "      <td>ultra</td>\n",
       "    </tr>\n",
       "    <tr>\n",
       "      <th>4</th>\n",
       "      <td>5</td>\n",
       "      <td>Адель</td>\n",
       "      <td>28</td>\n",
       "      <td>Омск</td>\n",
       "      <td>ultra</td>\n",
       "    </tr>\n",
       "    <tr>\n",
       "      <th>5</th>\n",
       "      <td>6</td>\n",
       "      <td>Регина</td>\n",
       "      <td>25</td>\n",
       "      <td>Краснодар</td>\n",
       "      <td>ultra</td>\n",
       "    </tr>\n",
       "    <tr>\n",
       "      <th>6</th>\n",
       "      <td>7</td>\n",
       "      <td>Игорь</td>\n",
       "      <td>23</td>\n",
       "      <td>Омск</td>\n",
       "      <td>ultra</td>\n",
       "    </tr>\n",
       "    <tr>\n",
       "      <th>7</th>\n",
       "      <td>8</td>\n",
       "      <td>Юрий</td>\n",
       "      <td>23</td>\n",
       "      <td>Краснодар</td>\n",
       "      <td>ultra</td>\n",
       "    </tr>\n",
       "    <tr>\n",
       "      <th>8</th>\n",
       "      <td>9</td>\n",
       "      <td>Ян</td>\n",
       "      <td>21</td>\n",
       "      <td>Пятигорск</td>\n",
       "      <td>ultra</td>\n",
       "    </tr>\n",
       "    <tr>\n",
       "      <th>9</th>\n",
       "      <td>10</td>\n",
       "      <td>Валерий</td>\n",
       "      <td>18</td>\n",
       "      <td>Екатеринбург</td>\n",
       "      <td>ultra</td>\n",
       "    </tr>\n",
       "  </tbody>\n",
       "</table>\n",
       "</div>"
      ],
      "text/plain": [
       "   user_id        name  age            city subscription_type\n",
       "0        1        Кира   22          Тюмень             ultra\n",
       "1        2   Станислав   31            Омск             ultra\n",
       "2        3     Алексей   20          Москва             ultra\n",
       "3        4  Константин   26  Ростов-на-Дону             ultra\n",
       "4        5       Адель   28            Омск             ultra\n",
       "5        6      Регина   25       Краснодар             ultra\n",
       "6        7       Игорь   23            Омск             ultra\n",
       "7        8        Юрий   23       Краснодар             ultra\n",
       "8        9          Ян   21       Пятигорск             ultra\n",
       "9       10     Валерий   18    Екатеринбург             ultra"
      ]
     },
     "execution_count": 2,
     "metadata": {},
     "output_type": "execute_result"
    }
   ],
   "source": [
    "try:\n",
    "    df_1 = pd.read_csv('//Users/Elena/Desktop/users_go.csv')\n",
    "except:\n",
    "    df_1 = pd.read_csv('/Documents/users_go.csv')\n",
    "    \n",
    "df_1.head(10)"
   ]
  },
  {
   "cell_type": "code",
   "execution_count": 3,
   "id": "9c41450f",
   "metadata": {},
   "outputs": [
    {
     "name": "stdout",
     "output_type": "stream",
     "text": [
      "<class 'pandas.core.frame.DataFrame'>\n",
      "RangeIndex: 1565 entries, 0 to 1564\n",
      "Data columns (total 5 columns):\n",
      " #   Column             Non-Null Count  Dtype \n",
      "---  ------             --------------  ----- \n",
      " 0   user_id            1565 non-null   int64 \n",
      " 1   name               1565 non-null   object\n",
      " 2   age                1565 non-null   int64 \n",
      " 3   city               1565 non-null   object\n",
      " 4   subscription_type  1565 non-null   object\n",
      "dtypes: int64(2), object(3)\n",
      "memory usage: 61.3+ KB\n"
     ]
    }
   ],
   "source": [
    "df_1.info()"
   ]
  },
  {
   "cell_type": "markdown",
   "id": "a09fbbf8",
   "metadata": {},
   "source": [
    "Загружаем таблицу с пользователями и знакомимся с её наполнением:\n",
    "В таблице 5 столбцов. Формат столбцов подходит для значений, содержащихся в таблице."
   ]
  },
  {
   "cell_type": "code",
   "execution_count": 4,
   "id": "d0b5c5e5",
   "metadata": {},
   "outputs": [
    {
     "data": {
      "text/html": [
       "<div>\n",
       "<style scoped>\n",
       "    .dataframe tbody tr th:only-of-type {\n",
       "        vertical-align: middle;\n",
       "    }\n",
       "\n",
       "    .dataframe tbody tr th {\n",
       "        vertical-align: top;\n",
       "    }\n",
       "\n",
       "    .dataframe thead th {\n",
       "        text-align: right;\n",
       "    }\n",
       "</style>\n",
       "<table border=\"1\" class=\"dataframe\">\n",
       "  <thead>\n",
       "    <tr style=\"text-align: right;\">\n",
       "      <th></th>\n",
       "      <th>user_id</th>\n",
       "      <th>age</th>\n",
       "    </tr>\n",
       "  </thead>\n",
       "  <tbody>\n",
       "    <tr>\n",
       "      <th>count</th>\n",
       "      <td>1565.000000</td>\n",
       "      <td>1565.000000</td>\n",
       "    </tr>\n",
       "    <tr>\n",
       "      <th>mean</th>\n",
       "      <td>762.633866</td>\n",
       "      <td>24.922045</td>\n",
       "    </tr>\n",
       "    <tr>\n",
       "      <th>std</th>\n",
       "      <td>443.260155</td>\n",
       "      <td>4.553496</td>\n",
       "    </tr>\n",
       "    <tr>\n",
       "      <th>min</th>\n",
       "      <td>1.000000</td>\n",
       "      <td>12.000000</td>\n",
       "    </tr>\n",
       "    <tr>\n",
       "      <th>25%</th>\n",
       "      <td>378.000000</td>\n",
       "      <td>22.000000</td>\n",
       "    </tr>\n",
       "    <tr>\n",
       "      <th>50%</th>\n",
       "      <td>762.000000</td>\n",
       "      <td>25.000000</td>\n",
       "    </tr>\n",
       "    <tr>\n",
       "      <th>75%</th>\n",
       "      <td>1146.000000</td>\n",
       "      <td>28.000000</td>\n",
       "    </tr>\n",
       "    <tr>\n",
       "      <th>max</th>\n",
       "      <td>1534.000000</td>\n",
       "      <td>43.000000</td>\n",
       "    </tr>\n",
       "  </tbody>\n",
       "</table>\n",
       "</div>"
      ],
      "text/plain": [
       "           user_id          age\n",
       "count  1565.000000  1565.000000\n",
       "mean    762.633866    24.922045\n",
       "std     443.260155     4.553496\n",
       "min       1.000000    12.000000\n",
       "25%     378.000000    22.000000\n",
       "50%     762.000000    25.000000\n",
       "75%    1146.000000    28.000000\n",
       "max    1534.000000    43.000000"
      ]
     },
     "execution_count": 4,
     "metadata": {},
     "output_type": "execute_result"
    }
   ],
   "source": [
    "df_1.describe()"
   ]
  },
  {
   "cell_type": "markdown",
   "id": "e64a7788",
   "metadata": {},
   "source": [
    "Посмотрим описательную статистику таблицы о пользователях:\n",
    "* Количество пользователей в таблице - 1 534;\n",
    "* Средний возраст пользователей - 25 лет, максимальный возраст 43 года."
   ]
  },
  {
   "cell_type": "code",
   "execution_count": 5,
   "id": "b71913d7",
   "metadata": {},
   "outputs": [
    {
     "data": {
      "text/html": [
       "<div>\n",
       "<style scoped>\n",
       "    .dataframe tbody tr th:only-of-type {\n",
       "        vertical-align: middle;\n",
       "    }\n",
       "\n",
       "    .dataframe tbody tr th {\n",
       "        vertical-align: top;\n",
       "    }\n",
       "\n",
       "    .dataframe thead th {\n",
       "        text-align: right;\n",
       "    }\n",
       "</style>\n",
       "<table border=\"1\" class=\"dataframe\">\n",
       "  <thead>\n",
       "    <tr style=\"text-align: right;\">\n",
       "      <th></th>\n",
       "      <th>user_id</th>\n",
       "      <th>distance</th>\n",
       "      <th>duration</th>\n",
       "      <th>date</th>\n",
       "    </tr>\n",
       "  </thead>\n",
       "  <tbody>\n",
       "    <tr>\n",
       "      <th>0</th>\n",
       "      <td>1</td>\n",
       "      <td>4409.919140</td>\n",
       "      <td>25.599769</td>\n",
       "      <td>2021-01-01</td>\n",
       "    </tr>\n",
       "    <tr>\n",
       "      <th>1</th>\n",
       "      <td>1</td>\n",
       "      <td>2617.592153</td>\n",
       "      <td>15.816871</td>\n",
       "      <td>2021-01-18</td>\n",
       "    </tr>\n",
       "    <tr>\n",
       "      <th>2</th>\n",
       "      <td>1</td>\n",
       "      <td>754.159807</td>\n",
       "      <td>6.232113</td>\n",
       "      <td>2021-04-20</td>\n",
       "    </tr>\n",
       "    <tr>\n",
       "      <th>3</th>\n",
       "      <td>1</td>\n",
       "      <td>2694.783254</td>\n",
       "      <td>18.511000</td>\n",
       "      <td>2021-08-11</td>\n",
       "    </tr>\n",
       "    <tr>\n",
       "      <th>4</th>\n",
       "      <td>1</td>\n",
       "      <td>4028.687306</td>\n",
       "      <td>26.265803</td>\n",
       "      <td>2021-08-28</td>\n",
       "    </tr>\n",
       "    <tr>\n",
       "      <th>5</th>\n",
       "      <td>1</td>\n",
       "      <td>2770.890808</td>\n",
       "      <td>16.650138</td>\n",
       "      <td>2021-10-09</td>\n",
       "    </tr>\n",
       "    <tr>\n",
       "      <th>6</th>\n",
       "      <td>1</td>\n",
       "      <td>3039.020292</td>\n",
       "      <td>14.927879</td>\n",
       "      <td>2021-10-19</td>\n",
       "    </tr>\n",
       "    <tr>\n",
       "      <th>7</th>\n",
       "      <td>1</td>\n",
       "      <td>2842.118050</td>\n",
       "      <td>23.117468</td>\n",
       "      <td>2021-11-06</td>\n",
       "    </tr>\n",
       "    <tr>\n",
       "      <th>8</th>\n",
       "      <td>1</td>\n",
       "      <td>3412.690668</td>\n",
       "      <td>15.238072</td>\n",
       "      <td>2021-11-14</td>\n",
       "    </tr>\n",
       "    <tr>\n",
       "      <th>9</th>\n",
       "      <td>1</td>\n",
       "      <td>748.690645</td>\n",
       "      <td>15.041884</td>\n",
       "      <td>2021-11-22</td>\n",
       "    </tr>\n",
       "  </tbody>\n",
       "</table>\n",
       "</div>"
      ],
      "text/plain": [
       "   user_id     distance   duration       date\n",
       "0        1  4409.919140  25.599769 2021-01-01\n",
       "1        1  2617.592153  15.816871 2021-01-18\n",
       "2        1   754.159807   6.232113 2021-04-20\n",
       "3        1  2694.783254  18.511000 2021-08-11\n",
       "4        1  4028.687306  26.265803 2021-08-28\n",
       "5        1  2770.890808  16.650138 2021-10-09\n",
       "6        1  3039.020292  14.927879 2021-10-19\n",
       "7        1  2842.118050  23.117468 2021-11-06\n",
       "8        1  3412.690668  15.238072 2021-11-14\n",
       "9        1   748.690645  15.041884 2021-11-22"
      ]
     },
     "execution_count": 5,
     "metadata": {},
     "output_type": "execute_result"
    }
   ],
   "source": [
    "try:\n",
    "    df_2 = pd.read_csv('//Users/Elena/Desktop/rides_go.csv', parse_dates=['date'])\n",
    "except:\n",
    "    df_2 = pd.read_csv('/Documents/rides_go.csv')\n",
    "\n",
    "df_2.head(10)"
   ]
  },
  {
   "cell_type": "code",
   "execution_count": 6,
   "id": "e27f8f42",
   "metadata": {},
   "outputs": [
    {
     "name": "stdout",
     "output_type": "stream",
     "text": [
      "<class 'pandas.core.frame.DataFrame'>\n",
      "RangeIndex: 18068 entries, 0 to 18067\n",
      "Data columns (total 4 columns):\n",
      " #   Column    Non-Null Count  Dtype         \n",
      "---  ------    --------------  -----         \n",
      " 0   user_id   18068 non-null  int64         \n",
      " 1   distance  18068 non-null  float64       \n",
      " 2   duration  18068 non-null  float64       \n",
      " 3   date      18068 non-null  datetime64[ns]\n",
      "dtypes: datetime64[ns](1), float64(2), int64(1)\n",
      "memory usage: 564.8 KB\n"
     ]
    }
   ],
   "source": [
    "df_2.info()"
   ]
  },
  {
   "cell_type": "markdown",
   "id": "e299fb0c",
   "metadata": {},
   "source": [
    "Загружаем таблицу с поездками и знакомимся с её наполнением:\n",
    "В таблице 4 столбца. Формат не всех столбцов подходит для значений, содержащихся в таблице. Преобразуем некоторые значения в следюущем шаге."
   ]
  },
  {
   "cell_type": "code",
   "execution_count": 7,
   "id": "f2c1af97",
   "metadata": {},
   "outputs": [
    {
     "data": {
      "text/html": [
       "<div>\n",
       "<style scoped>\n",
       "    .dataframe tbody tr th:only-of-type {\n",
       "        vertical-align: middle;\n",
       "    }\n",
       "\n",
       "    .dataframe tbody tr th {\n",
       "        vertical-align: top;\n",
       "    }\n",
       "\n",
       "    .dataframe thead th {\n",
       "        text-align: right;\n",
       "    }\n",
       "</style>\n",
       "<table border=\"1\" class=\"dataframe\">\n",
       "  <thead>\n",
       "    <tr style=\"text-align: right;\">\n",
       "      <th></th>\n",
       "      <th>user_id</th>\n",
       "      <th>distance</th>\n",
       "      <th>duration</th>\n",
       "    </tr>\n",
       "  </thead>\n",
       "  <tbody>\n",
       "    <tr>\n",
       "      <th>count</th>\n",
       "      <td>18068.000000</td>\n",
       "      <td>18068.000000</td>\n",
       "      <td>18068.000000</td>\n",
       "    </tr>\n",
       "    <tr>\n",
       "      <th>mean</th>\n",
       "      <td>842.869936</td>\n",
       "      <td>3070.659976</td>\n",
       "      <td>17.805011</td>\n",
       "    </tr>\n",
       "    <tr>\n",
       "      <th>std</th>\n",
       "      <td>434.734317</td>\n",
       "      <td>1116.831209</td>\n",
       "      <td>6.091051</td>\n",
       "    </tr>\n",
       "    <tr>\n",
       "      <th>min</th>\n",
       "      <td>1.000000</td>\n",
       "      <td>0.855683</td>\n",
       "      <td>0.500000</td>\n",
       "    </tr>\n",
       "    <tr>\n",
       "      <th>25%</th>\n",
       "      <td>487.000000</td>\n",
       "      <td>2543.226360</td>\n",
       "      <td>13.597563</td>\n",
       "    </tr>\n",
       "    <tr>\n",
       "      <th>50%</th>\n",
       "      <td>889.000000</td>\n",
       "      <td>3133.609994</td>\n",
       "      <td>17.678395</td>\n",
       "    </tr>\n",
       "    <tr>\n",
       "      <th>75%</th>\n",
       "      <td>1213.250000</td>\n",
       "      <td>3776.222735</td>\n",
       "      <td>21.724800</td>\n",
       "    </tr>\n",
       "    <tr>\n",
       "      <th>max</th>\n",
       "      <td>1534.000000</td>\n",
       "      <td>7211.007745</td>\n",
       "      <td>40.823963</td>\n",
       "    </tr>\n",
       "  </tbody>\n",
       "</table>\n",
       "</div>"
      ],
      "text/plain": [
       "            user_id      distance      duration\n",
       "count  18068.000000  18068.000000  18068.000000\n",
       "mean     842.869936   3070.659976     17.805011\n",
       "std      434.734317   1116.831209      6.091051\n",
       "min        1.000000      0.855683      0.500000\n",
       "25%      487.000000   2543.226360     13.597563\n",
       "50%      889.000000   3133.609994     17.678395\n",
       "75%     1213.250000   3776.222735     21.724800\n",
       "max     1534.000000   7211.007745     40.823963"
      ]
     },
     "execution_count": 7,
     "metadata": {},
     "output_type": "execute_result"
    }
   ],
   "source": [
    "df_2.describe()"
   ]
  },
  {
   "cell_type": "markdown",
   "id": "5f251fd7",
   "metadata": {},
   "source": [
    "Посмотрим описательную статистику таблицы о поездках:\n",
    "* Средняя дистанция поездки - 3 070 м, максимальная дистанция - 7 211 м. Большая часть пользователей не превышают дистанцию 3 776 м;\n",
    "* Средняя продолжительность сессии - почти 18 минут, максимальная продолжительность сессии - почти 41 минута. Большая часть пользователей не превышают время в 21 минуту."
   ]
  },
  {
   "cell_type": "code",
   "execution_count": 8,
   "id": "7ff86576",
   "metadata": {},
   "outputs": [
    {
     "data": {
      "text/html": [
       "<div>\n",
       "<style scoped>\n",
       "    .dataframe tbody tr th:only-of-type {\n",
       "        vertical-align: middle;\n",
       "    }\n",
       "\n",
       "    .dataframe tbody tr th {\n",
       "        vertical-align: top;\n",
       "    }\n",
       "\n",
       "    .dataframe thead th {\n",
       "        text-align: right;\n",
       "    }\n",
       "</style>\n",
       "<table border=\"1\" class=\"dataframe\">\n",
       "  <thead>\n",
       "    <tr style=\"text-align: right;\">\n",
       "      <th></th>\n",
       "      <th>subscription_type</th>\n",
       "      <th>minute_price</th>\n",
       "      <th>start_ride_price</th>\n",
       "      <th>subscription_fee</th>\n",
       "    </tr>\n",
       "  </thead>\n",
       "  <tbody>\n",
       "    <tr>\n",
       "      <th>0</th>\n",
       "      <td>free</td>\n",
       "      <td>8</td>\n",
       "      <td>50</td>\n",
       "      <td>0</td>\n",
       "    </tr>\n",
       "    <tr>\n",
       "      <th>1</th>\n",
       "      <td>ultra</td>\n",
       "      <td>6</td>\n",
       "      <td>0</td>\n",
       "      <td>199</td>\n",
       "    </tr>\n",
       "  </tbody>\n",
       "</table>\n",
       "</div>"
      ],
      "text/plain": [
       "  subscription_type  minute_price  start_ride_price  subscription_fee\n",
       "0              free             8                50                 0\n",
       "1             ultra             6                 0               199"
      ]
     },
     "execution_count": 8,
     "metadata": {},
     "output_type": "execute_result"
    }
   ],
   "source": [
    "try:\n",
    "    df_3 = pd.read_csv('//Users/Elena/Desktop/subscriptions_go.csv')\n",
    "except:\n",
    "    df_3 = pd.read_csv('/Documents/subscriptions_go.csv')\n",
    "    \n",
    "df_3.head(10)"
   ]
  },
  {
   "cell_type": "code",
   "execution_count": 9,
   "id": "793df425",
   "metadata": {},
   "outputs": [
    {
     "name": "stdout",
     "output_type": "stream",
     "text": [
      "<class 'pandas.core.frame.DataFrame'>\n",
      "RangeIndex: 2 entries, 0 to 1\n",
      "Data columns (total 4 columns):\n",
      " #   Column             Non-Null Count  Dtype \n",
      "---  ------             --------------  ----- \n",
      " 0   subscription_type  2 non-null      object\n",
      " 1   minute_price       2 non-null      int64 \n",
      " 2   start_ride_price   2 non-null      int64 \n",
      " 3   subscription_fee   2 non-null      int64 \n",
      "dtypes: int64(3), object(1)\n",
      "memory usage: 192.0+ bytes\n"
     ]
    }
   ],
   "source": [
    "df_3.info()"
   ]
  },
  {
   "cell_type": "markdown",
   "id": "a7951215",
   "metadata": {},
   "source": [
    "Загружаем таблицу с типом подписок и знакомимся с её наполнением: В таблице 4 столбца. Формат всех столбцов подходит для значений, содержащихся в таблице."
   ]
  },
  {
   "cell_type": "code",
   "execution_count": 10,
   "id": "2cca9edf",
   "metadata": {},
   "outputs": [
    {
     "data": {
      "text/html": [
       "<div>\n",
       "<style scoped>\n",
       "    .dataframe tbody tr th:only-of-type {\n",
       "        vertical-align: middle;\n",
       "    }\n",
       "\n",
       "    .dataframe tbody tr th {\n",
       "        vertical-align: top;\n",
       "    }\n",
       "\n",
       "    .dataframe thead th {\n",
       "        text-align: right;\n",
       "    }\n",
       "</style>\n",
       "<table border=\"1\" class=\"dataframe\">\n",
       "  <thead>\n",
       "    <tr style=\"text-align: right;\">\n",
       "      <th></th>\n",
       "      <th>minute_price</th>\n",
       "      <th>start_ride_price</th>\n",
       "      <th>subscription_fee</th>\n",
       "    </tr>\n",
       "  </thead>\n",
       "  <tbody>\n",
       "    <tr>\n",
       "      <th>count</th>\n",
       "      <td>2.000000</td>\n",
       "      <td>2.000000</td>\n",
       "      <td>2.000000</td>\n",
       "    </tr>\n",
       "    <tr>\n",
       "      <th>mean</th>\n",
       "      <td>7.000000</td>\n",
       "      <td>25.000000</td>\n",
       "      <td>99.500000</td>\n",
       "    </tr>\n",
       "    <tr>\n",
       "      <th>std</th>\n",
       "      <td>1.414214</td>\n",
       "      <td>35.355339</td>\n",
       "      <td>140.714249</td>\n",
       "    </tr>\n",
       "    <tr>\n",
       "      <th>min</th>\n",
       "      <td>6.000000</td>\n",
       "      <td>0.000000</td>\n",
       "      <td>0.000000</td>\n",
       "    </tr>\n",
       "    <tr>\n",
       "      <th>25%</th>\n",
       "      <td>6.500000</td>\n",
       "      <td>12.500000</td>\n",
       "      <td>49.750000</td>\n",
       "    </tr>\n",
       "    <tr>\n",
       "      <th>50%</th>\n",
       "      <td>7.000000</td>\n",
       "      <td>25.000000</td>\n",
       "      <td>99.500000</td>\n",
       "    </tr>\n",
       "    <tr>\n",
       "      <th>75%</th>\n",
       "      <td>7.500000</td>\n",
       "      <td>37.500000</td>\n",
       "      <td>149.250000</td>\n",
       "    </tr>\n",
       "    <tr>\n",
       "      <th>max</th>\n",
       "      <td>8.000000</td>\n",
       "      <td>50.000000</td>\n",
       "      <td>199.000000</td>\n",
       "    </tr>\n",
       "  </tbody>\n",
       "</table>\n",
       "</div>"
      ],
      "text/plain": [
       "       minute_price  start_ride_price  subscription_fee\n",
       "count      2.000000          2.000000          2.000000\n",
       "mean       7.000000         25.000000         99.500000\n",
       "std        1.414214         35.355339        140.714249\n",
       "min        6.000000          0.000000          0.000000\n",
       "25%        6.500000         12.500000         49.750000\n",
       "50%        7.000000         25.000000         99.500000\n",
       "75%        7.500000         37.500000        149.250000\n",
       "max        8.000000         50.000000        199.000000"
      ]
     },
     "execution_count": 10,
     "metadata": {},
     "output_type": "execute_result"
    }
   ],
   "source": [
    "df_3.describe()"
   ]
  },
  {
   "cell_type": "markdown",
   "id": "8723cb5f",
   "metadata": {},
   "source": [
    "Посмотрим описательную статистику таблицы о типе подписок:\n",
    "* В данной таблице приведены значения из условий задания о стоимости минуты, стоимости старта и стоимости подписки."
   ]
  },
  {
   "cell_type": "markdown",
   "id": "e95ebca7",
   "metadata": {},
   "source": [
    "### Предобработка данных"
   ]
  },
  {
   "cell_type": "code",
   "execution_count": 11,
   "id": "24635fcd",
   "metadata": {},
   "outputs": [
    {
     "name": "stdout",
     "output_type": "stream",
     "text": [
      "<class 'pandas.core.frame.DataFrame'>\n",
      "RangeIndex: 18068 entries, 0 to 18067\n",
      "Data columns (total 4 columns):\n",
      " #   Column    Non-Null Count  Dtype         \n",
      "---  ------    --------------  -----         \n",
      " 0   user_id   18068 non-null  int64         \n",
      " 1   distance  18068 non-null  float64       \n",
      " 2   duration  18068 non-null  float64       \n",
      " 3   date      18068 non-null  datetime64[ns]\n",
      "dtypes: datetime64[ns](1), float64(2), int64(1)\n",
      "memory usage: 564.8 KB\n"
     ]
    }
   ],
   "source": [
    "df_2['date'] = pd.to_datetime(df_2['date'], format = '%Y-%m-%d')\n",
    "df_2.info()"
   ]
  },
  {
   "cell_type": "markdown",
   "id": "aabd7be9",
   "metadata": {},
   "source": [
    "Преобразуем формат столбца 'date' в таблице с поездками в формат даты."
   ]
  },
  {
   "cell_type": "code",
   "execution_count": 12,
   "id": "af6d202c",
   "metadata": {},
   "outputs": [
    {
     "data": {
      "text/plain": [
       "user_id              0.0\n",
       "name                 0.0\n",
       "age                  0.0\n",
       "city                 0.0\n",
       "subscription_type    0.0\n",
       "dtype: float64"
      ]
     },
     "execution_count": 12,
     "metadata": {},
     "output_type": "execute_result"
    }
   ],
   "source": [
    "df_1.isnull().sum()/len(df_1)*100"
   ]
  },
  {
   "cell_type": "code",
   "execution_count": 13,
   "id": "1f78ef81",
   "metadata": {},
   "outputs": [
    {
     "data": {
      "text/plain": [
       "user_id     0.0\n",
       "distance    0.0\n",
       "duration    0.0\n",
       "date        0.0\n",
       "dtype: float64"
      ]
     },
     "execution_count": 13,
     "metadata": {},
     "output_type": "execute_result"
    }
   ],
   "source": [
    "df_2.isnull().sum()/len(df_2)*100"
   ]
  },
  {
   "cell_type": "code",
   "execution_count": 14,
   "id": "6d7c11e5",
   "metadata": {},
   "outputs": [
    {
     "data": {
      "text/plain": [
       "subscription_type    0.0\n",
       "minute_price         0.0\n",
       "start_ride_price     0.0\n",
       "subscription_fee     0.0\n",
       "dtype: float64"
      ]
     },
     "execution_count": 14,
     "metadata": {},
     "output_type": "execute_result"
    }
   ],
   "source": [
    "df_3.isnull().sum()/len(df_3)*100"
   ]
  },
  {
   "cell_type": "markdown",
   "id": "9c9e4647",
   "metadata": {},
   "source": [
    "Проверила количество пропусков (в процентах) в каждой из таблиц. Пропуски отсутствуют."
   ]
  },
  {
   "cell_type": "code",
   "execution_count": 15,
   "id": "8885352b",
   "metadata": {},
   "outputs": [
    {
     "data": {
      "text/plain": [
       "31"
      ]
     },
     "execution_count": 15,
     "metadata": {},
     "output_type": "execute_result"
    }
   ],
   "source": [
    "df_1['user_id'].duplicated().sum()"
   ]
  },
  {
   "cell_type": "code",
   "execution_count": 16,
   "id": "a69d0b7f",
   "metadata": {},
   "outputs": [
    {
     "data": {
      "text/plain": [
       "0"
      ]
     },
     "execution_count": 16,
     "metadata": {},
     "output_type": "execute_result"
    }
   ],
   "source": [
    "df_1 = df_1.drop_duplicates(subset=['user_id'], keep='first')\n",
    "df_1['user_id'].duplicated().sum()"
   ]
  },
  {
   "cell_type": "code",
   "execution_count": 17,
   "id": "97cee196",
   "metadata": {},
   "outputs": [
    {
     "data": {
      "text/plain": [
       "0"
      ]
     },
     "execution_count": 17,
     "metadata": {},
     "output_type": "execute_result"
    }
   ],
   "source": [
    "df_2.duplicated().sum()"
   ]
  },
  {
   "cell_type": "code",
   "execution_count": 18,
   "id": "ad95b68f",
   "metadata": {},
   "outputs": [
    {
     "data": {
      "text/plain": [
       "0"
      ]
     },
     "execution_count": 18,
     "metadata": {},
     "output_type": "execute_result"
    }
   ],
   "source": [
    "df_3.duplicated().sum()"
   ]
  },
  {
   "cell_type": "markdown",
   "id": "a1cfaa79",
   "metadata": {},
   "source": [
    "Проверила наличие дубликатов в каждой из таблиц. В таблице с пользователями найден 31 дубликат (значение в столбце 'user_id' должно быть уникально). Удалила дубликаты. В остальных таблицах дубли отсутсвуют."
   ]
  },
  {
   "cell_type": "code",
   "execution_count": 19,
   "id": "1796b310",
   "metadata": {},
   "outputs": [
    {
     "data": {
      "text/html": [
       "<div>\n",
       "<style scoped>\n",
       "    .dataframe tbody tr th:only-of-type {\n",
       "        vertical-align: middle;\n",
       "    }\n",
       "\n",
       "    .dataframe tbody tr th {\n",
       "        vertical-align: top;\n",
       "    }\n",
       "\n",
       "    .dataframe thead th {\n",
       "        text-align: right;\n",
       "    }\n",
       "</style>\n",
       "<table border=\"1\" class=\"dataframe\">\n",
       "  <thead>\n",
       "    <tr style=\"text-align: right;\">\n",
       "      <th></th>\n",
       "      <th>user_id</th>\n",
       "      <th>distance</th>\n",
       "      <th>duration</th>\n",
       "      <th>date</th>\n",
       "      <th>month</th>\n",
       "    </tr>\n",
       "  </thead>\n",
       "  <tbody>\n",
       "    <tr>\n",
       "      <th>0</th>\n",
       "      <td>1</td>\n",
       "      <td>4409.919140</td>\n",
       "      <td>25.599769</td>\n",
       "      <td>2021-01-01</td>\n",
       "      <td>1</td>\n",
       "    </tr>\n",
       "    <tr>\n",
       "      <th>1</th>\n",
       "      <td>1</td>\n",
       "      <td>2617.592153</td>\n",
       "      <td>15.816871</td>\n",
       "      <td>2021-01-18</td>\n",
       "      <td>1</td>\n",
       "    </tr>\n",
       "    <tr>\n",
       "      <th>2</th>\n",
       "      <td>1</td>\n",
       "      <td>754.159807</td>\n",
       "      <td>6.232113</td>\n",
       "      <td>2021-04-20</td>\n",
       "      <td>4</td>\n",
       "    </tr>\n",
       "    <tr>\n",
       "      <th>3</th>\n",
       "      <td>1</td>\n",
       "      <td>2694.783254</td>\n",
       "      <td>18.511000</td>\n",
       "      <td>2021-08-11</td>\n",
       "      <td>8</td>\n",
       "    </tr>\n",
       "    <tr>\n",
       "      <th>4</th>\n",
       "      <td>1</td>\n",
       "      <td>4028.687306</td>\n",
       "      <td>26.265803</td>\n",
       "      <td>2021-08-28</td>\n",
       "      <td>8</td>\n",
       "    </tr>\n",
       "  </tbody>\n",
       "</table>\n",
       "</div>"
      ],
      "text/plain": [
       "   user_id     distance   duration       date  month\n",
       "0        1  4409.919140  25.599769 2021-01-01      1\n",
       "1        1  2617.592153  15.816871 2021-01-18      1\n",
       "2        1   754.159807   6.232113 2021-04-20      4\n",
       "3        1  2694.783254  18.511000 2021-08-11      8\n",
       "4        1  4028.687306  26.265803 2021-08-28      8"
      ]
     },
     "execution_count": 19,
     "metadata": {},
     "output_type": "execute_result"
    }
   ],
   "source": [
    "df_2['month'] = df_2['date'].dt.month\n",
    "df_2.head()"
   ]
  },
  {
   "cell_type": "markdown",
   "id": "017138d2",
   "metadata": {},
   "source": [
    "Из преобразованного ранее столца 'date' выделю в отдельный столбец номер месяца."
   ]
  },
  {
   "cell_type": "code",
   "execution_count": 20,
   "id": "554410d7",
   "metadata": {
    "scrolled": true
   },
   "outputs": [
    {
     "data": {
      "text/plain": [
       "Timestamp('2021-12-30 00:00:00')"
      ]
     },
     "execution_count": 20,
     "metadata": {},
     "output_type": "execute_result"
    }
   ],
   "source": [
    "df_2['date'].max()"
   ]
  },
  {
   "cell_type": "code",
   "execution_count": 21,
   "id": "4ef13ace",
   "metadata": {},
   "outputs": [
    {
     "data": {
      "text/plain": [
       "Timestamp('2021-01-01 00:00:00')"
      ]
     },
     "execution_count": 21,
     "metadata": {},
     "output_type": "execute_result"
    }
   ],
   "source": [
    "df_2['date'].min()"
   ]
  },
  {
   "cell_type": "markdown",
   "id": "c70448ef",
   "metadata": {},
   "source": [
    "Данные представлены ровно за год, агрегация по месяцам должна быть корректной."
   ]
  },
  {
   "cell_type": "markdown",
   "id": "212593c7",
   "metadata": {},
   "source": [
    "### Исследовательский анализ данных"
   ]
  },
  {
   "cell_type": "code",
   "execution_count": 22,
   "id": "e3a4274c",
   "metadata": {},
   "outputs": [
    {
     "data": {
      "text/plain": [
       "Пятигорск         219\n",
       "Екатеринбург      204\n",
       "Ростов-на-Дону    198\n",
       "Краснодар         193\n",
       "Сочи              189\n",
       "Омск              183\n",
       "Тюмень            180\n",
       "Москва            168\n",
       "Name: city, dtype: int64"
      ]
     },
     "execution_count": 22,
     "metadata": {},
     "output_type": "execute_result"
    }
   ],
   "source": [
    "df_1['city'].value_counts()"
   ]
  },
  {
   "cell_type": "code",
   "execution_count": 23,
   "id": "23d02324",
   "metadata": {},
   "outputs": [
    {
     "data": {
      "image/png": "[encoded data removed]",
      "text/plain": [
       "<Figure size 800x800 with 1 Axes>"
      ]
     },
     "metadata": {},
     "output_type": "display_data"
    }
   ],
   "source": [
    "number_city = df_1.groupby('city').agg({'city': 'count'})\n",
    "number_city.plot(kind = 'bar', color='purple', figsize=(8,8))\n",
    "plt.xlabel('Город')\n",
    "plt.ylabel('Количество пользователей')\n",
    "plt.title('Распределение пользователей по городам');"
   ]
  },
  {
   "cell_type": "markdown",
   "id": "3a4d1c97",
   "metadata": {},
   "source": [
    "Сгруппируем и отсортируем данные по городам по убыванию. Наибольшее количество пользователей сервиса зарегистрировано в Пятигорсе, наименьшее в Москве. Это и объясняет большое количество записей в январе. Зимой в Москве достаточно проблематично кататься на самокате."
   ]
  },
  {
   "cell_type": "code",
   "execution_count": 24,
   "id": "33db71aa",
   "metadata": {},
   "outputs": [
    {
     "data": {
      "text/plain": [
       "free     835\n",
       "ultra    699\n",
       "Name: subscription_type, dtype: int64"
      ]
     },
     "execution_count": 24,
     "metadata": {},
     "output_type": "execute_result"
    }
   ],
   "source": [
    "df_1['subscription_type'].value_counts()\n"
   ]
  },
  {
   "cell_type": "code",
   "execution_count": 25,
   "id": "4050b3df",
   "metadata": {},
   "outputs": [
    {
     "data": {
      "image/png": "[encoded data removed]",
      "text/plain": [
       "<Figure size 800x800 with 1 Axes>"
      ]
     },
     "metadata": {},
     "output_type": "display_data"
    }
   ],
   "source": [
    "df_1['subscription_type'].value_counts().plot(\n",
    "    kind = 'pie',\n",
    "    autopct = '%1.0f%%',\n",
    "    figsize=(8,8))\n",
    "plt.title('Распределение пользователей по тарифам');"
   ]
  },
  {
   "cell_type": "markdown",
   "id": "bc510162",
   "metadata": {},
   "source": [
    "Распределение пользователей в датафрейме без подписки и с подпиской 54% и 46% человек соответственно. Наибольшее количество пользователей датафрейма не покупают подписку и платят за каждый \"старт\"."
   ]
  },
  {
   "cell_type": "code",
   "execution_count": 26,
   "id": "a3a5cbf9",
   "metadata": {},
   "outputs": [
    {
     "data": {
      "text/plain": [
       "25    145\n",
       "24    132\n",
       "26    131\n",
       "23    129\n",
       "22    119\n",
       "27    119\n",
       "28    112\n",
       "21     93\n",
       "20     71\n",
       "30     68\n",
       "29     68\n",
       "31     48\n",
       "19     47\n",
       "18     46\n",
       "32     41\n",
       "33     39\n",
       "17     26\n",
       "16     19\n",
       "34     19\n",
       "35     15\n",
       "15     13\n",
       "14      9\n",
       "13      8\n",
       "36      6\n",
       "12      4\n",
       "38      3\n",
       "37      2\n",
       "39      1\n",
       "43      1\n",
       "Name: age, dtype: int64"
      ]
     },
     "execution_count": 26,
     "metadata": {},
     "output_type": "execute_result"
    }
   ],
   "source": [
    "df_1['age'].value_counts()"
   ]
  },
  {
   "cell_type": "code",
   "execution_count": 27,
   "id": "1c4478c4",
   "metadata": {},
   "outputs": [
    {
     "data": {
      "image/png": "[encoded data removed]",
      "text/plain": [
       "<Figure size 800x800 with 1 Axes>"
      ]
     },
     "metadata": {},
     "output_type": "display_data"
    }
   ],
   "source": [
    "number_age = df_1.groupby('age').agg({'age': 'count'})\n",
    "number_age.plot(kind = 'bar', color='purple', figsize=(8,8))\n",
    "plt.xlabel('Возраст')\n",
    "plt.ylabel('Количество пользователей')\n",
    "plt.title('Распределение пользователей по возрасту');"
   ]
  },
  {
   "cell_type": "markdown",
   "id": "3e952cc0",
   "metadata": {},
   "source": [
    "Как уже было замечено ранее при формировании описательной статистики по пользователям - средний возраст пользователе между 24 и 26 годами."
   ]
  },
  {
   "cell_type": "code",
   "execution_count": 28,
   "id": "22c4fc7d",
   "metadata": {},
   "outputs": [
    {
     "data": {
      "text/plain": [
       "count    18068.000000\n",
       "mean      3070.659976\n",
       "std       1116.831209\n",
       "min          0.855683\n",
       "25%       2543.226360\n",
       "50%       3133.609994\n",
       "75%       3776.222735\n",
       "max       7211.007745\n",
       "Name: distance, dtype: float64"
      ]
     },
     "execution_count": 28,
     "metadata": {},
     "output_type": "execute_result"
    },
    {
     "data": {
      "image/png": "[encoded data removed]",
      "text/plain": [
       "<Figure size 800x800 with 1 Axes>"
      ]
     },
     "metadata": {},
     "output_type": "display_data"
    }
   ],
   "source": [
    "df_2.hist('distance', bins=1000, range=(0, 10050), figsize = (8,8), color='purple')\n",
    "plt.title('Дистанция')\n",
    "plt.xlabel('Расстояние')\n",
    "plt.ylabel('Количество поездок')\n",
    "df_2['distance'].describe()"
   ]
  },
  {
   "cell_type": "markdown",
   "id": "a1910b79",
   "metadata": {},
   "source": [
    "По дистанции существует огромный разброс значений. Максимальное расстояние - 7 211 м, минимальное - менее одного метра."
   ]
  },
  {
   "cell_type": "code",
   "execution_count": 29,
   "id": "f3147f6c",
   "metadata": {},
   "outputs": [
    {
     "data": {
      "text/plain": [
       "count    18068.000000\n",
       "mean        17.805011\n",
       "std          6.091051\n",
       "min          0.500000\n",
       "25%         13.597563\n",
       "50%         17.678395\n",
       "75%         21.724800\n",
       "max         40.823963\n",
       "Name: duration, dtype: float64"
      ]
     },
     "execution_count": 29,
     "metadata": {},
     "output_type": "execute_result"
    },
    {
     "data": {
      "image/png": "[encoded data removed]",
      "text/plain": [
       "<Figure size 800x800 with 1 Axes>"
      ]
     },
     "metadata": {},
     "output_type": "display_data"
    }
   ],
   "source": [
    "df_2.hist('duration', bins=100, range=(0, 50), figsize = (8,8), color='purple')\n",
    "plt.title('Продолжительность сессии')\n",
    "plt.xlabel('Количество поездок')\n",
    "plt.ylabel('Время')\n",
    "df_2['duration'].describe()"
   ]
  },
  {
   "cell_type": "markdown",
   "id": "663ead98",
   "metadata": {},
   "source": [
    "Для наглядности визуализирую некоторые значения, указанные ранее в описательной статистике. Например, продолжительность сесии. Среднее значение 18 минут, максимальное - практически 41."
   ]
  },
  {
   "cell_type": "markdown",
   "id": "4ef51331",
   "metadata": {},
   "source": [
    "### Объединение данных"
   ]
  },
  {
   "cell_type": "code",
   "execution_count": 30,
   "id": "680460dc",
   "metadata": {},
   "outputs": [
    {
     "data": {
      "text/plain": [
       "1534"
      ]
     },
     "execution_count": 30,
     "metadata": {},
     "output_type": "execute_result"
    }
   ],
   "source": [
    "len(df_1.index)"
   ]
  },
  {
   "cell_type": "code",
   "execution_count": 31,
   "id": "45e1afae",
   "metadata": {},
   "outputs": [
    {
     "data": {
      "text/plain": [
       "18068"
      ]
     },
     "execution_count": 31,
     "metadata": {},
     "output_type": "execute_result"
    }
   ],
   "source": [
    "len(df_2.index)"
   ]
  },
  {
   "cell_type": "code",
   "execution_count": 32,
   "id": "3b812391",
   "metadata": {},
   "outputs": [
    {
     "data": {
      "text/plain": [
       "2"
      ]
     },
     "execution_count": 32,
     "metadata": {},
     "output_type": "execute_result"
    }
   ],
   "source": [
    "len(df_3.index)"
   ]
  },
  {
   "cell_type": "code",
   "execution_count": 33,
   "id": "6bf288b5",
   "metadata": {},
   "outputs": [
    {
     "data": {
      "text/html": [
       "<div>\n",
       "<style scoped>\n",
       "    .dataframe tbody tr th:only-of-type {\n",
       "        vertical-align: middle;\n",
       "    }\n",
       "\n",
       "    .dataframe tbody tr th {\n",
       "        vertical-align: top;\n",
       "    }\n",
       "\n",
       "    .dataframe thead th {\n",
       "        text-align: right;\n",
       "    }\n",
       "</style>\n",
       "<table border=\"1\" class=\"dataframe\">\n",
       "  <thead>\n",
       "    <tr style=\"text-align: right;\">\n",
       "      <th></th>\n",
       "      <th>user_id</th>\n",
       "      <th>name</th>\n",
       "      <th>age</th>\n",
       "      <th>city</th>\n",
       "      <th>subscription_type</th>\n",
       "      <th>distance</th>\n",
       "      <th>duration</th>\n",
       "      <th>date</th>\n",
       "      <th>month</th>\n",
       "      <th>minute_price</th>\n",
       "      <th>start_ride_price</th>\n",
       "      <th>subscription_fee</th>\n",
       "    </tr>\n",
       "  </thead>\n",
       "  <tbody>\n",
       "    <tr>\n",
       "      <th>0</th>\n",
       "      <td>1</td>\n",
       "      <td>Кира</td>\n",
       "      <td>22</td>\n",
       "      <td>Тюмень</td>\n",
       "      <td>ultra</td>\n",
       "      <td>4409.919140</td>\n",
       "      <td>25.599769</td>\n",
       "      <td>2021-01-01</td>\n",
       "      <td>1</td>\n",
       "      <td>6</td>\n",
       "      <td>0</td>\n",
       "      <td>199</td>\n",
       "    </tr>\n",
       "    <tr>\n",
       "      <th>1</th>\n",
       "      <td>1</td>\n",
       "      <td>Кира</td>\n",
       "      <td>22</td>\n",
       "      <td>Тюмень</td>\n",
       "      <td>ultra</td>\n",
       "      <td>2617.592153</td>\n",
       "      <td>15.816871</td>\n",
       "      <td>2021-01-18</td>\n",
       "      <td>1</td>\n",
       "      <td>6</td>\n",
       "      <td>0</td>\n",
       "      <td>199</td>\n",
       "    </tr>\n",
       "    <tr>\n",
       "      <th>2</th>\n",
       "      <td>1</td>\n",
       "      <td>Кира</td>\n",
       "      <td>22</td>\n",
       "      <td>Тюмень</td>\n",
       "      <td>ultra</td>\n",
       "      <td>754.159807</td>\n",
       "      <td>6.232113</td>\n",
       "      <td>2021-04-20</td>\n",
       "      <td>4</td>\n",
       "      <td>6</td>\n",
       "      <td>0</td>\n",
       "      <td>199</td>\n",
       "    </tr>\n",
       "    <tr>\n",
       "      <th>3</th>\n",
       "      <td>1</td>\n",
       "      <td>Кира</td>\n",
       "      <td>22</td>\n",
       "      <td>Тюмень</td>\n",
       "      <td>ultra</td>\n",
       "      <td>2694.783254</td>\n",
       "      <td>18.511000</td>\n",
       "      <td>2021-08-11</td>\n",
       "      <td>8</td>\n",
       "      <td>6</td>\n",
       "      <td>0</td>\n",
       "      <td>199</td>\n",
       "    </tr>\n",
       "    <tr>\n",
       "      <th>4</th>\n",
       "      <td>1</td>\n",
       "      <td>Кира</td>\n",
       "      <td>22</td>\n",
       "      <td>Тюмень</td>\n",
       "      <td>ultra</td>\n",
       "      <td>4028.687306</td>\n",
       "      <td>26.265803</td>\n",
       "      <td>2021-08-28</td>\n",
       "      <td>8</td>\n",
       "      <td>6</td>\n",
       "      <td>0</td>\n",
       "      <td>199</td>\n",
       "    </tr>\n",
       "    <tr>\n",
       "      <th>5</th>\n",
       "      <td>1</td>\n",
       "      <td>Кира</td>\n",
       "      <td>22</td>\n",
       "      <td>Тюмень</td>\n",
       "      <td>ultra</td>\n",
       "      <td>2770.890808</td>\n",
       "      <td>16.650138</td>\n",
       "      <td>2021-10-09</td>\n",
       "      <td>10</td>\n",
       "      <td>6</td>\n",
       "      <td>0</td>\n",
       "      <td>199</td>\n",
       "    </tr>\n",
       "    <tr>\n",
       "      <th>6</th>\n",
       "      <td>1</td>\n",
       "      <td>Кира</td>\n",
       "      <td>22</td>\n",
       "      <td>Тюмень</td>\n",
       "      <td>ultra</td>\n",
       "      <td>3039.020292</td>\n",
       "      <td>14.927879</td>\n",
       "      <td>2021-10-19</td>\n",
       "      <td>10</td>\n",
       "      <td>6</td>\n",
       "      <td>0</td>\n",
       "      <td>199</td>\n",
       "    </tr>\n",
       "    <tr>\n",
       "      <th>7</th>\n",
       "      <td>1</td>\n",
       "      <td>Кира</td>\n",
       "      <td>22</td>\n",
       "      <td>Тюмень</td>\n",
       "      <td>ultra</td>\n",
       "      <td>2842.118050</td>\n",
       "      <td>23.117468</td>\n",
       "      <td>2021-11-06</td>\n",
       "      <td>11</td>\n",
       "      <td>6</td>\n",
       "      <td>0</td>\n",
       "      <td>199</td>\n",
       "    </tr>\n",
       "    <tr>\n",
       "      <th>8</th>\n",
       "      <td>1</td>\n",
       "      <td>Кира</td>\n",
       "      <td>22</td>\n",
       "      <td>Тюмень</td>\n",
       "      <td>ultra</td>\n",
       "      <td>3412.690668</td>\n",
       "      <td>15.238072</td>\n",
       "      <td>2021-11-14</td>\n",
       "      <td>11</td>\n",
       "      <td>6</td>\n",
       "      <td>0</td>\n",
       "      <td>199</td>\n",
       "    </tr>\n",
       "    <tr>\n",
       "      <th>9</th>\n",
       "      <td>1</td>\n",
       "      <td>Кира</td>\n",
       "      <td>22</td>\n",
       "      <td>Тюмень</td>\n",
       "      <td>ultra</td>\n",
       "      <td>748.690645</td>\n",
       "      <td>15.041884</td>\n",
       "      <td>2021-11-22</td>\n",
       "      <td>11</td>\n",
       "      <td>6</td>\n",
       "      <td>0</td>\n",
       "      <td>199</td>\n",
       "    </tr>\n",
       "  </tbody>\n",
       "</table>\n",
       "</div>"
      ],
      "text/plain": [
       "   user_id  name  age    city subscription_type     distance   duration  \\\n",
       "0        1  Кира   22  Тюмень             ultra  4409.919140  25.599769   \n",
       "1        1  Кира   22  Тюмень             ultra  2617.592153  15.816871   \n",
       "2        1  Кира   22  Тюмень             ultra   754.159807   6.232113   \n",
       "3        1  Кира   22  Тюмень             ultra  2694.783254  18.511000   \n",
       "4        1  Кира   22  Тюмень             ultra  4028.687306  26.265803   \n",
       "5        1  Кира   22  Тюмень             ultra  2770.890808  16.650138   \n",
       "6        1  Кира   22  Тюмень             ultra  3039.020292  14.927879   \n",
       "7        1  Кира   22  Тюмень             ultra  2842.118050  23.117468   \n",
       "8        1  Кира   22  Тюмень             ultra  3412.690668  15.238072   \n",
       "9        1  Кира   22  Тюмень             ultra   748.690645  15.041884   \n",
       "\n",
       "        date  month  minute_price  start_ride_price  subscription_fee  \n",
       "0 2021-01-01      1             6                 0               199  \n",
       "1 2021-01-18      1             6                 0               199  \n",
       "2 2021-04-20      4             6                 0               199  \n",
       "3 2021-08-11      8             6                 0               199  \n",
       "4 2021-08-28      8             6                 0               199  \n",
       "5 2021-10-09     10             6                 0               199  \n",
       "6 2021-10-19     10             6                 0               199  \n",
       "7 2021-11-06     11             6                 0               199  \n",
       "8 2021-11-14     11             6                 0               199  \n",
       "9 2021-11-22     11             6                 0               199  "
      ]
     },
     "execution_count": 33,
     "metadata": {},
     "output_type": "execute_result"
    }
   ],
   "source": [
    "date = df_1.merge(df_2)\n",
    "date = date.merge(df_3)\n",
    "date.head(10)"
   ]
  },
  {
   "cell_type": "markdown",
   "id": "6f81bc3b",
   "metadata": {},
   "source": [
    "Объединила все 3 таблицы."
   ]
  },
  {
   "cell_type": "code",
   "execution_count": 34,
   "id": "ae2b30e3",
   "metadata": {},
   "outputs": [
    {
     "data": {
      "text/plain": [
       "18068"
      ]
     },
     "execution_count": 34,
     "metadata": {},
     "output_type": "execute_result"
    }
   ],
   "source": [
    "len(date.index)"
   ]
  },
  {
   "cell_type": "markdown",
   "id": "f8fe19cf",
   "metadata": {},
   "source": [
    "Проверила размерность таблиц. Количество строк в таблице с поездками совпадает с количеством строк в получившемся датафрейме. Объединение корректно."
   ]
  },
  {
   "cell_type": "code",
   "execution_count": 35,
   "id": "41cfed89",
   "metadata": {},
   "outputs": [
    {
     "data": {
      "text/html": [
       "<div>\n",
       "<style scoped>\n",
       "    .dataframe tbody tr th:only-of-type {\n",
       "        vertical-align: middle;\n",
       "    }\n",
       "\n",
       "    .dataframe tbody tr th {\n",
       "        vertical-align: top;\n",
       "    }\n",
       "\n",
       "    .dataframe thead th {\n",
       "        text-align: right;\n",
       "    }\n",
       "</style>\n",
       "<table border=\"1\" class=\"dataframe\">\n",
       "  <thead>\n",
       "    <tr style=\"text-align: right;\">\n",
       "      <th></th>\n",
       "      <th>user_id</th>\n",
       "      <th>name</th>\n",
       "      <th>age</th>\n",
       "      <th>city</th>\n",
       "      <th>subscription_type</th>\n",
       "      <th>distance</th>\n",
       "      <th>duration</th>\n",
       "      <th>date</th>\n",
       "      <th>month</th>\n",
       "      <th>minute_price</th>\n",
       "      <th>start_ride_price</th>\n",
       "      <th>subscription_fee</th>\n",
       "    </tr>\n",
       "  </thead>\n",
       "  <tbody>\n",
       "    <tr>\n",
       "      <th>6500</th>\n",
       "      <td>700</td>\n",
       "      <td>Айдар</td>\n",
       "      <td>22</td>\n",
       "      <td>Омск</td>\n",
       "      <td>free</td>\n",
       "      <td>2515.690719</td>\n",
       "      <td>14.944286</td>\n",
       "      <td>2021-01-02</td>\n",
       "      <td>1</td>\n",
       "      <td>8</td>\n",
       "      <td>50</td>\n",
       "      <td>0</td>\n",
       "    </tr>\n",
       "    <tr>\n",
       "      <th>6501</th>\n",
       "      <td>700</td>\n",
       "      <td>Айдар</td>\n",
       "      <td>22</td>\n",
       "      <td>Омск</td>\n",
       "      <td>free</td>\n",
       "      <td>846.932642</td>\n",
       "      <td>16.234663</td>\n",
       "      <td>2021-02-01</td>\n",
       "      <td>2</td>\n",
       "      <td>8</td>\n",
       "      <td>50</td>\n",
       "      <td>0</td>\n",
       "    </tr>\n",
       "    <tr>\n",
       "      <th>6502</th>\n",
       "      <td>700</td>\n",
       "      <td>Айдар</td>\n",
       "      <td>22</td>\n",
       "      <td>Омск</td>\n",
       "      <td>free</td>\n",
       "      <td>4004.434142</td>\n",
       "      <td>20.016628</td>\n",
       "      <td>2021-02-04</td>\n",
       "      <td>2</td>\n",
       "      <td>8</td>\n",
       "      <td>50</td>\n",
       "      <td>0</td>\n",
       "    </tr>\n",
       "    <tr>\n",
       "      <th>6503</th>\n",
       "      <td>700</td>\n",
       "      <td>Айдар</td>\n",
       "      <td>22</td>\n",
       "      <td>Омск</td>\n",
       "      <td>free</td>\n",
       "      <td>1205.911290</td>\n",
       "      <td>9.782872</td>\n",
       "      <td>2021-02-10</td>\n",
       "      <td>2</td>\n",
       "      <td>8</td>\n",
       "      <td>50</td>\n",
       "      <td>0</td>\n",
       "    </tr>\n",
       "    <tr>\n",
       "      <th>6504</th>\n",
       "      <td>700</td>\n",
       "      <td>Айдар</td>\n",
       "      <td>22</td>\n",
       "      <td>Омск</td>\n",
       "      <td>free</td>\n",
       "      <td>3047.379435</td>\n",
       "      <td>17.427673</td>\n",
       "      <td>2021-02-14</td>\n",
       "      <td>2</td>\n",
       "      <td>8</td>\n",
       "      <td>50</td>\n",
       "      <td>0</td>\n",
       "    </tr>\n",
       "  </tbody>\n",
       "</table>\n",
       "</div>"
      ],
      "text/plain": [
       "      user_id   name  age  city subscription_type     distance   duration  \\\n",
       "6500      700  Айдар   22  Омск              free  2515.690719  14.944286   \n",
       "6501      700  Айдар   22  Омск              free   846.932642  16.234663   \n",
       "6502      700  Айдар   22  Омск              free  4004.434142  20.016628   \n",
       "6503      700  Айдар   22  Омск              free  1205.911290   9.782872   \n",
       "6504      700  Айдар   22  Омск              free  3047.379435  17.427673   \n",
       "\n",
       "           date  month  minute_price  start_ride_price  subscription_fee  \n",
       "6500 2021-01-02      1             8                50                 0  \n",
       "6501 2021-02-01      2             8                50                 0  \n",
       "6502 2021-02-04      2             8                50                 0  \n",
       "6503 2021-02-10      2             8                50                 0  \n",
       "6504 2021-02-14      2             8                50                 0  "
      ]
     },
     "execution_count": 35,
     "metadata": {},
     "output_type": "execute_result"
    }
   ],
   "source": [
    "date_free = date[date['subscription_type'] == 'free']\n",
    "date_free.head()"
   ]
  },
  {
   "cell_type": "markdown",
   "id": "a53dab32",
   "metadata": {},
   "source": [
    "Сформирую таблицу только из пользователей без подписки."
   ]
  },
  {
   "cell_type": "code",
   "execution_count": 36,
   "id": "4a39c165",
   "metadata": {},
   "outputs": [
    {
     "data": {
      "text/html": [
       "<div>\n",
       "<style scoped>\n",
       "    .dataframe tbody tr th:only-of-type {\n",
       "        vertical-align: middle;\n",
       "    }\n",
       "\n",
       "    .dataframe tbody tr th {\n",
       "        vertical-align: top;\n",
       "    }\n",
       "\n",
       "    .dataframe thead th {\n",
       "        text-align: right;\n",
       "    }\n",
       "</style>\n",
       "<table border=\"1\" class=\"dataframe\">\n",
       "  <thead>\n",
       "    <tr style=\"text-align: right;\">\n",
       "      <th></th>\n",
       "      <th>user_id</th>\n",
       "      <th>age</th>\n",
       "      <th>distance</th>\n",
       "      <th>duration</th>\n",
       "      <th>month</th>\n",
       "      <th>minute_price</th>\n",
       "      <th>start_ride_price</th>\n",
       "      <th>subscription_fee</th>\n",
       "    </tr>\n",
       "  </thead>\n",
       "  <tbody>\n",
       "    <tr>\n",
       "      <th>count</th>\n",
       "      <td>11568.000000</td>\n",
       "      <td>11568.000000</td>\n",
       "      <td>11568.000000</td>\n",
       "      <td>11568.000000</td>\n",
       "      <td>11568.000000</td>\n",
       "      <td>11568.0</td>\n",
       "      <td>11568.0</td>\n",
       "      <td>11568.0</td>\n",
       "    </tr>\n",
       "    <tr>\n",
       "      <th>mean</th>\n",
       "      <td>1120.527230</td>\n",
       "      <td>24.893326</td>\n",
       "      <td>3045.495282</td>\n",
       "      <td>17.390909</td>\n",
       "      <td>6.522994</td>\n",
       "      <td>8.0</td>\n",
       "      <td>50.0</td>\n",
       "      <td>0.0</td>\n",
       "    </tr>\n",
       "    <tr>\n",
       "      <th>std</th>\n",
       "      <td>241.165628</td>\n",
       "      <td>4.481100</td>\n",
       "      <td>1246.173806</td>\n",
       "      <td>6.326803</td>\n",
       "      <td>3.449770</td>\n",
       "      <td>0.0</td>\n",
       "      <td>0.0</td>\n",
       "      <td>0.0</td>\n",
       "    </tr>\n",
       "    <tr>\n",
       "      <th>min</th>\n",
       "      <td>700.000000</td>\n",
       "      <td>12.000000</td>\n",
       "      <td>0.855683</td>\n",
       "      <td>0.500000</td>\n",
       "      <td>1.000000</td>\n",
       "      <td>8.0</td>\n",
       "      <td>50.0</td>\n",
       "      <td>0.0</td>\n",
       "    </tr>\n",
       "    <tr>\n",
       "      <th>25%</th>\n",
       "      <td>915.000000</td>\n",
       "      <td>22.000000</td>\n",
       "      <td>2366.562689</td>\n",
       "      <td>12.958437</td>\n",
       "      <td>4.000000</td>\n",
       "      <td>8.0</td>\n",
       "      <td>50.0</td>\n",
       "      <td>0.0</td>\n",
       "    </tr>\n",
       "    <tr>\n",
       "      <th>50%</th>\n",
       "      <td>1123.000000</td>\n",
       "      <td>25.000000</td>\n",
       "      <td>3114.648465</td>\n",
       "      <td>17.326890</td>\n",
       "      <td>7.000000</td>\n",
       "      <td>8.0</td>\n",
       "      <td>50.0</td>\n",
       "      <td>0.0</td>\n",
       "    </tr>\n",
       "    <tr>\n",
       "      <th>75%</th>\n",
       "      <td>1328.000000</td>\n",
       "      <td>28.000000</td>\n",
       "      <td>3905.697894</td>\n",
       "      <td>21.594071</td>\n",
       "      <td>9.000000</td>\n",
       "      <td>8.0</td>\n",
       "      <td>50.0</td>\n",
       "      <td>0.0</td>\n",
       "    </tr>\n",
       "    <tr>\n",
       "      <th>max</th>\n",
       "      <td>1534.000000</td>\n",
       "      <td>43.000000</td>\n",
       "      <td>7211.007745</td>\n",
       "      <td>34.948498</td>\n",
       "      <td>12.000000</td>\n",
       "      <td>8.0</td>\n",
       "      <td>50.0</td>\n",
       "      <td>0.0</td>\n",
       "    </tr>\n",
       "  </tbody>\n",
       "</table>\n",
       "</div>"
      ],
      "text/plain": [
       "            user_id           age      distance      duration         month  \\\n",
       "count  11568.000000  11568.000000  11568.000000  11568.000000  11568.000000   \n",
       "mean    1120.527230     24.893326   3045.495282     17.390909      6.522994   \n",
       "std      241.165628      4.481100   1246.173806      6.326803      3.449770   \n",
       "min      700.000000     12.000000      0.855683      0.500000      1.000000   \n",
       "25%      915.000000     22.000000   2366.562689     12.958437      4.000000   \n",
       "50%     1123.000000     25.000000   3114.648465     17.326890      7.000000   \n",
       "75%     1328.000000     28.000000   3905.697894     21.594071      9.000000   \n",
       "max     1534.000000     43.000000   7211.007745     34.948498     12.000000   \n",
       "\n",
       "       minute_price  start_ride_price  subscription_fee  \n",
       "count       11568.0           11568.0           11568.0  \n",
       "mean            8.0              50.0               0.0  \n",
       "std             0.0               0.0               0.0  \n",
       "min             8.0              50.0               0.0  \n",
       "25%             8.0              50.0               0.0  \n",
       "50%             8.0              50.0               0.0  \n",
       "75%             8.0              50.0               0.0  \n",
       "max             8.0              50.0               0.0  "
      ]
     },
     "execution_count": 36,
     "metadata": {},
     "output_type": "execute_result"
    }
   ],
   "source": [
    "date_free.describe()"
   ]
  },
  {
   "cell_type": "markdown",
   "id": "b31b40f5",
   "metadata": {},
   "source": [
    "Рассмотрим описательную статистику для пользователей без подписки."
   ]
  },
  {
   "cell_type": "code",
   "execution_count": 37,
   "id": "3627d947",
   "metadata": {},
   "outputs": [
    {
     "data": {
      "image/png": "[encoded data removed]",
      "text/plain": [
       "<Figure size 800x800 with 1 Axes>"
      ]
     },
     "metadata": {},
     "output_type": "display_data"
    }
   ],
   "source": [
    "date_free.hist('duration', bins= 10 , grid= False, figsize=(8,8), color='purple')\n",
    "plt.title('Бесплатный тариф')\n",
    "plt.xlabel('Время поездок')\n",
    "plt.ylabel('Количество поездок');"
   ]
  },
  {
   "cell_type": "markdown",
   "id": "b0a694d9",
   "metadata": {},
   "source": [
    "Рассмотрим зависимость времени поездок от количества поездок для пользователей без подписки. Наибольшее количество поездок занимает от 12 до 21 минуты - график демонтрирует информацию представленную ранее в описательной статистике (от первого до третьего квартиля)."
   ]
  },
  {
   "cell_type": "code",
   "execution_count": 38,
   "id": "36f0e8db",
   "metadata": {},
   "outputs": [
    {
     "data": {
      "image/png": "[encoded data removed]",
      "text/plain": [
       "<Figure size 800x800 with 1 Axes>"
      ]
     },
     "metadata": {},
     "output_type": "display_data"
    }
   ],
   "source": [
    "date_free.hist(column='distance', bins= 10 , grid= False, figsize=(8,8), color='purple')\n",
    "plt.title('Бесплатный тариф')\n",
    "plt.xlabel('Расстояние поездок')\n",
    "plt.ylabel('Количество поездок');"
   ]
  },
  {
   "cell_type": "markdown",
   "id": "0b2b58d5",
   "metadata": {},
   "source": [
    "Наибольшее количество поездок ограничиваются на расстоянии 2 366 до 3 905 м. Данный график так же визуализирует данные из описательной статистики выше."
   ]
  },
  {
   "cell_type": "code",
   "execution_count": 39,
   "id": "7bc3ee22",
   "metadata": {},
   "outputs": [
    {
     "data": {
      "image/png": "[encoded data removed]",
      "text/plain": [
       "<Figure size 640x480 with 1 Axes>"
      ]
     },
     "metadata": {},
     "output_type": "display_data"
    },
    {
     "data": {
      "text/plain": [
       "<Figure size 5000x5000 with 0 Axes>"
      ]
     },
     "metadata": {},
     "output_type": "display_data"
    }
   ],
   "source": [
    "date_free.plot.scatter(x = 'distance', y = 'duration', c='purple')\n",
    "plt.title('Бесплатный тариф')\n",
    "plt.xlabel('Расстояние поездок')\n",
    "plt.ylabel('Количество поездок')\n",
    "plt.figure(figsize=(50,50))\n",
    "plt.show();"
   ]
  },
  {
   "cell_type": "markdown",
   "id": "cab100fe",
   "metadata": {},
   "source": [
    "Данный график демонстрирует плотность расстояния и количества поездок. График не очень наглядный, тем не менее, можно заметить, что основная масса записей находятся на расстоянии до 4 000 м, далее в графике появляются пробелы, количество аномальных выбрасов незначительное."
   ]
  },
  {
   "cell_type": "code",
   "execution_count": 40,
   "id": "4febe138",
   "metadata": {},
   "outputs": [
    {
     "data": {
      "text/html": [
       "<div>\n",
       "<style scoped>\n",
       "    .dataframe tbody tr th:only-of-type {\n",
       "        vertical-align: middle;\n",
       "    }\n",
       "\n",
       "    .dataframe tbody tr th {\n",
       "        vertical-align: top;\n",
       "    }\n",
       "\n",
       "    .dataframe thead th {\n",
       "        text-align: right;\n",
       "    }\n",
       "</style>\n",
       "<table border=\"1\" class=\"dataframe\">\n",
       "  <thead>\n",
       "    <tr style=\"text-align: right;\">\n",
       "      <th></th>\n",
       "      <th>user_id</th>\n",
       "      <th>name</th>\n",
       "      <th>age</th>\n",
       "      <th>city</th>\n",
       "      <th>subscription_type</th>\n",
       "      <th>distance</th>\n",
       "      <th>duration</th>\n",
       "      <th>date</th>\n",
       "      <th>month</th>\n",
       "      <th>minute_price</th>\n",
       "      <th>start_ride_price</th>\n",
       "      <th>subscription_fee</th>\n",
       "    </tr>\n",
       "  </thead>\n",
       "  <tbody>\n",
       "    <tr>\n",
       "      <th>0</th>\n",
       "      <td>1</td>\n",
       "      <td>Кира</td>\n",
       "      <td>22</td>\n",
       "      <td>Тюмень</td>\n",
       "      <td>ultra</td>\n",
       "      <td>4409.919140</td>\n",
       "      <td>25.599769</td>\n",
       "      <td>2021-01-01</td>\n",
       "      <td>1</td>\n",
       "      <td>6</td>\n",
       "      <td>0</td>\n",
       "      <td>199</td>\n",
       "    </tr>\n",
       "    <tr>\n",
       "      <th>1</th>\n",
       "      <td>1</td>\n",
       "      <td>Кира</td>\n",
       "      <td>22</td>\n",
       "      <td>Тюмень</td>\n",
       "      <td>ultra</td>\n",
       "      <td>2617.592153</td>\n",
       "      <td>15.816871</td>\n",
       "      <td>2021-01-18</td>\n",
       "      <td>1</td>\n",
       "      <td>6</td>\n",
       "      <td>0</td>\n",
       "      <td>199</td>\n",
       "    </tr>\n",
       "    <tr>\n",
       "      <th>2</th>\n",
       "      <td>1</td>\n",
       "      <td>Кира</td>\n",
       "      <td>22</td>\n",
       "      <td>Тюмень</td>\n",
       "      <td>ultra</td>\n",
       "      <td>754.159807</td>\n",
       "      <td>6.232113</td>\n",
       "      <td>2021-04-20</td>\n",
       "      <td>4</td>\n",
       "      <td>6</td>\n",
       "      <td>0</td>\n",
       "      <td>199</td>\n",
       "    </tr>\n",
       "    <tr>\n",
       "      <th>3</th>\n",
       "      <td>1</td>\n",
       "      <td>Кира</td>\n",
       "      <td>22</td>\n",
       "      <td>Тюмень</td>\n",
       "      <td>ultra</td>\n",
       "      <td>2694.783254</td>\n",
       "      <td>18.511000</td>\n",
       "      <td>2021-08-11</td>\n",
       "      <td>8</td>\n",
       "      <td>6</td>\n",
       "      <td>0</td>\n",
       "      <td>199</td>\n",
       "    </tr>\n",
       "    <tr>\n",
       "      <th>4</th>\n",
       "      <td>1</td>\n",
       "      <td>Кира</td>\n",
       "      <td>22</td>\n",
       "      <td>Тюмень</td>\n",
       "      <td>ultra</td>\n",
       "      <td>4028.687306</td>\n",
       "      <td>26.265803</td>\n",
       "      <td>2021-08-28</td>\n",
       "      <td>8</td>\n",
       "      <td>6</td>\n",
       "      <td>0</td>\n",
       "      <td>199</td>\n",
       "    </tr>\n",
       "  </tbody>\n",
       "</table>\n",
       "</div>"
      ],
      "text/plain": [
       "   user_id  name  age    city subscription_type     distance   duration  \\\n",
       "0        1  Кира   22  Тюмень             ultra  4409.919140  25.599769   \n",
       "1        1  Кира   22  Тюмень             ultra  2617.592153  15.816871   \n",
       "2        1  Кира   22  Тюмень             ultra   754.159807   6.232113   \n",
       "3        1  Кира   22  Тюмень             ultra  2694.783254  18.511000   \n",
       "4        1  Кира   22  Тюмень             ultra  4028.687306  26.265803   \n",
       "\n",
       "        date  month  minute_price  start_ride_price  subscription_fee  \n",
       "0 2021-01-01      1             6                 0               199  \n",
       "1 2021-01-18      1             6                 0               199  \n",
       "2 2021-04-20      4             6                 0               199  \n",
       "3 2021-08-11      8             6                 0               199  \n",
       "4 2021-08-28      8             6                 0               199  "
      ]
     },
     "execution_count": 40,
     "metadata": {},
     "output_type": "execute_result"
    }
   ],
   "source": [
    "date_ultra = date[date['subscription_type'] == 'ultra']\n",
    "date_ultra.head()"
   ]
  },
  {
   "cell_type": "markdown",
   "id": "9a4ccd3c",
   "metadata": {},
   "source": [
    "Сформирую таблицу для пользователей с подпиской и абонентской платой."
   ]
  },
  {
   "cell_type": "code",
   "execution_count": 41,
   "id": "a4f18024",
   "metadata": {},
   "outputs": [
    {
     "data": {
      "text/html": [
       "<div>\n",
       "<style scoped>\n",
       "    .dataframe tbody tr th:only-of-type {\n",
       "        vertical-align: middle;\n",
       "    }\n",
       "\n",
       "    .dataframe tbody tr th {\n",
       "        vertical-align: top;\n",
       "    }\n",
       "\n",
       "    .dataframe thead th {\n",
       "        text-align: right;\n",
       "    }\n",
       "</style>\n",
       "<table border=\"1\" class=\"dataframe\">\n",
       "  <thead>\n",
       "    <tr style=\"text-align: right;\">\n",
       "      <th></th>\n",
       "      <th>user_id</th>\n",
       "      <th>age</th>\n",
       "      <th>distance</th>\n",
       "      <th>duration</th>\n",
       "      <th>month</th>\n",
       "      <th>minute_price</th>\n",
       "      <th>start_ride_price</th>\n",
       "      <th>subscription_fee</th>\n",
       "    </tr>\n",
       "  </thead>\n",
       "  <tbody>\n",
       "    <tr>\n",
       "      <th>count</th>\n",
       "      <td>6500.000000</td>\n",
       "      <td>6500.000000</td>\n",
       "      <td>6500.000000</td>\n",
       "      <td>6500.000000</td>\n",
       "      <td>6500.000000</td>\n",
       "      <td>6500.0</td>\n",
       "      <td>6500.0</td>\n",
       "      <td>6500.0</td>\n",
       "    </tr>\n",
       "    <tr>\n",
       "      <th>mean</th>\n",
       "      <td>348.725385</td>\n",
       "      <td>24.892615</td>\n",
       "      <td>3115.445388</td>\n",
       "      <td>18.541985</td>\n",
       "      <td>6.422308</td>\n",
       "      <td>6.0</td>\n",
       "      <td>0.0</td>\n",
       "      <td>199.0</td>\n",
       "    </tr>\n",
       "    <tr>\n",
       "      <th>std</th>\n",
       "      <td>201.099339</td>\n",
       "      <td>4.757208</td>\n",
       "      <td>836.895330</td>\n",
       "      <td>5.572048</td>\n",
       "      <td>3.414616</td>\n",
       "      <td>0.0</td>\n",
       "      <td>0.0</td>\n",
       "      <td>0.0</td>\n",
       "    </tr>\n",
       "    <tr>\n",
       "      <th>min</th>\n",
       "      <td>1.000000</td>\n",
       "      <td>12.000000</td>\n",
       "      <td>244.210438</td>\n",
       "      <td>3.760353</td>\n",
       "      <td>1.000000</td>\n",
       "      <td>6.0</td>\n",
       "      <td>0.0</td>\n",
       "      <td>199.0</td>\n",
       "    </tr>\n",
       "    <tr>\n",
       "      <th>25%</th>\n",
       "      <td>175.000000</td>\n",
       "      <td>22.000000</td>\n",
       "      <td>2785.444017</td>\n",
       "      <td>14.524654</td>\n",
       "      <td>4.000000</td>\n",
       "      <td>6.0</td>\n",
       "      <td>0.0</td>\n",
       "      <td>199.0</td>\n",
       "    </tr>\n",
       "    <tr>\n",
       "      <th>50%</th>\n",
       "      <td>351.000000</td>\n",
       "      <td>25.000000</td>\n",
       "      <td>3148.637229</td>\n",
       "      <td>18.178153</td>\n",
       "      <td>6.000000</td>\n",
       "      <td>6.0</td>\n",
       "      <td>0.0</td>\n",
       "      <td>199.0</td>\n",
       "    </tr>\n",
       "    <tr>\n",
       "      <th>75%</th>\n",
       "      <td>525.000000</td>\n",
       "      <td>28.000000</td>\n",
       "      <td>3560.574425</td>\n",
       "      <td>21.884129</td>\n",
       "      <td>9.000000</td>\n",
       "      <td>6.0</td>\n",
       "      <td>0.0</td>\n",
       "      <td>199.0</td>\n",
       "    </tr>\n",
       "    <tr>\n",
       "      <th>max</th>\n",
       "      <td>699.000000</td>\n",
       "      <td>38.000000</td>\n",
       "      <td>5699.769662</td>\n",
       "      <td>40.823963</td>\n",
       "      <td>12.000000</td>\n",
       "      <td>6.0</td>\n",
       "      <td>0.0</td>\n",
       "      <td>199.0</td>\n",
       "    </tr>\n",
       "  </tbody>\n",
       "</table>\n",
       "</div>"
      ],
      "text/plain": [
       "           user_id          age     distance     duration        month  \\\n",
       "count  6500.000000  6500.000000  6500.000000  6500.000000  6500.000000   \n",
       "mean    348.725385    24.892615  3115.445388    18.541985     6.422308   \n",
       "std     201.099339     4.757208   836.895330     5.572048     3.414616   \n",
       "min       1.000000    12.000000   244.210438     3.760353     1.000000   \n",
       "25%     175.000000    22.000000  2785.444017    14.524654     4.000000   \n",
       "50%     351.000000    25.000000  3148.637229    18.178153     6.000000   \n",
       "75%     525.000000    28.000000  3560.574425    21.884129     9.000000   \n",
       "max     699.000000    38.000000  5699.769662    40.823963    12.000000   \n",
       "\n",
       "       minute_price  start_ride_price  subscription_fee  \n",
       "count        6500.0            6500.0            6500.0  \n",
       "mean            6.0               0.0             199.0  \n",
       "std             0.0               0.0               0.0  \n",
       "min             6.0               0.0             199.0  \n",
       "25%             6.0               0.0             199.0  \n",
       "50%             6.0               0.0             199.0  \n",
       "75%             6.0               0.0             199.0  \n",
       "max             6.0               0.0             199.0  "
      ]
     },
     "execution_count": 41,
     "metadata": {},
     "output_type": "execute_result"
    }
   ],
   "source": [
    "date_ultra.describe()"
   ]
  },
  {
   "cell_type": "markdown",
   "id": "19cdfccb",
   "metadata": {},
   "source": [
    "Выведем описательную статистику для таких пользователей."
   ]
  },
  {
   "cell_type": "code",
   "execution_count": 42,
   "id": "b614945b",
   "metadata": {},
   "outputs": [
    {
     "data": {
      "image/png": "[encoded data removed]",
      "text/plain": [
       "<Figure size 800x800 with 1 Axes>"
      ]
     },
     "metadata": {},
     "output_type": "display_data"
    }
   ],
   "source": [
    "date_ultra.hist(column='duration', bins= 10 , grid= False , figsize=(8,8), color='purple')\n",
    "plt.title('Платный тариф')\n",
    "plt.xlabel('Время поездок')\n",
    "plt.ylabel('Количество поездок')\n",
    "plt.show();"
   ]
  },
  {
   "cell_type": "markdown",
   "id": "ebfa67de",
   "metadata": {},
   "source": [
    "Рассмотрим зависимость времени поездок от количества поездок для пользователей с подпиской. Наибольшее количество поездок занимает от 14 до 24 минут - график демонтрирует информацию представленную ранее в описательной статистике (от первого до третьего квартиля). Минимальное и максимальное время использования самоката пользователями с подпиской выше, чем у пользователей без подписки. Возможно, это связано с наличием абоненсткой платы и отсутствием платы за старт."
   ]
  },
  {
   "cell_type": "code",
   "execution_count": 43,
   "id": "57d18c23",
   "metadata": {},
   "outputs": [
    {
     "data": {
      "image/png": "[encoded data removed]",
      "text/plain": [
       "<Figure size 800x800 with 1 Axes>"
      ]
     },
     "metadata": {},
     "output_type": "display_data"
    }
   ],
   "source": [
    "date_ultra.hist(column='distance', bins= 10 , grid= False, figsize=(8,8), color='purple')\n",
    "plt.title('Платный тариф')\n",
    "plt.xlabel('Расстояние поездок')\n",
    "plt.ylabel('Количество поездок')\n",
    "plt.show();"
   ]
  },
  {
   "cell_type": "markdown",
   "id": "73f3ca9e",
   "metadata": {},
   "source": [
    "Наибольшее количество поездок ограничиваются на расстоянии 2 785 до 3 560 м. Данный график так же визуализирует данные из описательной статистики выше."
   ]
  },
  {
   "cell_type": "code",
   "execution_count": 44,
   "id": "d4b5faa3",
   "metadata": {},
   "outputs": [
    {
     "data": {
      "image/png": "[encoded data removed]",
      "text/plain": [
       "<Figure size 640x480 with 1 Axes>"
      ]
     },
     "metadata": {},
     "output_type": "display_data"
    },
    {
     "data": {
      "text/plain": [
       "<Figure size 800x800 with 0 Axes>"
      ]
     },
     "metadata": {},
     "output_type": "display_data"
    }
   ],
   "source": [
    "date_ultra.plot.scatter(x = 'distance', y = 'duration', c='purple')\n",
    "plt.title('Платный тариф')\n",
    "plt.xlabel('Расстояние поездок')\n",
    "plt.ylabel('Количество поездок')\n",
    "plt.figure(figsize=(8,8))\n",
    "plt.show();"
   ]
  },
  {
   "cell_type": "markdown",
   "id": "f060e53f",
   "metadata": {},
   "source": [
    "Данный график демонстрирует плотность расстояния и количества поездок. График так же не очень наглядный, тем не менее, можно заметить, что основная масса записей находятся на расстоянии до 3 500 м, далее в графике появляются пробелы, количество аномальных выбасов незначительное."
   ]
  },
  {
   "cell_type": "markdown",
   "id": "402d620f",
   "metadata": {},
   "source": [
    "### Подсчёт выручки"
   ]
  },
  {
   "cell_type": "code",
   "execution_count": 45,
   "id": "82fdc2de",
   "metadata": {},
   "outputs": [
    {
     "data": {
      "text/html": [
       "<div>\n",
       "<style scoped>\n",
       "    .dataframe tbody tr th:only-of-type {\n",
       "        vertical-align: middle;\n",
       "    }\n",
       "\n",
       "    .dataframe tbody tr th {\n",
       "        vertical-align: top;\n",
       "    }\n",
       "\n",
       "    .dataframe thead th {\n",
       "        text-align: right;\n",
       "    }\n",
       "</style>\n",
       "<table border=\"1\" class=\"dataframe\">\n",
       "  <thead>\n",
       "    <tr style=\"text-align: right;\">\n",
       "      <th></th>\n",
       "      <th>user_id</th>\n",
       "      <th>distance</th>\n",
       "      <th>duration</th>\n",
       "      <th>date</th>\n",
       "      <th>month</th>\n",
       "    </tr>\n",
       "  </thead>\n",
       "  <tbody>\n",
       "    <tr>\n",
       "      <th>0</th>\n",
       "      <td>1</td>\n",
       "      <td>4409.919140</td>\n",
       "      <td>26.0</td>\n",
       "      <td>2021-01-01</td>\n",
       "      <td>1</td>\n",
       "    </tr>\n",
       "    <tr>\n",
       "      <th>1</th>\n",
       "      <td>1</td>\n",
       "      <td>2617.592153</td>\n",
       "      <td>16.0</td>\n",
       "      <td>2021-01-18</td>\n",
       "      <td>1</td>\n",
       "    </tr>\n",
       "    <tr>\n",
       "      <th>2</th>\n",
       "      <td>1</td>\n",
       "      <td>754.159807</td>\n",
       "      <td>7.0</td>\n",
       "      <td>2021-04-20</td>\n",
       "      <td>4</td>\n",
       "    </tr>\n",
       "    <tr>\n",
       "      <th>3</th>\n",
       "      <td>1</td>\n",
       "      <td>2694.783254</td>\n",
       "      <td>19.0</td>\n",
       "      <td>2021-08-11</td>\n",
       "      <td>8</td>\n",
       "    </tr>\n",
       "    <tr>\n",
       "      <th>4</th>\n",
       "      <td>1</td>\n",
       "      <td>4028.687306</td>\n",
       "      <td>27.0</td>\n",
       "      <td>2021-08-28</td>\n",
       "      <td>8</td>\n",
       "    </tr>\n",
       "  </tbody>\n",
       "</table>\n",
       "</div>"
      ],
      "text/plain": [
       "   user_id     distance  duration       date  month\n",
       "0        1  4409.919140      26.0 2021-01-01      1\n",
       "1        1  2617.592153      16.0 2021-01-18      1\n",
       "2        1   754.159807       7.0 2021-04-20      4\n",
       "3        1  2694.783254      19.0 2021-08-11      8\n",
       "4        1  4028.687306      27.0 2021-08-28      8"
      ]
     },
     "execution_count": 45,
     "metadata": {},
     "output_type": "execute_result"
    }
   ],
   "source": [
    "df_2['duration'] = np.ceil(df_2['duration'])\n",
    "df_2.head()"
   ]
  },
  {
   "cell_type": "markdown",
   "id": "77506b00",
   "metadata": {},
   "source": [
    "Округлю значения в столбце время поездки."
   ]
  },
  {
   "cell_type": "code",
   "execution_count": 46,
   "id": "53049e0a",
   "metadata": {},
   "outputs": [
    {
     "data": {
      "text/html": [
       "<div>\n",
       "<style scoped>\n",
       "    .dataframe tbody tr th:only-of-type {\n",
       "        vertical-align: middle;\n",
       "    }\n",
       "\n",
       "    .dataframe tbody tr th {\n",
       "        vertical-align: top;\n",
       "    }\n",
       "\n",
       "    .dataframe thead th {\n",
       "        text-align: right;\n",
       "    }\n",
       "</style>\n",
       "<table border=\"1\" class=\"dataframe\">\n",
       "  <thead>\n",
       "    <tr style=\"text-align: right;\">\n",
       "      <th></th>\n",
       "      <th></th>\n",
       "      <th>distance</th>\n",
       "      <th>duration</th>\n",
       "      <th>name</th>\n",
       "      <th>subscription_type</th>\n",
       "    </tr>\n",
       "    <tr>\n",
       "      <th>month</th>\n",
       "      <th>user_id</th>\n",
       "      <th></th>\n",
       "      <th></th>\n",
       "      <th></th>\n",
       "      <th></th>\n",
       "    </tr>\n",
       "  </thead>\n",
       "  <tbody>\n",
       "    <tr>\n",
       "      <th rowspan=\"10\" valign=\"top\">1</th>\n",
       "      <th>1</th>\n",
       "      <td>7027.511294</td>\n",
       "      <td>41.416640</td>\n",
       "      <td>2</td>\n",
       "      <td>ultra</td>\n",
       "    </tr>\n",
       "    <tr>\n",
       "      <th>1061</th>\n",
       "      <td>12637.249630</td>\n",
       "      <td>41.127775</td>\n",
       "      <td>3</td>\n",
       "      <td>free</td>\n",
       "    </tr>\n",
       "    <tr>\n",
       "      <th>1063</th>\n",
       "      <td>3276.362299</td>\n",
       "      <td>9.560836</td>\n",
       "      <td>1</td>\n",
       "      <td>free</td>\n",
       "    </tr>\n",
       "    <tr>\n",
       "      <th>1064</th>\n",
       "      <td>5297.324649</td>\n",
       "      <td>14.224595</td>\n",
       "      <td>1</td>\n",
       "      <td>free</td>\n",
       "    </tr>\n",
       "    <tr>\n",
       "      <th>1065</th>\n",
       "      <td>14547.099333</td>\n",
       "      <td>96.301646</td>\n",
       "      <td>4</td>\n",
       "      <td>free</td>\n",
       "    </tr>\n",
       "    <tr>\n",
       "      <th>1066</th>\n",
       "      <td>2809.064949</td>\n",
       "      <td>18.022662</td>\n",
       "      <td>1</td>\n",
       "      <td>free</td>\n",
       "    </tr>\n",
       "    <tr>\n",
       "      <th>1067</th>\n",
       "      <td>3864.900780</td>\n",
       "      <td>21.588668</td>\n",
       "      <td>1</td>\n",
       "      <td>free</td>\n",
       "    </tr>\n",
       "    <tr>\n",
       "      <th>1069</th>\n",
       "      <td>7007.076943</td>\n",
       "      <td>50.760308</td>\n",
       "      <td>3</td>\n",
       "      <td>free</td>\n",
       "    </tr>\n",
       "    <tr>\n",
       "      <th>1071</th>\n",
       "      <td>3635.094136</td>\n",
       "      <td>14.116980</td>\n",
       "      <td>1</td>\n",
       "      <td>free</td>\n",
       "    </tr>\n",
       "    <tr>\n",
       "      <th>1072</th>\n",
       "      <td>2498.615999</td>\n",
       "      <td>10.814407</td>\n",
       "      <td>1</td>\n",
       "      <td>free</td>\n",
       "    </tr>\n",
       "  </tbody>\n",
       "</table>\n",
       "</div>"
      ],
      "text/plain": [
       "                   distance   duration  name subscription_type\n",
       "month user_id                                                 \n",
       "1     1         7027.511294  41.416640     2             ultra\n",
       "      1061     12637.249630  41.127775     3              free\n",
       "      1063      3276.362299   9.560836     1              free\n",
       "      1064      5297.324649  14.224595     1              free\n",
       "      1065     14547.099333  96.301646     4              free\n",
       "      1066      2809.064949  18.022662     1              free\n",
       "      1067      3864.900780  21.588668     1              free\n",
       "      1069      7007.076943  50.760308     3              free\n",
       "      1071      3635.094136  14.116980     1              free\n",
       "      1072      2498.615999  10.814407     1              free"
      ]
     },
     "execution_count": 46,
     "metadata": {},
     "output_type": "execute_result"
    }
   ],
   "source": [
    "data_sum = pd.pivot_table(date,\n",
    "                           index=['month', 'user_id'],\n",
    "                           values = ['distance', 'duration', 'name', 'subscription_type'],\n",
    "                           aggfunc = {'distance': sum, \n",
    "                                      'duration' : 'sum', \n",
    "                                      'name' : len,\n",
    "                                      'subscription_type': max,\n",
    "                                      })\n",
    "data_sum.sort_values(by='month').head(10)"
   ]
  },
  {
   "cell_type": "markdown",
   "id": "e36716a0",
   "metadata": {},
   "source": [
    "Для подсчёта выручки сформирую сводную таблицу, которая будет содержать расстояние, которое проехал пользователь, время поездки, количество поездок и тариф. Сгруппирую данную информацию по пользователям и месяцам."
   ]
  },
  {
   "cell_type": "code",
   "execution_count": 47,
   "id": "f9fca1f2",
   "metadata": {},
   "outputs": [
    {
     "data": {
      "text/plain": [
       "distance             0.0\n",
       "duration             0.0\n",
       "name                 0.0\n",
       "subscription_type    0.0\n",
       "dtype: float64"
      ]
     },
     "execution_count": 47,
     "metadata": {},
     "output_type": "execute_result"
    }
   ],
   "source": [
    "data_sum.isnull().sum()/len(df_3)*100"
   ]
  },
  {
   "cell_type": "markdown",
   "id": "0e78c88c",
   "metadata": {},
   "source": [
    "Пропуски отсутствуют."
   ]
  },
  {
   "cell_type": "code",
   "execution_count": 48,
   "id": "d31caa28",
   "metadata": {},
   "outputs": [],
   "source": [
    "data_sum.rename(columns = {'name' : 'count_tips'}, inplace = True)"
   ]
  },
  {
   "cell_type": "markdown",
   "id": "a4b35004",
   "metadata": {},
   "source": [
    "Переименую столбец name для более логичного представления информации."
   ]
  },
  {
   "cell_type": "code",
   "execution_count": 49,
   "id": "4b77a524",
   "metadata": {},
   "outputs": [
    {
     "data": {
      "text/html": [
       "<div>\n",
       "<style scoped>\n",
       "    .dataframe tbody tr th:only-of-type {\n",
       "        vertical-align: middle;\n",
       "    }\n",
       "\n",
       "    .dataframe tbody tr th {\n",
       "        vertical-align: top;\n",
       "    }\n",
       "\n",
       "    .dataframe thead th {\n",
       "        text-align: right;\n",
       "    }\n",
       "</style>\n",
       "<table border=\"1\" class=\"dataframe\">\n",
       "  <thead>\n",
       "    <tr style=\"text-align: right;\">\n",
       "      <th></th>\n",
       "      <th></th>\n",
       "      <th>distance</th>\n",
       "      <th>duration</th>\n",
       "      <th>count_tips</th>\n",
       "      <th>subscription_type</th>\n",
       "      <th>start</th>\n",
       "      <th>sibscription</th>\n",
       "      <th>sum_one_min</th>\n",
       "    </tr>\n",
       "    <tr>\n",
       "      <th>month</th>\n",
       "      <th>user_id</th>\n",
       "      <th></th>\n",
       "      <th></th>\n",
       "      <th></th>\n",
       "      <th></th>\n",
       "      <th></th>\n",
       "      <th></th>\n",
       "      <th></th>\n",
       "    </tr>\n",
       "  </thead>\n",
       "  <tbody>\n",
       "    <tr>\n",
       "      <th rowspan=\"10\" valign=\"top\">1</th>\n",
       "      <th>1</th>\n",
       "      <td>7027.511294</td>\n",
       "      <td>41.416640</td>\n",
       "      <td>2</td>\n",
       "      <td>ultra</td>\n",
       "      <td>0</td>\n",
       "      <td>199</td>\n",
       "      <td>6</td>\n",
       "    </tr>\n",
       "    <tr>\n",
       "      <th>1061</th>\n",
       "      <td>12637.249630</td>\n",
       "      <td>41.127775</td>\n",
       "      <td>3</td>\n",
       "      <td>free</td>\n",
       "      <td>50</td>\n",
       "      <td>0</td>\n",
       "      <td>8</td>\n",
       "    </tr>\n",
       "    <tr>\n",
       "      <th>1063</th>\n",
       "      <td>3276.362299</td>\n",
       "      <td>9.560836</td>\n",
       "      <td>1</td>\n",
       "      <td>free</td>\n",
       "      <td>50</td>\n",
       "      <td>0</td>\n",
       "      <td>8</td>\n",
       "    </tr>\n",
       "    <tr>\n",
       "      <th>1064</th>\n",
       "      <td>5297.324649</td>\n",
       "      <td>14.224595</td>\n",
       "      <td>1</td>\n",
       "      <td>free</td>\n",
       "      <td>50</td>\n",
       "      <td>0</td>\n",
       "      <td>8</td>\n",
       "    </tr>\n",
       "    <tr>\n",
       "      <th>1065</th>\n",
       "      <td>14547.099333</td>\n",
       "      <td>96.301646</td>\n",
       "      <td>4</td>\n",
       "      <td>free</td>\n",
       "      <td>50</td>\n",
       "      <td>0</td>\n",
       "      <td>8</td>\n",
       "    </tr>\n",
       "    <tr>\n",
       "      <th>1066</th>\n",
       "      <td>2809.064949</td>\n",
       "      <td>18.022662</td>\n",
       "      <td>1</td>\n",
       "      <td>free</td>\n",
       "      <td>50</td>\n",
       "      <td>0</td>\n",
       "      <td>8</td>\n",
       "    </tr>\n",
       "    <tr>\n",
       "      <th>1067</th>\n",
       "      <td>3864.900780</td>\n",
       "      <td>21.588668</td>\n",
       "      <td>1</td>\n",
       "      <td>free</td>\n",
       "      <td>50</td>\n",
       "      <td>0</td>\n",
       "      <td>8</td>\n",
       "    </tr>\n",
       "    <tr>\n",
       "      <th>1069</th>\n",
       "      <td>7007.076943</td>\n",
       "      <td>50.760308</td>\n",
       "      <td>3</td>\n",
       "      <td>free</td>\n",
       "      <td>50</td>\n",
       "      <td>0</td>\n",
       "      <td>8</td>\n",
       "    </tr>\n",
       "    <tr>\n",
       "      <th>1071</th>\n",
       "      <td>3635.094136</td>\n",
       "      <td>14.116980</td>\n",
       "      <td>1</td>\n",
       "      <td>free</td>\n",
       "      <td>50</td>\n",
       "      <td>0</td>\n",
       "      <td>8</td>\n",
       "    </tr>\n",
       "    <tr>\n",
       "      <th>1072</th>\n",
       "      <td>2498.615999</td>\n",
       "      <td>10.814407</td>\n",
       "      <td>1</td>\n",
       "      <td>free</td>\n",
       "      <td>50</td>\n",
       "      <td>0</td>\n",
       "      <td>8</td>\n",
       "    </tr>\n",
       "  </tbody>\n",
       "</table>\n",
       "</div>"
      ],
      "text/plain": [
       "                   distance   duration  count_tips subscription_type  start  \\\n",
       "month user_id                                                                 \n",
       "1     1         7027.511294  41.416640           2             ultra      0   \n",
       "      1061     12637.249630  41.127775           3              free     50   \n",
       "      1063      3276.362299   9.560836           1              free     50   \n",
       "      1064      5297.324649  14.224595           1              free     50   \n",
       "      1065     14547.099333  96.301646           4              free     50   \n",
       "      1066      2809.064949  18.022662           1              free     50   \n",
       "      1067      3864.900780  21.588668           1              free     50   \n",
       "      1069      7007.076943  50.760308           3              free     50   \n",
       "      1071      3635.094136  14.116980           1              free     50   \n",
       "      1072      2498.615999  10.814407           1              free     50   \n",
       "\n",
       "               sibscription  sum_one_min  \n",
       "month user_id                             \n",
       "1     1                 199            6  \n",
       "      1061                0            8  \n",
       "      1063                0            8  \n",
       "      1064                0            8  \n",
       "      1065                0            8  \n",
       "      1066                0            8  \n",
       "      1067                0            8  \n",
       "      1069                0            8  \n",
       "      1071                0            8  \n",
       "      1072                0            8  "
      ]
     },
     "execution_count": 49,
     "metadata": {},
     "output_type": "execute_result"
    }
   ],
   "source": [
    "data_sum['start'] = np.where(data_sum.subscription_type == 'free','50', '0').astype('int')\n",
    "data_sum['sibscription'] = np.where(data_sum.subscription_type == 'free','0', '199').astype('int')\n",
    "data_sum['sum_one_min'] = np.where(data_sum.subscription_type == 'free','8', '6').astype('int')\n",
    "data_sum.sort_values(by='month').head(10)"
   ]
  },
  {
   "cell_type": "markdown",
   "id": "b74113db",
   "metadata": {},
   "source": [
    "Для расчёта помесячной выручки, добавлю в сводную таблицу столбцы со стоимостью старта, стоимостью одной минуты поездки и стоимостью подписки для каждого пользователя."
   ]
  },
  {
   "cell_type": "code",
   "execution_count": 50,
   "id": "e5425bd5",
   "metadata": {},
   "outputs": [
    {
     "data": {
      "text/html": [
       "<div>\n",
       "<style scoped>\n",
       "    .dataframe tbody tr th:only-of-type {\n",
       "        vertical-align: middle;\n",
       "    }\n",
       "\n",
       "    .dataframe tbody tr th {\n",
       "        vertical-align: top;\n",
       "    }\n",
       "\n",
       "    .dataframe thead th {\n",
       "        text-align: right;\n",
       "    }\n",
       "</style>\n",
       "<table border=\"1\" class=\"dataframe\">\n",
       "  <thead>\n",
       "    <tr style=\"text-align: right;\">\n",
       "      <th></th>\n",
       "      <th></th>\n",
       "      <th>distance</th>\n",
       "      <th>duration</th>\n",
       "      <th>count_tips</th>\n",
       "      <th>subscription_type</th>\n",
       "      <th>start</th>\n",
       "      <th>sibscription</th>\n",
       "      <th>sum_one_min</th>\n",
       "      <th>revenue</th>\n",
       "    </tr>\n",
       "    <tr>\n",
       "      <th>month</th>\n",
       "      <th>user_id</th>\n",
       "      <th></th>\n",
       "      <th></th>\n",
       "      <th></th>\n",
       "      <th></th>\n",
       "      <th></th>\n",
       "      <th></th>\n",
       "      <th></th>\n",
       "      <th></th>\n",
       "    </tr>\n",
       "  </thead>\n",
       "  <tbody>\n",
       "    <tr>\n",
       "      <th rowspan=\"10\" valign=\"top\">1</th>\n",
       "      <th>1</th>\n",
       "      <td>7027.511294</td>\n",
       "      <td>41.416640</td>\n",
       "      <td>2</td>\n",
       "      <td>ultra</td>\n",
       "      <td>0</td>\n",
       "      <td>199</td>\n",
       "      <td>6</td>\n",
       "      <td>447.499843</td>\n",
       "    </tr>\n",
       "    <tr>\n",
       "      <th>3</th>\n",
       "      <td>3061.777147</td>\n",
       "      <td>12.654443</td>\n",
       "      <td>1</td>\n",
       "      <td>ultra</td>\n",
       "      <td>0</td>\n",
       "      <td>199</td>\n",
       "      <td>6</td>\n",
       "      <td>274.926657</td>\n",
       "    </tr>\n",
       "    <tr>\n",
       "      <th>5</th>\n",
       "      <td>3914.646990</td>\n",
       "      <td>12.395153</td>\n",
       "      <td>1</td>\n",
       "      <td>ultra</td>\n",
       "      <td>0</td>\n",
       "      <td>199</td>\n",
       "      <td>6</td>\n",
       "      <td>273.370917</td>\n",
       "    </tr>\n",
       "    <tr>\n",
       "      <th>7</th>\n",
       "      <td>6478.080979</td>\n",
       "      <td>27.653450</td>\n",
       "      <td>2</td>\n",
       "      <td>ultra</td>\n",
       "      <td>0</td>\n",
       "      <td>199</td>\n",
       "      <td>6</td>\n",
       "      <td>364.920700</td>\n",
       "    </tr>\n",
       "    <tr>\n",
       "      <th>12</th>\n",
       "      <td>3577.151148</td>\n",
       "      <td>32.462907</td>\n",
       "      <td>1</td>\n",
       "      <td>ultra</td>\n",
       "      <td>0</td>\n",
       "      <td>199</td>\n",
       "      <td>6</td>\n",
       "      <td>393.777441</td>\n",
       "    </tr>\n",
       "    <tr>\n",
       "      <th>13</th>\n",
       "      <td>6687.987446</td>\n",
       "      <td>41.848947</td>\n",
       "      <td>2</td>\n",
       "      <td>ultra</td>\n",
       "      <td>0</td>\n",
       "      <td>199</td>\n",
       "      <td>6</td>\n",
       "      <td>450.093681</td>\n",
       "    </tr>\n",
       "    <tr>\n",
       "      <th>14</th>\n",
       "      <td>7699.643820</td>\n",
       "      <td>33.700853</td>\n",
       "      <td>2</td>\n",
       "      <td>ultra</td>\n",
       "      <td>0</td>\n",
       "      <td>199</td>\n",
       "      <td>6</td>\n",
       "      <td>401.205117</td>\n",
       "    </tr>\n",
       "    <tr>\n",
       "      <th>15</th>\n",
       "      <td>4187.621459</td>\n",
       "      <td>38.125729</td>\n",
       "      <td>1</td>\n",
       "      <td>ultra</td>\n",
       "      <td>0</td>\n",
       "      <td>199</td>\n",
       "      <td>6</td>\n",
       "      <td>427.754373</td>\n",
       "    </tr>\n",
       "    <tr>\n",
       "      <th>20</th>\n",
       "      <td>3516.719208</td>\n",
       "      <td>28.231012</td>\n",
       "      <td>1</td>\n",
       "      <td>ultra</td>\n",
       "      <td>0</td>\n",
       "      <td>199</td>\n",
       "      <td>6</td>\n",
       "      <td>368.386070</td>\n",
       "    </tr>\n",
       "    <tr>\n",
       "      <th>22</th>\n",
       "      <td>3058.692225</td>\n",
       "      <td>12.328329</td>\n",
       "      <td>1</td>\n",
       "      <td>ultra</td>\n",
       "      <td>0</td>\n",
       "      <td>199</td>\n",
       "      <td>6</td>\n",
       "      <td>272.969972</td>\n",
       "    </tr>\n",
       "  </tbody>\n",
       "</table>\n",
       "</div>"
      ],
      "text/plain": [
       "                  distance   duration  count_tips subscription_type  start  \\\n",
       "month user_id                                                                \n",
       "1     1        7027.511294  41.416640           2             ultra      0   \n",
       "      3        3061.777147  12.654443           1             ultra      0   \n",
       "      5        3914.646990  12.395153           1             ultra      0   \n",
       "      7        6478.080979  27.653450           2             ultra      0   \n",
       "      12       3577.151148  32.462907           1             ultra      0   \n",
       "      13       6687.987446  41.848947           2             ultra      0   \n",
       "      14       7699.643820  33.700853           2             ultra      0   \n",
       "      15       4187.621459  38.125729           1             ultra      0   \n",
       "      20       3516.719208  28.231012           1             ultra      0   \n",
       "      22       3058.692225  12.328329           1             ultra      0   \n",
       "\n",
       "               sibscription  sum_one_min     revenue  \n",
       "month user_id                                         \n",
       "1     1                 199            6  447.499843  \n",
       "      3                 199            6  274.926657  \n",
       "      5                 199            6  273.370917  \n",
       "      7                 199            6  364.920700  \n",
       "      12                199            6  393.777441  \n",
       "      13                199            6  450.093681  \n",
       "      14                199            6  401.205117  \n",
       "      15                199            6  427.754373  \n",
       "      20                199            6  368.386070  \n",
       "      22                199            6  272.969972  "
      ]
     },
     "execution_count": 50,
     "metadata": {},
     "output_type": "execute_result"
    }
   ],
   "source": [
    "data_sum['revenue'] = data_sum['start'] * data_sum['count_tips'] + data_sum['sum_one_min'] * data_sum['duration'] + data_sum['sibscription']\n",
    "data_sum.head(10)"
   ]
  },
  {
   "cell_type": "markdown",
   "id": "b164f720",
   "metadata": {},
   "source": [
    "Расчитываем сумму выручки для каждого пользователя по формуле стоимость старта умножаем на количество поездок плюс стоимость одной минуты умножаем на время поездки плюс стоимость тарифа (если он есть)."
   ]
  },
  {
   "cell_type": "code",
   "execution_count": 51,
   "id": "5c03f933",
   "metadata": {},
   "outputs": [
    {
     "data": {
      "text/html": [
       "<div>\n",
       "<style scoped>\n",
       "    .dataframe tbody tr th:only-of-type {\n",
       "        vertical-align: middle;\n",
       "    }\n",
       "\n",
       "    .dataframe tbody tr th {\n",
       "        vertical-align: top;\n",
       "    }\n",
       "\n",
       "    .dataframe thead th {\n",
       "        text-align: right;\n",
       "    }\n",
       "</style>\n",
       "<table border=\"1\" class=\"dataframe\">\n",
       "  <thead>\n",
       "    <tr style=\"text-align: right;\">\n",
       "      <th></th>\n",
       "      <th>distance</th>\n",
       "      <th>duration</th>\n",
       "      <th>count_tips</th>\n",
       "      <th>start</th>\n",
       "      <th>sibscription</th>\n",
       "      <th>sum_one_min</th>\n",
       "      <th>revenue</th>\n",
       "    </tr>\n",
       "  </thead>\n",
       "  <tbody>\n",
       "    <tr>\n",
       "      <th>count</th>\n",
       "      <td>11331.000000</td>\n",
       "      <td>11331.000000</td>\n",
       "      <td>11331.000000</td>\n",
       "      <td>11331.000000</td>\n",
       "      <td>11331.000000</td>\n",
       "      <td>11331.000000</td>\n",
       "      <td>11331.000000</td>\n",
       "    </tr>\n",
       "    <tr>\n",
       "      <th>mean</th>\n",
       "      <td>4896.362584</td>\n",
       "      <td>28.391223</td>\n",
       "      <td>1.594564</td>\n",
       "      <td>29.997352</td>\n",
       "      <td>79.610537</td>\n",
       "      <td>7.199894</td>\n",
       "      <td>336.512994</td>\n",
       "    </tr>\n",
       "    <tr>\n",
       "      <th>std</th>\n",
       "      <td>2911.516556</td>\n",
       "      <td>16.381399</td>\n",
       "      <td>0.831604</td>\n",
       "      <td>24.496519</td>\n",
       "      <td>97.496144</td>\n",
       "      <td>0.979861</td>\n",
       "      <td>151.182784</td>\n",
       "    </tr>\n",
       "    <tr>\n",
       "      <th>min</th>\n",
       "      <td>2.570787</td>\n",
       "      <td>0.500000</td>\n",
       "      <td>1.000000</td>\n",
       "      <td>0.000000</td>\n",
       "      <td>0.000000</td>\n",
       "      <td>6.000000</td>\n",
       "      <td>54.000000</td>\n",
       "    </tr>\n",
       "    <tr>\n",
       "      <th>25%</th>\n",
       "      <td>2972.202146</td>\n",
       "      <td>16.758129</td>\n",
       "      <td>1.000000</td>\n",
       "      <td>0.000000</td>\n",
       "      <td>0.000000</td>\n",
       "      <td>6.000000</td>\n",
       "      <td>230.776448</td>\n",
       "    </tr>\n",
       "    <tr>\n",
       "      <th>50%</th>\n",
       "      <td>3988.723985</td>\n",
       "      <td>23.573018</td>\n",
       "      <td>1.000000</td>\n",
       "      <td>50.000000</td>\n",
       "      <td>0.000000</td>\n",
       "      <td>8.000000</td>\n",
       "      <td>314.865493</td>\n",
       "    </tr>\n",
       "    <tr>\n",
       "      <th>75%</th>\n",
       "      <td>6421.375890</td>\n",
       "      <td>36.921430</td>\n",
       "      <td>2.000000</td>\n",
       "      <td>50.000000</td>\n",
       "      <td>199.000000</td>\n",
       "      <td>8.000000</td>\n",
       "      <td>409.661148</td>\n",
       "    </tr>\n",
       "    <tr>\n",
       "      <th>max</th>\n",
       "      <td>23429.487786</td>\n",
       "      <td>140.264426</td>\n",
       "      <td>7.000000</td>\n",
       "      <td>50.000000</td>\n",
       "      <td>199.000000</td>\n",
       "      <td>8.000000</td>\n",
       "      <td>1422.115405</td>\n",
       "    </tr>\n",
       "  </tbody>\n",
       "</table>\n",
       "</div>"
      ],
      "text/plain": [
       "           distance      duration    count_tips         start  sibscription  \\\n",
       "count  11331.000000  11331.000000  11331.000000  11331.000000  11331.000000   \n",
       "mean    4896.362584     28.391223      1.594564     29.997352     79.610537   \n",
       "std     2911.516556     16.381399      0.831604     24.496519     97.496144   \n",
       "min        2.570787      0.500000      1.000000      0.000000      0.000000   \n",
       "25%     2972.202146     16.758129      1.000000      0.000000      0.000000   \n",
       "50%     3988.723985     23.573018      1.000000     50.000000      0.000000   \n",
       "75%     6421.375890     36.921430      2.000000     50.000000    199.000000   \n",
       "max    23429.487786    140.264426      7.000000     50.000000    199.000000   \n",
       "\n",
       "        sum_one_min       revenue  \n",
       "count  11331.000000  11331.000000  \n",
       "mean       7.199894    336.512994  \n",
       "std        0.979861    151.182784  \n",
       "min        6.000000     54.000000  \n",
       "25%        6.000000    230.776448  \n",
       "50%        8.000000    314.865493  \n",
       "75%        8.000000    409.661148  \n",
       "max        8.000000   1422.115405  "
      ]
     },
     "execution_count": 51,
     "metadata": {},
     "output_type": "execute_result"
    }
   ],
   "source": [
    "data_sum.describe()"
   ]
  },
  {
   "cell_type": "code",
   "execution_count": 52,
   "id": "d12352d5",
   "metadata": {},
   "outputs": [
    {
     "data": {
      "image/png": "[encoded data removed]",
      "text/plain": [
       "<Figure size 800x800 with 1 Axes>"
      ]
     },
     "metadata": {},
     "output_type": "display_data"
    }
   ],
   "source": [
    "data_sum.hist(column='revenue', bins= 10 , grid= False, figsize=(8,8), color='purple')\n",
    "plt.title('Выручка')\n",
    "plt.xlabel('Размер выручки')\n",
    "plt.ylabel('Количество поездок')\n",
    "plt.show();"
   ]
  },
  {
   "cell_type": "markdown",
   "id": "6ae518b2",
   "metadata": {},
   "source": [
    "Посмотрим, как зависит размер выручки от количества поездок:\n",
    "* Максимальная выручка составляет 1 428 ед.;\n",
    "* Наибольший процент прибыли лежит в интервале от 234 до 412 ед."
   ]
  },
  {
   "cell_type": "markdown",
   "id": "41545ac0",
   "metadata": {},
   "source": [
    "### Проверка гипотез"
   ]
  },
  {
   "cell_type": "markdown",
   "id": "e66db18f",
   "metadata": {},
   "source": [
    "Продакт-менеджеры сервиса хотят увеличить количество пользователей с подпиской. Для этого они будут проводить различные акции, но сначала нужно выяснить несколько важных моментов."
   ]
  },
  {
   "cell_type": "markdown",
   "id": "e3d3850d",
   "metadata": {},
   "source": [
    "1. Важно понять, тратят ли пользователи с подпиской больше времени на поездки? Если да, то пользователи с подпиской могут быть «выгоднее» для компании. Проверьте гипотезу. Используйте исходные данные о продолжительности каждой сессии — отдельно для подписчиков и тех, у кого нет подписки."
   ]
  },
  {
   "cell_type": "code",
   "execution_count": 53,
   "id": "23ea867b",
   "metadata": {},
   "outputs": [
    {
     "name": "stdout",
     "output_type": "stream",
     "text": [
      "1.2804098316645618e-34\n",
      "Отвергаем нулевую гипотезу\n"
     ]
    }
   ],
   "source": [
    "ultra = date_ultra['duration'] \n",
    "free = date_free['duration']\n",
    "results = st.ttest_ind(ultra, \n",
    "                       free,\n",
    "                       alternative = 'greater')\n",
    "alpha = 0.05\n",
    "print(results.pvalue)\n",
    "if results.pvalue < alpha:\n",
    "    print('Отвергаем нулевую гипотезу')\n",
    "else:\n",
    "    print('Не получилось отвергнуть нулевую гипотезу')"
   ]
  },
  {
   "cell_type": "markdown",
   "id": "1688cb38",
   "metadata": {},
   "source": [
    "Для ответа на вопрос проведу проверку гипотезы, что пользователи с подпиской тратят больше времени на поездки:\n",
    "1. Н0 = Время поездки пользователей с подпиской равно времени поездки пользователей без подписки (date_ultra['duration'] = date_free['duration'])\n",
    "2. Н1 = Время поездки пользователей с подпиской больше времени поездки пользователей без подписки (date_ultra['duration'] > date_free['duration'])\n",
    "\n",
    "Вывод: По результатам проверки гипотезы, отвергаем \"нулевую\" гипотезу, т.е. время поездки пользователей с подпиской не равно времени поездки пользователей без подписки."
   ]
  },
  {
   "cell_type": "markdown",
   "id": "6f094445",
   "metadata": {},
   "source": [
    "2. Расстояние одной поездки в 3130 метров — оптимальное с точки зрения износа самоката. Можно ли сказать, что среднее расстояние, которое проезжают пользователи с подпиской за одну поездку, не превышает 3130 метров? Проверьте гипотезу и сделайте выводы."
   ]
  },
  {
   "cell_type": "code",
   "execution_count": 54,
   "id": "faeb93b0",
   "metadata": {},
   "outputs": [
    {
     "name": "stdout",
     "output_type": "stream",
     "text": [
      "0.9195368847849785\n",
      "Не получилось отвергнуть нулевую гипотезу\n"
     ]
    }
   ],
   "source": [
    "ultra = date_ultra['distance'] \n",
    "interested_value = 3130\n",
    "results = st.ttest_1samp(ultra, \n",
    "                       interested_value,\n",
    "                       alternative='greater')\n",
    "alpha = 0.05\n",
    "print(results.pvalue)\n",
    "if results.pvalue < alpha:\n",
    "    print('Отвергаем нулевую гипотезу')\n",
    "else:\n",
    "    print('Не получилось отвергнуть нулевую гипотезу')"
   ]
  },
  {
   "cell_type": "markdown",
   "id": "a5c540cf",
   "metadata": {},
   "source": [
    "Для ответа на вопрос проведу проверку гипотезы, что пользователи максимальное расстоние поездки для пользователей с подпиской равно 3 130 м:\n",
    "1. Н0 = Расстояние поездки пользователей с подпиской равно 3 130 м (date_ultra['distance'] = date_ultra['distance'])\n",
    "2. Н1 = Расстояние поездки пользователей с подпиской больше 3 130 м (date_ultra['distance'] > date_ultra['distance'])\n",
    "\n",
    "Вывод: По результатам проверки гипотезы, не получиось отвергаем \"нулевую\" гипотезу, т.е. нельзя признать, что максимальное расстояние поездки пользователей с подпиской равно 3 130 м."
   ]
  },
  {
   "cell_type": "markdown",
   "id": "25c4ceba",
   "metadata": {},
   "source": [
    "3. Проверьте гипотезу о том, будет ли помесячная выручка от пользователей с подпиской по месяцам выше, чем выручка от пользователей без подписки. Сделайте вывод."
   ]
  },
  {
   "cell_type": "code",
   "execution_count": 55,
   "id": "0ea8d58d",
   "metadata": {},
   "outputs": [
    {
     "name": "stdout",
     "output_type": "stream",
     "text": [
      "2.8999112105809456e-37\n",
      "Отвергаем нулевую гипотезу\n"
     ]
    }
   ],
   "source": [
    "ultra_mounth_revenue = data_sum.loc[data_sum.subscription_type == 'ultra', 'revenue'] \n",
    "free_mounth_revenue = data_sum.loc[data_sum.subscription_type == 'free', 'revenue'] \n",
    "results = st.ttest_ind(ultra_mounth_revenue, \n",
    "                       free_mounth_revenue,\n",
    "                       alternative = 'greater')\n",
    "alpha = 0.05\n",
    "print(results.pvalue)\n",
    "if results.pvalue < alpha:\n",
    "    print('Отвергаем нулевую гипотезу')\n",
    "else:\n",
    "    print('Не получилось отвергнуть нулевую гипотезу')"
   ]
  },
  {
   "cell_type": "markdown",
   "id": "aa40388a",
   "metadata": {},
   "source": [
    "Для ответа на вопрос проведу проверку гипотезы, что помесячная выручка от пользователей с подпиской выше, чем выручка от пользователей без подписки:\n",
    "1. Н0 = Помесячная выручка от пользователей с подпиской равна помесячной выручки от пользователей без подписки;\n",
    "2. Н1 = Помеячная выручка от пользователей с подпиской больше помесячной выручки от пользователей без подписки."
   ]
  },
  {
   "cell_type": "markdown",
   "id": "48d2c003",
   "metadata": {},
   "source": [
    "Вывод: По результатам проверки гипотезы отвергаем \"нулевую\" гипотезу, т.е. выручка от пользователей с подпиской больше выручки для пользователей без подписки."
   ]
  },
  {
   "cell_type": "markdown",
   "id": "541c595c",
   "metadata": {},
   "source": [
    "4. Представьте такую ситуацию: техническая команда сервиса обновила сервера, с которыми взаимодействует мобильное приложение. Она надеется, что из-за этого количество обращений в техподдержку значимо снизилось. Некоторый файл содержит для каждого пользователя данные о количестве обращений до обновления и после него. Какой тест вам понадобился бы для проверки этой гипотезы?"
   ]
  },
  {
   "cell_type": "markdown",
   "id": "0dbd14f7",
   "metadata": {},
   "source": [
    "Т.к. изменения произошли в одной генеральной совокупности, считаю, что для проверки гепотизы о снижении количества обращений в поддержку, необходимо использовать гипотезу о равенстве средних для зависимых (парных) выборок.\n",
    "Гипотезы в таком случае будут сформулированы так:\n",
    "H0:μ1 = μ2\n",
    "H1:μ1 ≠ μ2,\n",
    "где μ1 и μ2 — средние значения до и после изменения."
   ]
  },
  {
   "cell_type": "markdown",
   "id": "bf9c4dad",
   "metadata": {},
   "source": [
    "### Общий вывод:"
   ]
  },
  {
   "cell_type": "markdown",
   "id": "151264a5",
   "metadata": {},
   "source": [
    "1. Для анализа было представлено три датафрейма с информациях о пользователях, их поездках на самакатах и тарифах на пользование сервисом;\n",
    "2. Данные достаточно репрезентативны для анализа, количество дубликатов минимально;\n",
    "3. Все пользователи разделены на два типа: с подпиской (абонентская плата 199 р/месяц, стоимость одной минуты - 6 рублей, плата за старт отсутствует) и без подписки (абонентская плата отсутствует, стоимость одной минуты поездки составляет 8 рублей, стоимость страта 50 рублей);\n",
    "4. Распределение пользователей в датафрейме без подписки и с подпиской 835 и 699 человек соответственно. Пользователи сервиса предпочитают платить за каждый старт, нежели покупать подписку. Это может говорить о низкой лояльности к сервису и возможному наличию альтернативы;\n",
    "5. Наибольшее количество пользователей сервиса зарегистрировано в Пятигорске, наименьшее в Москве. Это так же объясняет большое количество записей в январе и декабре;\n",
    "6. Наибольшее количество пользователе находятся между 22 и 28 годами. Максимальный возраст - 43 года (1 человек). Распределение по возрасту логично - самокат более молодёжный способ передвижения. Для формирования программы лояльности и рекламных акций следует ориентироваться на интересы данного поколения;\n",
    "7. Выделить тенденцию по дистанции практически не возможно, существует огромный разброс значений. Максимальное расстояние - 7 211 м, минимальное - менее одного метра;\n",
    "8. Среднее значение продолжительности поездки составляет 18 минут, максимальное - практически 41 минута;\n",
    "9. Рассмотрим отдельно информацию отдельно для пользователей без подпики:\n",
    "* Наибольшее количество поездок занимает от 12 до 21 минуты;\n",
    "* Наибольшее количество поездок ограничиваются на расстоянии 2 366 до 3 905 м;\n",
    "10. Рассмотрим отдельно информацию для пользователей с подпиской:\n",
    "* Наибольшее количество поездок занимает от 14 до 24 минут. Минимальное и максимальное время использования самоката пользователями с подпиской выше, чем у пользователей без подписки. Возможно, это связано с наличием абоненсткой платы и отсутствием платы за старт;\n",
    "* Наибольшее количество поездок ограничиваются на расстоянии 2 785 до 3 560 м;\n",
    "11. Максимальная выручка от одного пользвателя составляет 1 428 ед. Наибольший проент прибыли лежит в интервале от 234 до 412 ед.;\n",
    "12. В ходе проверки гипотез выяснила следующее:\n",
    "* Время поездки пользователей с подпиской не равно времени поездки пользователей без подписки;\n",
    "* Нельзя признать, что максимальное расстояние поездки пользователей с подпиской равно 3 130 м;\n",
    "* Выручка от пользователей с подпиской больше выручки для пользователей без подписки.\n",
    "13. Для проверки гепотизы о снижении количества обращений в поддержку, необходимо использовать гипотезу о равенстве средних для зависимых (парных) выборок."
   ]
  }
 ],
 "metadata": {
  "ExecuteTimeLog": [
   {
    "duration": 48,
    "start_time": "2023-10-25T17:22:12.304Z"
   },
   {
    "duration": 412,
    "start_time": "2023-10-25T17:22:23.511Z"
   },
   {
    "duration": 72,
    "start_time": "2023-10-25T17:22:23.925Z"
   },
   {
    "duration": 50,
    "start_time": "2023-10-25T17:22:56.401Z"
   },
   {
    "duration": 10,
    "start_time": "2023-10-25T17:23:41.043Z"
   },
   {
    "duration": 76,
    "start_time": "2023-10-25T17:27:17.189Z"
   },
   {
    "duration": 41,
    "start_time": "2023-10-25T17:27:27.519Z"
   },
   {
    "duration": 36,
    "start_time": "2023-10-25T17:28:16.340Z"
   },
   {
    "duration": 85,
    "start_time": "2023-10-25T17:28:56.178Z"
   },
   {
    "duration": 68,
    "start_time": "2023-10-25T17:29:28.788Z"
   },
   {
    "duration": 9,
    "start_time": "2023-10-25T17:37:58.178Z"
   },
   {
    "duration": 11,
    "start_time": "2023-10-25T17:38:13.838Z"
   },
   {
    "duration": 12,
    "start_time": "2023-10-25T17:38:28.024Z"
   },
   {
    "duration": 9,
    "start_time": "2023-10-25T17:40:14.501Z"
   },
   {
    "duration": 7,
    "start_time": "2023-10-25T17:40:21.379Z"
   },
   {
    "duration": 7,
    "start_time": "2023-10-25T17:40:34.775Z"
   },
   {
    "duration": 5,
    "start_time": "2023-10-25T17:40:48.109Z"
   },
   {
    "duration": 5,
    "start_time": "2023-10-25T17:41:23.007Z"
   },
   {
    "duration": 9,
    "start_time": "2023-10-25T17:41:31.876Z"
   },
   {
    "duration": 5,
    "start_time": "2023-10-25T17:41:38.392Z"
   },
   {
    "duration": 7,
    "start_time": "2023-10-25T17:44:56.473Z"
   },
   {
    "duration": 46,
    "start_time": "2023-10-25T17:45:10.573Z"
   },
   {
    "duration": 4,
    "start_time": "2023-10-25T17:46:51.843Z"
   },
   {
    "duration": 4,
    "start_time": "2023-10-25T17:47:00.907Z"
   },
   {
    "duration": 6,
    "start_time": "2023-10-25T17:47:07.966Z"
   },
   {
    "duration": 5,
    "start_time": "2023-10-25T17:47:24.400Z"
   },
   {
    "duration": 5,
    "start_time": "2023-10-25T17:47:29.340Z"
   },
   {
    "duration": 7,
    "start_time": "2023-10-25T17:48:29.207Z"
   },
   {
    "duration": 7,
    "start_time": "2023-10-25T17:51:12.006Z"
   },
   {
    "duration": 1192,
    "start_time": "2023-10-25T17:51:17.781Z"
   },
   {
    "duration": 1130,
    "start_time": "2023-10-25T17:52:26.264Z"
   },
   {
    "duration": 4,
    "start_time": "2023-10-25T17:53:07.303Z"
   },
   {
    "duration": 9,
    "start_time": "2023-10-25T17:53:18.709Z"
   },
   {
    "duration": 5,
    "start_time": "2023-10-25T17:55:03.785Z"
   },
   {
    "duration": 5,
    "start_time": "2023-10-25T17:56:15.060Z"
   },
   {
    "duration": 4,
    "start_time": "2023-10-25T17:56:59.716Z"
   },
   {
    "duration": 1165,
    "start_time": "2023-10-25T18:04:43.913Z"
   },
   {
    "duration": 1553,
    "start_time": "2023-10-25T18:05:14.281Z"
   },
   {
    "duration": 1325,
    "start_time": "2023-10-25T18:05:19.900Z"
   },
   {
    "duration": 4,
    "start_time": "2023-10-25T18:05:25.111Z"
   },
   {
    "duration": 7,
    "start_time": "2023-10-25T18:05:44.494Z"
   },
   {
    "duration": 5,
    "start_time": "2023-10-25T18:06:11.892Z"
   },
   {
    "duration": 4,
    "start_time": "2023-10-25T18:06:32.309Z"
   },
   {
    "duration": 10,
    "start_time": "2023-10-25T18:07:12.498Z"
   },
   {
    "duration": 7,
    "start_time": "2023-10-25T18:08:06.680Z"
   },
   {
    "duration": 13,
    "start_time": "2023-10-25T18:36:42.586Z"
   },
   {
    "duration": 20,
    "start_time": "2023-10-25T18:37:33.102Z"
   },
   {
    "duration": 33,
    "start_time": "2023-10-25T18:37:41.235Z"
   },
   {
    "duration": 64,
    "start_time": "2023-10-25T18:38:43.500Z"
   },
   {
    "duration": 7,
    "start_time": "2023-10-25T18:38:47.354Z"
   },
   {
    "duration": 9,
    "start_time": "2023-10-25T18:39:12.197Z"
   },
   {
    "duration": 6,
    "start_time": "2023-10-25T18:39:25.037Z"
   },
   {
    "duration": 99,
    "start_time": "2023-10-25T18:39:31.804Z"
   },
   {
    "duration": 106,
    "start_time": "2023-10-25T18:39:39.696Z"
   },
   {
    "duration": 75,
    "start_time": "2023-10-25T18:45:17.289Z"
   },
   {
    "duration": 7,
    "start_time": "2023-10-25T18:45:23.734Z"
   },
   {
    "duration": 6,
    "start_time": "2023-10-25T18:45:34.992Z"
   },
   {
    "duration": 10,
    "start_time": "2023-10-25T18:45:42.380Z"
   },
   {
    "duration": 6,
    "start_time": "2023-10-25T18:48:01.503Z"
   },
   {
    "duration": 13,
    "start_time": "2023-10-25T18:48:21.739Z"
   },
   {
    "duration": 13,
    "start_time": "2023-10-25T18:48:53.882Z"
   },
   {
    "duration": 493,
    "start_time": "2023-10-30T17:55:18.874Z"
   },
   {
    "duration": 112,
    "start_time": "2023-10-30T17:55:19.371Z"
   },
   {
    "duration": 11,
    "start_time": "2023-10-30T17:55:19.484Z"
   },
   {
    "duration": 122,
    "start_time": "2023-10-30T17:55:19.497Z"
   },
   {
    "duration": 11,
    "start_time": "2023-10-30T17:55:19.622Z"
   },
   {
    "duration": 95,
    "start_time": "2023-10-30T17:55:19.635Z"
   },
   {
    "duration": 11,
    "start_time": "2023-10-30T17:55:19.731Z"
   },
   {
    "duration": 41,
    "start_time": "2023-10-30T17:55:19.763Z"
   },
   {
    "duration": 30,
    "start_time": "2023-10-30T17:55:19.807Z"
   },
   {
    "duration": 28,
    "start_time": "2023-10-30T17:55:19.839Z"
   },
   {
    "duration": 26,
    "start_time": "2023-10-30T17:55:19.869Z"
   },
   {
    "duration": 23,
    "start_time": "2023-10-30T17:55:19.897Z"
   },
   {
    "duration": 29,
    "start_time": "2023-10-30T17:55:19.922Z"
   },
   {
    "duration": 40,
    "start_time": "2023-10-30T17:55:19.955Z"
   },
   {
    "duration": 65,
    "start_time": "2023-10-30T17:55:19.996Z"
   },
   {
    "duration": 46,
    "start_time": "2023-10-30T17:55:20.062Z"
   },
   {
    "duration": 61,
    "start_time": "2023-10-30T17:55:20.110Z"
   },
   {
    "duration": 28,
    "start_time": "2023-10-30T17:55:20.172Z"
   },
   {
    "duration": 65,
    "start_time": "2023-10-30T17:55:20.202Z"
   },
   {
    "duration": 40,
    "start_time": "2023-10-30T17:55:20.269Z"
   },
   {
    "duration": 50,
    "start_time": "2023-10-30T17:55:20.311Z"
   },
   {
    "duration": 43,
    "start_time": "2023-10-30T17:55:20.370Z"
   },
   {
    "duration": 54,
    "start_time": "2023-10-30T17:55:20.415Z"
   },
   {
    "duration": 27,
    "start_time": "2023-10-30T17:55:20.473Z"
   },
   {
    "duration": 1428,
    "start_time": "2023-10-30T18:03:55.077Z"
   },
   {
    "duration": 41,
    "start_time": "2023-10-30T18:03:56.507Z"
   },
   {
    "duration": 13,
    "start_time": "2023-10-30T18:03:56.550Z"
   },
   {
    "duration": 45,
    "start_time": "2023-10-30T18:03:56.565Z"
   },
   {
    "duration": 12,
    "start_time": "2023-10-30T18:03:56.612Z"
   },
   {
    "duration": 19,
    "start_time": "2023-10-30T18:03:56.626Z"
   },
   {
    "duration": 10,
    "start_time": "2023-10-30T18:03:56.646Z"
   },
   {
    "duration": 31,
    "start_time": "2023-10-30T18:03:56.658Z"
   },
   {
    "duration": 9,
    "start_time": "2023-10-30T18:03:56.691Z"
   },
   {
    "duration": 6,
    "start_time": "2023-10-30T18:03:56.703Z"
   },
   {
    "duration": 8,
    "start_time": "2023-10-30T18:03:56.711Z"
   },
   {
    "duration": 13,
    "start_time": "2023-10-30T18:03:56.720Z"
   },
   {
    "duration": 7,
    "start_time": "2023-10-30T18:03:56.744Z"
   },
   {
    "duration": 20,
    "start_time": "2023-10-30T18:03:56.753Z"
   },
   {
    "duration": 36,
    "start_time": "2023-10-30T18:03:56.775Z"
   },
   {
    "duration": 43,
    "start_time": "2023-10-30T18:03:56.812Z"
   },
   {
    "duration": 6,
    "start_time": "2023-10-30T18:03:56.856Z"
   },
   {
    "duration": 8,
    "start_time": "2023-10-30T18:03:56.864Z"
   },
   {
    "duration": 26,
    "start_time": "2023-10-30T18:03:56.873Z"
   },
   {
    "duration": 21,
    "start_time": "2023-10-30T18:03:56.901Z"
   },
   {
    "duration": 15,
    "start_time": "2023-10-30T18:03:56.923Z"
   },
   {
    "duration": 36,
    "start_time": "2023-10-30T18:03:56.939Z"
   },
   {
    "duration": 15,
    "start_time": "2023-10-30T18:03:56.977Z"
   },
   {
    "duration": 41,
    "start_time": "2023-10-30T18:03:56.994Z"
   },
   {
    "duration": 148,
    "start_time": "2023-10-30T19:00:12.196Z"
   },
   {
    "duration": 121,
    "start_time": "2023-10-30T19:00:26.089Z"
   },
   {
    "duration": 112,
    "start_time": "2023-10-30T19:00:37.259Z"
   },
   {
    "duration": 127,
    "start_time": "2023-10-30T19:01:19.731Z"
   },
   {
    "duration": 120,
    "start_time": "2023-10-30T19:02:12.547Z"
   },
   {
    "duration": 139,
    "start_time": "2023-10-30T19:02:41.247Z"
   },
   {
    "duration": 189,
    "start_time": "2023-10-30T19:02:49.423Z"
   },
   {
    "duration": 133,
    "start_time": "2023-10-30T19:04:23.849Z"
   },
   {
    "duration": 186,
    "start_time": "2023-10-30T19:04:54.438Z"
   },
   {
    "duration": 171,
    "start_time": "2023-10-30T19:05:24.503Z"
   },
   {
    "duration": 143,
    "start_time": "2023-10-30T19:07:00.807Z"
   },
   {
    "duration": 134,
    "start_time": "2023-10-30T19:07:10.669Z"
   },
   {
    "duration": 156,
    "start_time": "2023-10-30T19:08:13.327Z"
   },
   {
    "duration": 162,
    "start_time": "2023-10-30T19:08:23.010Z"
   },
   {
    "duration": 198,
    "start_time": "2023-10-30T19:11:04.383Z"
   },
   {
    "duration": 143,
    "start_time": "2023-10-30T19:11:22.589Z"
   },
   {
    "duration": 150,
    "start_time": "2023-10-30T19:11:51.928Z"
   },
   {
    "duration": 154,
    "start_time": "2023-10-30T19:12:28.046Z"
   },
   {
    "duration": 173,
    "start_time": "2023-10-30T19:13:18.389Z"
   },
   {
    "duration": 873,
    "start_time": "2023-10-30T19:16:00.905Z"
   },
   {
    "duration": 838,
    "start_time": "2023-10-30T19:16:11.219Z"
   },
   {
    "duration": 988,
    "start_time": "2023-10-30T19:16:44.158Z"
   },
   {
    "duration": 820,
    "start_time": "2023-10-30T19:16:47.832Z"
   },
   {
    "duration": 93,
    "start_time": "2023-10-30T19:17:41.362Z"
   },
   {
    "duration": 87,
    "start_time": "2023-10-30T19:17:50.758Z"
   },
   {
    "duration": 84,
    "start_time": "2023-10-30T19:18:27.746Z"
   },
   {
    "duration": 96,
    "start_time": "2023-10-30T19:18:39.361Z"
   },
   {
    "duration": 121,
    "start_time": "2023-10-30T19:18:56.931Z"
   },
   {
    "duration": 86,
    "start_time": "2023-10-30T19:19:11.433Z"
   },
   {
    "duration": 100,
    "start_time": "2023-10-30T19:19:31.944Z"
   },
   {
    "duration": 90,
    "start_time": "2023-10-30T19:19:39.517Z"
   },
   {
    "duration": 88,
    "start_time": "2023-10-30T19:20:30.328Z"
   },
   {
    "duration": 91,
    "start_time": "2023-10-30T19:20:44.977Z"
   },
   {
    "duration": 86,
    "start_time": "2023-10-30T19:21:02.190Z"
   },
   {
    "duration": 1369,
    "start_time": "2023-11-01T17:46:36.948Z"
   },
   {
    "duration": 88,
    "start_time": "2023-11-01T17:46:38.319Z"
   },
   {
    "duration": 11,
    "start_time": "2023-11-01T17:46:38.409Z"
   },
   {
    "duration": 84,
    "start_time": "2023-11-01T17:46:38.423Z"
   },
   {
    "duration": 10,
    "start_time": "2023-11-01T17:46:38.508Z"
   },
   {
    "duration": 59,
    "start_time": "2023-11-01T17:46:38.520Z"
   },
   {
    "duration": 10,
    "start_time": "2023-11-01T17:46:38.581Z"
   },
   {
    "duration": 15,
    "start_time": "2023-11-01T17:46:38.593Z"
   },
   {
    "duration": 8,
    "start_time": "2023-11-01T17:46:38.610Z"
   },
   {
    "duration": 11,
    "start_time": "2023-11-01T17:46:38.620Z"
   },
   {
    "duration": 6,
    "start_time": "2023-11-01T17:46:38.632Z"
   },
   {
    "duration": 5,
    "start_time": "2023-11-01T17:46:38.639Z"
   },
   {
    "duration": 7,
    "start_time": "2023-11-01T17:46:38.645Z"
   },
   {
    "duration": 7,
    "start_time": "2023-11-01T17:46:38.654Z"
   },
   {
    "duration": 4,
    "start_time": "2023-11-01T17:46:38.663Z"
   },
   {
    "duration": 12,
    "start_time": "2023-11-01T17:46:38.706Z"
   },
   {
    "duration": 5,
    "start_time": "2023-11-01T17:46:38.720Z"
   },
   {
    "duration": 5,
    "start_time": "2023-11-01T17:46:38.727Z"
   },
   {
    "duration": 5,
    "start_time": "2023-11-01T17:46:38.734Z"
   },
   {
    "duration": 17,
    "start_time": "2023-11-01T17:46:38.741Z"
   },
   {
    "duration": 8,
    "start_time": "2023-11-01T17:46:38.759Z"
   },
   {
    "duration": 61,
    "start_time": "2023-11-01T17:46:38.769Z"
   },
   {
    "duration": 14,
    "start_time": "2023-11-01T17:46:38.832Z"
   },
   {
    "duration": 160,
    "start_time": "2023-11-01T17:46:38.847Z"
   },
   {
    "duration": 138,
    "start_time": "2023-11-01T17:46:39.008Z"
   },
   {
    "duration": 162,
    "start_time": "2023-11-01T17:46:39.147Z"
   },
   {
    "duration": 14,
    "start_time": "2023-11-01T17:46:39.310Z"
   },
   {
    "duration": 159,
    "start_time": "2023-11-01T17:46:39.327Z"
   },
   {
    "duration": 121,
    "start_time": "2023-11-01T17:46:39.488Z"
   },
   {
    "duration": 139,
    "start_time": "2023-11-01T17:46:39.610Z"
   },
   {
    "duration": 95,
    "start_time": "2023-11-01T17:46:39.751Z"
   },
   {
    "duration": 95,
    "start_time": "2023-11-01T18:02:32.406Z"
   },
   {
    "duration": 4,
    "start_time": "2023-11-01T18:02:45.448Z"
   },
   {
    "duration": 884,
    "start_time": "2023-11-01T18:22:06.264Z"
   },
   {
    "duration": 903,
    "start_time": "2023-11-01T18:22:14.613Z"
   },
   {
    "duration": 170,
    "start_time": "2023-11-01T18:22:21.067Z"
   },
   {
    "duration": 17,
    "start_time": "2023-11-01T18:22:28.016Z"
   },
   {
    "duration": 100,
    "start_time": "2023-11-01T18:22:32.033Z"
   },
   {
    "duration": 1012,
    "start_time": "2023-11-01T18:22:46.012Z"
   },
   {
    "duration": 886,
    "start_time": "2023-11-01T18:22:54.871Z"
   },
   {
    "duration": 6,
    "start_time": "2023-11-01T18:29:49.908Z"
   },
   {
    "duration": 1210,
    "start_time": "2023-11-01T18:30:56.082Z"
   },
   {
    "duration": 1341,
    "start_time": "2023-11-01T18:32:22.707Z"
   },
   {
    "duration": 3,
    "start_time": "2023-11-01T18:33:07.201Z"
   },
   {
    "duration": 2276,
    "start_time": "2023-11-01T18:33:10.224Z"
   },
   {
    "duration": 1239,
    "start_time": "2023-11-01T18:35:36.622Z"
   },
   {
    "duration": 1436,
    "start_time": "2023-11-01T18:35:50.242Z"
   },
   {
    "duration": 3,
    "start_time": "2023-11-01T18:36:18.623Z"
   },
   {
    "duration": 1203,
    "start_time": "2023-11-01T18:36:20.836Z"
   },
   {
    "duration": 1345,
    "start_time": "2023-11-01T18:36:50.092Z"
   },
   {
    "duration": 38,
    "start_time": "2023-11-01T18:36:51.440Z"
   },
   {
    "duration": 10,
    "start_time": "2023-11-01T18:36:51.480Z"
   },
   {
    "duration": 75,
    "start_time": "2023-11-01T18:36:51.492Z"
   },
   {
    "duration": 11,
    "start_time": "2023-11-01T18:36:51.568Z"
   },
   {
    "duration": 23,
    "start_time": "2023-11-01T18:36:51.580Z"
   },
   {
    "duration": 26,
    "start_time": "2023-11-01T18:36:51.605Z"
   },
   {
    "duration": 18,
    "start_time": "2023-11-01T18:36:51.633Z"
   },
   {
    "duration": 22,
    "start_time": "2023-11-01T18:36:51.652Z"
   },
   {
    "duration": 26,
    "start_time": "2023-11-01T18:36:51.676Z"
   },
   {
    "duration": 16,
    "start_time": "2023-11-01T18:36:51.704Z"
   },
   {
    "duration": 4,
    "start_time": "2023-11-01T18:36:51.722Z"
   },
   {
    "duration": 25,
    "start_time": "2023-11-01T18:36:51.728Z"
   },
   {
    "duration": 21,
    "start_time": "2023-11-01T18:36:51.755Z"
   },
   {
    "duration": 16,
    "start_time": "2023-11-01T18:36:51.778Z"
   },
   {
    "duration": 30,
    "start_time": "2023-11-01T18:36:51.795Z"
   },
   {
    "duration": 33,
    "start_time": "2023-11-01T18:36:51.826Z"
   },
   {
    "duration": 30,
    "start_time": "2023-11-01T18:36:51.861Z"
   },
   {
    "duration": 30,
    "start_time": "2023-11-01T18:36:51.893Z"
   },
   {
    "duration": 33,
    "start_time": "2023-11-01T18:36:51.925Z"
   },
   {
    "duration": 13,
    "start_time": "2023-11-01T18:36:51.960Z"
   },
   {
    "duration": 45,
    "start_time": "2023-11-01T18:36:51.974Z"
   },
   {
    "duration": 17,
    "start_time": "2023-11-01T18:36:52.021Z"
   },
   {
    "duration": 155,
    "start_time": "2023-11-01T18:36:52.041Z"
   },
   {
    "duration": 160,
    "start_time": "2023-11-01T18:36:52.197Z"
   },
   {
    "duration": 193,
    "start_time": "2023-11-01T18:36:52.359Z"
   },
   {
    "duration": 16,
    "start_time": "2023-11-01T18:36:52.554Z"
   },
   {
    "duration": 179,
    "start_time": "2023-11-01T18:36:52.573Z"
   },
   {
    "duration": 145,
    "start_time": "2023-11-01T18:36:52.754Z"
   },
   {
    "duration": 153,
    "start_time": "2023-11-01T18:36:52.900Z"
   },
   {
    "duration": 849,
    "start_time": "2023-11-01T18:36:53.054Z"
   },
   {
    "duration": 15,
    "start_time": "2023-11-01T18:36:53.905Z"
   },
   {
    "duration": 3,
    "start_time": "2023-11-01T18:36:53.922Z"
   },
   {
    "duration": 1257,
    "start_time": "2023-11-01T18:36:53.926Z"
   },
   {
    "duration": 10,
    "start_time": "2023-11-01T18:42:08.076Z"
   },
   {
    "duration": 101,
    "start_time": "2023-11-01T18:42:55.376Z"
   },
   {
    "duration": 3,
    "start_time": "2023-11-01T18:43:29.857Z"
   },
   {
    "duration": 1419,
    "start_time": "2023-11-01T18:43:34.143Z"
   },
   {
    "duration": 3,
    "start_time": "2023-11-01T18:45:03.799Z"
   },
   {
    "duration": 1750,
    "start_time": "2023-11-01T18:45:06.971Z"
   },
   {
    "duration": 1193,
    "start_time": "2023-11-01T19:08:21.949Z"
   },
   {
    "duration": 226,
    "start_time": "2023-11-01T19:09:34.659Z"
   },
   {
    "duration": 9,
    "start_time": "2023-11-01T19:10:00.095Z"
   },
   {
    "duration": 4,
    "start_time": "2023-11-01T19:10:05.025Z"
   },
   {
    "duration": 1175,
    "start_time": "2023-11-01T19:10:06.712Z"
   },
   {
    "duration": 153,
    "start_time": "2023-11-01T19:10:25.039Z"
   },
   {
    "duration": 3,
    "start_time": "2023-11-01T19:11:07.050Z"
   },
   {
    "duration": 173,
    "start_time": "2023-11-01T19:11:09.211Z"
   },
   {
    "duration": 3,
    "start_time": "2023-11-01T19:12:44.797Z"
   },
   {
    "duration": 3,
    "start_time": "2023-11-01T19:12:50.546Z"
   },
   {
    "duration": 170,
    "start_time": "2023-11-01T19:12:53.718Z"
   },
   {
    "duration": 1677,
    "start_time": "2023-11-12T14:37:30.617Z"
   },
   {
    "duration": 112,
    "start_time": "2023-11-12T14:37:32.296Z"
   },
   {
    "duration": 13,
    "start_time": "2023-11-12T14:37:32.410Z"
   },
   {
    "duration": 243,
    "start_time": "2023-11-12T14:37:32.425Z"
   },
   {
    "duration": 12,
    "start_time": "2023-11-12T14:37:32.670Z"
   },
   {
    "duration": 74,
    "start_time": "2023-11-12T14:37:32.684Z"
   },
   {
    "duration": 18,
    "start_time": "2023-11-12T14:37:32.760Z"
   },
   {
    "duration": 29,
    "start_time": "2023-11-12T14:37:32.781Z"
   },
   {
    "duration": 8,
    "start_time": "2023-11-12T14:37:32.812Z"
   },
   {
    "duration": 18,
    "start_time": "2023-11-12T14:37:32.823Z"
   },
   {
    "duration": 31,
    "start_time": "2023-11-12T14:37:32.843Z"
   },
   {
    "duration": 28,
    "start_time": "2023-11-12T14:37:32.876Z"
   },
   {
    "duration": 15,
    "start_time": "2023-11-12T14:37:32.906Z"
   },
   {
    "duration": 113,
    "start_time": "2023-11-12T14:37:32.923Z"
   },
   {
    "duration": 118,
    "start_time": "2023-11-12T14:37:33.038Z"
   },
   {
    "duration": 48,
    "start_time": "2023-11-12T14:37:33.159Z"
   },
   {
    "duration": 32,
    "start_time": "2023-11-12T14:37:33.209Z"
   },
   {
    "duration": 13,
    "start_time": "2023-11-12T14:37:33.243Z"
   },
   {
    "duration": 143,
    "start_time": "2023-11-12T14:37:33.259Z"
   },
   {
    "duration": 161,
    "start_time": "2023-11-12T14:37:33.404Z"
   },
   {
    "duration": 17,
    "start_time": "2023-11-12T14:37:33.567Z"
   },
   {
    "duration": 46,
    "start_time": "2023-11-12T14:37:33.586Z"
   },
   {
    "duration": 27,
    "start_time": "2023-11-12T14:37:33.634Z"
   },
   {
    "duration": 168,
    "start_time": "2023-11-12T14:37:33.663Z"
   },
   {
    "duration": 204,
    "start_time": "2023-11-12T14:37:33.838Z"
   },
   {
    "duration": 214,
    "start_time": "2023-11-12T14:37:34.046Z"
   },
   {
    "duration": 15,
    "start_time": "2023-11-12T14:37:34.263Z"
   },
   {
    "duration": 188,
    "start_time": "2023-11-12T14:37:34.282Z"
   },
   {
    "duration": 156,
    "start_time": "2023-11-12T14:37:34.472Z"
   },
   {
    "duration": 199,
    "start_time": "2023-11-12T14:37:34.630Z"
   },
   {
    "duration": 1042,
    "start_time": "2023-11-12T14:37:34.831Z"
   },
   {
    "duration": 17,
    "start_time": "2023-11-12T14:37:35.875Z"
   },
   {
    "duration": 4,
    "start_time": "2023-11-12T14:37:35.893Z"
   },
   {
    "duration": 222,
    "start_time": "2023-11-12T14:37:35.899Z"
   },
   {
    "duration": 4,
    "start_time": "2023-11-12T14:46:43.692Z"
   },
   {
    "duration": 21,
    "start_time": "2023-11-12T14:47:15.603Z"
   },
   {
    "duration": 14,
    "start_time": "2023-11-12T14:59:22.015Z"
   },
   {
    "duration": 75,
    "start_time": "2023-11-12T14:59:32.682Z"
   },
   {
    "duration": 10,
    "start_time": "2023-11-12T14:59:48.152Z"
   },
   {
    "duration": 26,
    "start_time": "2023-11-12T15:00:00.656Z"
   },
   {
    "duration": 33,
    "start_time": "2023-11-12T15:00:17.452Z"
   },
   {
    "duration": 49,
    "start_time": "2023-11-12T15:05:59.083Z"
   },
   {
    "duration": 19,
    "start_time": "2023-11-12T15:06:08.502Z"
   },
   {
    "duration": 49,
    "start_time": "2023-11-12T15:09:49.021Z"
   },
   {
    "duration": 26,
    "start_time": "2023-11-12T15:10:01.923Z"
   },
   {
    "duration": 21,
    "start_time": "2023-11-12T15:10:24.387Z"
   },
   {
    "duration": 21,
    "start_time": "2023-11-12T15:11:47.201Z"
   },
   {
    "duration": 21,
    "start_time": "2023-11-12T15:12:02.162Z"
   },
   {
    "duration": 1611,
    "start_time": "2023-11-12T15:12:19.163Z"
   },
   {
    "duration": 23,
    "start_time": "2023-11-12T15:12:30.859Z"
   },
   {
    "duration": 17,
    "start_time": "2023-11-12T15:13:06.292Z"
   },
   {
    "duration": 34,
    "start_time": "2023-11-12T15:16:53.116Z"
   },
   {
    "duration": 14,
    "start_time": "2023-11-12T15:17:32.811Z"
   },
   {
    "duration": 46,
    "start_time": "2023-11-12T15:17:37.971Z"
   },
   {
    "duration": 55,
    "start_time": "2023-11-12T15:17:47.230Z"
   },
   {
    "duration": 16,
    "start_time": "2023-11-12T15:17:53.486Z"
   },
   {
    "duration": 15,
    "start_time": "2023-11-12T15:17:58.111Z"
   },
   {
    "duration": 25,
    "start_time": "2023-11-12T15:18:14.351Z"
   },
   {
    "duration": 27,
    "start_time": "2023-11-12T15:18:27.426Z"
   },
   {
    "duration": 30,
    "start_time": "2023-11-12T15:18:55.551Z"
   },
   {
    "duration": 947,
    "start_time": "2023-11-12T15:22:04.102Z"
   },
   {
    "duration": 48,
    "start_time": "2023-11-12T15:22:18.240Z"
   },
   {
    "duration": 24,
    "start_time": "2023-11-12T15:22:22.848Z"
   },
   {
    "duration": 17,
    "start_time": "2023-11-12T15:22:33.663Z"
   },
   {
    "duration": 20,
    "start_time": "2023-11-12T15:22:39.496Z"
   },
   {
    "duration": 30,
    "start_time": "2023-11-12T15:23:11.335Z"
   },
   {
    "duration": 13,
    "start_time": "2023-11-12T15:24:24.952Z"
   },
   {
    "duration": 1007,
    "start_time": "2023-11-12T15:24:43.765Z"
   },
   {
    "duration": 4,
    "start_time": "2023-11-12T15:26:09.183Z"
   },
   {
    "duration": 16,
    "start_time": "2023-11-12T15:26:10.908Z"
   },
   {
    "duration": 52,
    "start_time": "2023-11-12T15:26:14.430Z"
   },
   {
    "duration": 1385,
    "start_time": "2023-11-12T15:26:30.108Z"
   },
   {
    "duration": 40,
    "start_time": "2023-11-12T15:26:42.572Z"
   },
   {
    "duration": 5,
    "start_time": "2023-11-12T15:26:47.465Z"
   },
   {
    "duration": 11,
    "start_time": "2023-11-12T15:27:08.542Z"
   },
   {
    "duration": 38,
    "start_time": "2023-11-12T15:27:11.304Z"
   },
   {
    "duration": 25,
    "start_time": "2023-11-12T15:27:19.537Z"
   },
   {
    "duration": 17,
    "start_time": "2023-11-12T15:27:22.750Z"
   },
   {
    "duration": 21,
    "start_time": "2023-11-12T15:27:27.699Z"
   },
   {
    "duration": 31,
    "start_time": "2023-11-12T15:32:22.343Z"
   },
   {
    "duration": 19,
    "start_time": "2023-11-12T15:32:26.998Z"
   },
   {
    "duration": 20,
    "start_time": "2023-11-12T15:32:41.096Z"
   },
   {
    "duration": 325,
    "start_time": "2023-11-12T15:32:55.788Z"
   },
   {
    "duration": 135,
    "start_time": "2023-11-12T15:33:07.564Z"
   },
   {
    "duration": 56,
    "start_time": "2023-11-12T15:33:22.348Z"
   },
   {
    "duration": 13,
    "start_time": "2023-11-12T15:58:11.564Z"
   },
   {
    "duration": 8,
    "start_time": "2023-11-12T15:59:01.484Z"
   },
   {
    "duration": 5,
    "start_time": "2023-11-12T15:59:33.098Z"
   },
   {
    "duration": 8,
    "start_time": "2023-11-12T16:00:25.812Z"
   },
   {
    "duration": 8,
    "start_time": "2023-11-12T16:02:53.204Z"
   },
   {
    "duration": 11,
    "start_time": "2023-11-12T16:03:17.530Z"
   },
   {
    "duration": 6,
    "start_time": "2023-11-12T16:03:30.383Z"
   },
   {
    "duration": 12,
    "start_time": "2023-11-12T16:03:56.142Z"
   },
   {
    "duration": 14,
    "start_time": "2023-11-12T16:09:04.365Z"
   },
   {
    "duration": 3,
    "start_time": "2023-11-12T16:09:14.801Z"
   },
   {
    "duration": 15,
    "start_time": "2023-11-12T16:09:22.719Z"
   },
   {
    "duration": 4,
    "start_time": "2023-11-12T16:09:47.307Z"
   },
   {
    "duration": 15,
    "start_time": "2023-11-12T16:09:49.089Z"
   },
   {
    "duration": 306,
    "start_time": "2023-11-12T16:11:43.860Z"
   },
   {
    "duration": 321,
    "start_time": "2023-11-12T16:12:08.520Z"
   },
   {
    "duration": 325,
    "start_time": "2023-11-12T16:13:20.171Z"
   },
   {
    "duration": 339,
    "start_time": "2023-11-12T16:13:35.068Z"
   },
   {
    "duration": 329,
    "start_time": "2023-11-12T16:14:33.960Z"
   },
   {
    "duration": 356,
    "start_time": "2023-11-12T16:15:41.132Z"
   },
   {
    "duration": 492,
    "start_time": "2023-11-12T16:16:21.901Z"
   },
   {
    "duration": 1239,
    "start_time": "2023-11-12T16:17:09.314Z"
   },
   {
    "duration": 5,
    "start_time": "2023-11-12T16:17:24.216Z"
   },
   {
    "duration": 49,
    "start_time": "2023-11-12T16:17:26.916Z"
   },
   {
    "duration": 22,
    "start_time": "2023-11-12T16:17:31.445Z"
   },
   {
    "duration": 17,
    "start_time": "2023-11-12T16:17:36.008Z"
   },
   {
    "duration": 7,
    "start_time": "2023-11-12T16:17:41.501Z"
   },
   {
    "duration": 24,
    "start_time": "2023-11-12T16:17:57.934Z"
   },
   {
    "duration": 12,
    "start_time": "2023-11-12T16:19:03.130Z"
   },
   {
    "duration": 11,
    "start_time": "2023-11-12T16:19:10.479Z"
   },
   {
    "duration": 12,
    "start_time": "2023-11-12T16:22:50.984Z"
   },
   {
    "duration": 1388,
    "start_time": "2023-11-12T18:14:01.503Z"
   },
   {
    "duration": 99,
    "start_time": "2023-11-12T18:14:02.892Z"
   },
   {
    "duration": 15,
    "start_time": "2023-11-12T18:14:02.993Z"
   },
   {
    "duration": 176,
    "start_time": "2023-11-12T18:14:03.009Z"
   },
   {
    "duration": 10,
    "start_time": "2023-11-12T18:14:03.186Z"
   },
   {
    "duration": 60,
    "start_time": "2023-11-12T18:14:03.198Z"
   },
   {
    "duration": 9,
    "start_time": "2023-11-12T18:14:03.260Z"
   },
   {
    "duration": 15,
    "start_time": "2023-11-12T18:14:03.270Z"
   },
   {
    "duration": 7,
    "start_time": "2023-11-12T18:14:03.286Z"
   },
   {
    "duration": 13,
    "start_time": "2023-11-12T18:14:03.294Z"
   },
   {
    "duration": 9,
    "start_time": "2023-11-12T18:14:03.309Z"
   },
   {
    "duration": 4,
    "start_time": "2023-11-12T18:14:03.319Z"
   },
   {
    "duration": 7,
    "start_time": "2023-11-12T18:14:03.325Z"
   },
   {
    "duration": 13,
    "start_time": "2023-11-12T18:14:03.335Z"
   },
   {
    "duration": 7,
    "start_time": "2023-11-12T18:14:03.350Z"
   },
   {
    "duration": 14,
    "start_time": "2023-11-12T18:14:03.358Z"
   },
   {
    "duration": 7,
    "start_time": "2023-11-12T18:14:03.374Z"
   },
   {
    "duration": 18,
    "start_time": "2023-11-12T18:14:03.382Z"
   },
   {
    "duration": 6,
    "start_time": "2023-11-12T18:14:03.401Z"
   },
   {
    "duration": 10,
    "start_time": "2023-11-12T18:14:03.408Z"
   },
   {
    "duration": 8,
    "start_time": "2023-11-12T18:14:03.419Z"
   },
   {
    "duration": 38,
    "start_time": "2023-11-12T18:14:03.429Z"
   },
   {
    "duration": 41,
    "start_time": "2023-11-12T18:14:03.468Z"
   },
   {
    "duration": 156,
    "start_time": "2023-11-12T18:14:03.510Z"
   },
   {
    "duration": 150,
    "start_time": "2023-11-12T18:14:03.668Z"
   },
   {
    "duration": 180,
    "start_time": "2023-11-12T18:14:03.819Z"
   },
   {
    "duration": 14,
    "start_time": "2023-11-12T18:14:04.001Z"
   },
   {
    "duration": 155,
    "start_time": "2023-11-12T18:14:04.017Z"
   },
   {
    "duration": 129,
    "start_time": "2023-11-12T18:14:04.174Z"
   },
   {
    "duration": 165,
    "start_time": "2023-11-12T18:14:04.304Z"
   },
   {
    "duration": 860,
    "start_time": "2023-11-12T18:14:04.471Z"
   },
   {
    "duration": 3,
    "start_time": "2023-11-12T18:14:05.333Z"
   },
   {
    "duration": 106,
    "start_time": "2023-11-12T18:14:05.337Z"
   },
   {
    "duration": 10,
    "start_time": "2023-11-12T18:14:05.444Z"
   },
   {
    "duration": 14,
    "start_time": "2023-11-12T18:14:05.456Z"
   },
   {
    "duration": 29,
    "start_time": "2023-11-12T18:14:05.472Z"
   },
   {
    "duration": 5,
    "start_time": "2023-11-12T18:14:05.502Z"
   },
   {
    "duration": 16,
    "start_time": "2023-11-12T18:14:05.509Z"
   },
   {
    "duration": 10,
    "start_time": "2023-11-12T18:14:05.526Z"
   },
   {
    "duration": 3,
    "start_time": "2023-11-12T18:17:59.913Z"
   },
   {
    "duration": 1274,
    "start_time": "2023-11-12T18:18:05.625Z"
   },
   {
    "duration": 37,
    "start_time": "2023-11-12T18:18:06.901Z"
   },
   {
    "duration": 11,
    "start_time": "2023-11-12T18:18:06.939Z"
   },
   {
    "duration": 50,
    "start_time": "2023-11-12T18:18:06.952Z"
   },
   {
    "duration": 11,
    "start_time": "2023-11-12T18:18:07.003Z"
   },
   {
    "duration": 19,
    "start_time": "2023-11-12T18:18:07.015Z"
   },
   {
    "duration": 10,
    "start_time": "2023-11-12T18:18:07.036Z"
   },
   {
    "duration": 19,
    "start_time": "2023-11-12T18:18:07.048Z"
   },
   {
    "duration": 8,
    "start_time": "2023-11-12T18:18:07.069Z"
   },
   {
    "duration": 7,
    "start_time": "2023-11-12T18:18:07.100Z"
   },
   {
    "duration": 11,
    "start_time": "2023-11-12T18:18:07.108Z"
   },
   {
    "duration": 15,
    "start_time": "2023-11-12T18:18:07.121Z"
   },
   {
    "duration": 8,
    "start_time": "2023-11-12T18:18:07.138Z"
   },
   {
    "duration": 7,
    "start_time": "2023-11-12T18:18:07.147Z"
   },
   {
    "duration": 7,
    "start_time": "2023-11-12T18:18:07.156Z"
   },
   {
    "duration": 15,
    "start_time": "2023-11-12T18:18:07.164Z"
   },
   {
    "duration": 19,
    "start_time": "2023-11-12T18:18:07.181Z"
   },
   {
    "duration": 5,
    "start_time": "2023-11-12T18:18:07.201Z"
   },
   {
    "duration": 7,
    "start_time": "2023-11-12T18:18:07.207Z"
   },
   {
    "duration": 12,
    "start_time": "2023-11-12T18:18:07.215Z"
   },
   {
    "duration": 7,
    "start_time": "2023-11-12T18:18:07.228Z"
   },
   {
    "duration": 26,
    "start_time": "2023-11-12T18:18:07.237Z"
   },
   {
    "duration": 16,
    "start_time": "2023-11-12T18:18:07.299Z"
   },
   {
    "duration": 172,
    "start_time": "2023-11-12T18:18:07.317Z"
   },
   {
    "duration": 161,
    "start_time": "2023-11-12T18:18:07.491Z"
   },
   {
    "duration": 190,
    "start_time": "2023-11-12T18:18:07.654Z"
   },
   {
    "duration": 13,
    "start_time": "2023-11-12T18:18:07.846Z"
   },
   {
    "duration": 174,
    "start_time": "2023-11-12T18:18:07.862Z"
   },
   {
    "duration": 136,
    "start_time": "2023-11-12T18:18:08.037Z"
   },
   {
    "duration": 155,
    "start_time": "2023-11-12T18:18:08.175Z"
   },
   {
    "duration": 847,
    "start_time": "2023-11-12T18:18:08.332Z"
   },
   {
    "duration": 2,
    "start_time": "2023-11-12T18:18:09.181Z"
   },
   {
    "duration": 30,
    "start_time": "2023-11-12T18:18:09.185Z"
   },
   {
    "duration": 10,
    "start_time": "2023-11-12T18:18:09.217Z"
   },
   {
    "duration": 23,
    "start_time": "2023-11-12T18:18:09.229Z"
   },
   {
    "duration": 13,
    "start_time": "2023-11-12T18:18:09.253Z"
   },
   {
    "duration": 6,
    "start_time": "2023-11-12T18:18:09.267Z"
   },
   {
    "duration": 28,
    "start_time": "2023-11-12T18:18:09.274Z"
   },
   {
    "duration": 28,
    "start_time": "2023-11-12T18:18:09.303Z"
   },
   {
    "duration": 98,
    "start_time": "2023-11-12T18:32:59.594Z"
   },
   {
    "duration": 171,
    "start_time": "2023-11-12T19:03:53.902Z"
   },
   {
    "duration": 168,
    "start_time": "2023-11-12T19:04:06.428Z"
   },
   {
    "duration": 224,
    "start_time": "2023-11-12T19:04:14.937Z"
   },
   {
    "duration": 186,
    "start_time": "2023-11-12T19:05:05.660Z"
   },
   {
    "duration": 9,
    "start_time": "2023-11-12T19:10:12.344Z"
   },
   {
    "duration": 1473,
    "start_time": "2023-11-12T19:10:22.390Z"
   },
   {
    "duration": 243,
    "start_time": "2023-11-12T19:10:27.473Z"
   },
   {
    "duration": 249,
    "start_time": "2023-11-12T19:10:48.305Z"
   },
   {
    "duration": 183,
    "start_time": "2023-11-12T19:10:56.009Z"
   },
   {
    "duration": 433,
    "start_time": "2023-11-12T19:11:03.548Z"
   },
   {
    "duration": 353,
    "start_time": "2023-11-12T19:11:14.949Z"
   },
   {
    "duration": 331,
    "start_time": "2023-11-12T19:11:20.827Z"
   },
   {
    "duration": 221,
    "start_time": "2023-11-12T19:11:24.961Z"
   },
   {
    "duration": 253,
    "start_time": "2023-11-12T19:11:52.456Z"
   },
   {
    "duration": 314,
    "start_time": "2023-11-12T19:12:20.439Z"
   },
   {
    "duration": 172,
    "start_time": "2023-11-12T19:12:29.201Z"
   },
   {
    "duration": 160,
    "start_time": "2023-11-12T19:12:39.415Z"
   },
   {
    "duration": 244,
    "start_time": "2023-11-12T19:13:11.179Z"
   },
   {
    "duration": 494,
    "start_time": "2023-11-12T19:13:17.001Z"
   },
   {
    "duration": 182,
    "start_time": "2023-11-12T19:13:22.900Z"
   },
   {
    "duration": 262,
    "start_time": "2023-11-12T19:13:29.690Z"
   },
   {
    "duration": 238,
    "start_time": "2023-11-12T19:13:56.489Z"
   },
   {
    "duration": 273,
    "start_time": "2023-11-12T19:14:09.575Z"
   },
   {
    "duration": 229,
    "start_time": "2023-11-12T19:14:25.920Z"
   },
   {
    "duration": 230,
    "start_time": "2023-11-12T19:15:27.369Z"
   },
   {
    "duration": 1415,
    "start_time": "2023-11-12T19:17:12.994Z"
   },
   {
    "duration": 191,
    "start_time": "2023-11-12T19:18:31.525Z"
   },
   {
    "duration": 258,
    "start_time": "2023-11-12T19:18:51.463Z"
   },
   {
    "duration": 139,
    "start_time": "2023-11-12T19:19:59.067Z"
   },
   {
    "duration": 100,
    "start_time": "2023-11-12T19:21:45.356Z"
   },
   {
    "duration": 82,
    "start_time": "2023-11-12T19:22:09.214Z"
   },
   {
    "duration": 109,
    "start_time": "2023-11-12T19:22:44.231Z"
   },
   {
    "duration": 274,
    "start_time": "2023-11-12T19:23:43.796Z"
   },
   {
    "duration": 103,
    "start_time": "2023-11-12T19:24:00.513Z"
   },
   {
    "duration": 163,
    "start_time": "2023-11-12T19:24:10.414Z"
   },
   {
    "duration": 268,
    "start_time": "2023-11-12T19:24:19.635Z"
   },
   {
    "duration": 125,
    "start_time": "2023-11-12T19:24:29.437Z"
   },
   {
    "duration": 134,
    "start_time": "2023-11-12T19:24:33.712Z"
   },
   {
    "duration": 118,
    "start_time": "2023-11-12T19:24:47.821Z"
   },
   {
    "duration": 204,
    "start_time": "2023-11-12T19:24:52.203Z"
   },
   {
    "duration": 91,
    "start_time": "2023-11-12T19:24:56.632Z"
   },
   {
    "duration": 183,
    "start_time": "2023-11-12T19:25:12.803Z"
   },
   {
    "duration": 115,
    "start_time": "2023-11-12T19:25:35.580Z"
   },
   {
    "duration": 111,
    "start_time": "2023-11-12T19:25:38.689Z"
   },
   {
    "duration": 277,
    "start_time": "2023-11-12T19:25:49.285Z"
   },
   {
    "duration": 1381,
    "start_time": "2023-11-12T19:25:54.279Z"
   },
   {
    "duration": 131,
    "start_time": "2023-11-12T19:26:10.037Z"
   },
   {
    "duration": 152,
    "start_time": "2023-11-12T19:26:19.280Z"
   },
   {
    "duration": 172,
    "start_time": "2023-11-12T19:26:27.871Z"
   },
   {
    "duration": 157,
    "start_time": "2023-11-12T19:26:37.371Z"
   },
   {
    "duration": 120,
    "start_time": "2023-11-12T19:26:44.735Z"
   },
   {
    "duration": 272,
    "start_time": "2023-11-12T19:26:53.020Z"
   },
   {
    "duration": 160,
    "start_time": "2023-11-12T19:28:55.675Z"
   },
   {
    "duration": 142,
    "start_time": "2023-11-12T19:29:17.611Z"
   },
   {
    "duration": 136,
    "start_time": "2023-11-12T19:29:25.124Z"
   },
   {
    "duration": 132,
    "start_time": "2023-11-12T19:30:08.461Z"
   },
   {
    "duration": 10,
    "start_time": "2023-11-12T19:31:28.036Z"
   },
   {
    "duration": 126,
    "start_time": "2023-11-12T19:31:43.282Z"
   },
   {
    "duration": 142,
    "start_time": "2023-11-12T19:31:49.020Z"
   },
   {
    "duration": 29,
    "start_time": "2023-11-12T19:32:15.036Z"
   },
   {
    "duration": 22,
    "start_time": "2023-11-12T19:33:42.965Z"
   },
   {
    "duration": 13,
    "start_time": "2023-11-12T19:34:37.757Z"
   },
   {
    "duration": 21,
    "start_time": "2023-11-12T19:35:38.648Z"
   },
   {
    "duration": 14,
    "start_time": "2023-11-12T19:35:56.108Z"
   },
   {
    "duration": 17,
    "start_time": "2023-11-12T19:36:19.962Z"
   },
   {
    "duration": 112,
    "start_time": "2023-11-12T20:16:00.320Z"
   },
   {
    "duration": 143,
    "start_time": "2023-11-12T20:27:17.270Z"
   },
   {
    "duration": 143,
    "start_time": "2023-11-12T20:27:55.411Z"
   },
   {
    "duration": 1443,
    "start_time": "2023-11-12T20:28:23.812Z"
   },
   {
    "duration": 1538,
    "start_time": "2023-11-12T20:29:18.419Z"
   },
   {
    "duration": 236,
    "start_time": "2023-11-12T20:29:45.241Z"
   },
   {
    "duration": 1511,
    "start_time": "2023-11-12T20:31:09.771Z"
   },
   {
    "duration": 1543,
    "start_time": "2023-11-12T20:31:21.747Z"
   },
   {
    "duration": 1523,
    "start_time": "2023-11-12T20:31:55.618Z"
   },
   {
    "duration": 1506,
    "start_time": "2023-11-12T20:32:25.801Z"
   },
   {
    "duration": 1508,
    "start_time": "2023-11-12T20:32:39.898Z"
   },
   {
    "duration": 1567,
    "start_time": "2023-11-12T20:33:24.321Z"
   },
   {
    "duration": 276,
    "start_time": "2023-11-12T20:33:53.930Z"
   },
   {
    "duration": 1558,
    "start_time": "2023-11-12T20:34:01.914Z"
   },
   {
    "duration": 320,
    "start_time": "2023-11-12T20:34:37.490Z"
   },
   {
    "duration": 196,
    "start_time": "2023-11-12T20:36:24.977Z"
   },
   {
    "duration": 222,
    "start_time": "2023-11-12T20:37:45.259Z"
   },
   {
    "duration": 163,
    "start_time": "2023-11-12T20:37:53.128Z"
   },
   {
    "duration": 48,
    "start_time": "2023-11-12T20:38:12.605Z"
   },
   {
    "duration": 45,
    "start_time": "2023-11-13T18:14:44.293Z"
   },
   {
    "duration": 1444,
    "start_time": "2023-11-13T18:14:50.705Z"
   },
   {
    "duration": 98,
    "start_time": "2023-11-13T18:14:52.151Z"
   },
   {
    "duration": 19,
    "start_time": "2023-11-13T18:14:52.251Z"
   },
   {
    "duration": 16,
    "start_time": "2023-11-13T18:14:52.272Z"
   },
   {
    "duration": 170,
    "start_time": "2023-11-13T18:14:52.290Z"
   },
   {
    "duration": 14,
    "start_time": "2023-11-13T18:14:52.462Z"
   },
   {
    "duration": 20,
    "start_time": "2023-11-13T18:14:52.477Z"
   },
   {
    "duration": 66,
    "start_time": "2023-11-13T18:14:52.499Z"
   },
   {
    "duration": 9,
    "start_time": "2023-11-13T18:14:52.567Z"
   },
   {
    "duration": 14,
    "start_time": "2023-11-13T18:14:52.579Z"
   },
   {
    "duration": 13,
    "start_time": "2023-11-13T18:14:52.595Z"
   },
   {
    "duration": 7,
    "start_time": "2023-11-13T18:14:52.609Z"
   },
   {
    "duration": 6,
    "start_time": "2023-11-13T18:14:52.617Z"
   },
   {
    "duration": 7,
    "start_time": "2023-11-13T18:14:52.625Z"
   },
   {
    "duration": 5,
    "start_time": "2023-11-13T18:14:52.655Z"
   },
   {
    "duration": 12,
    "start_time": "2023-11-13T18:14:52.663Z"
   },
   {
    "duration": 9,
    "start_time": "2023-11-13T18:14:52.676Z"
   },
   {
    "duration": 8,
    "start_time": "2023-11-13T18:14:52.686Z"
   },
   {
    "duration": 15,
    "start_time": "2023-11-13T18:14:52.695Z"
   },
   {
    "duration": 111,
    "start_time": "2023-11-13T18:14:52.712Z"
   },
   {
    "duration": 0,
    "start_time": "2023-11-13T18:14:52.825Z"
   },
   {
    "duration": 0,
    "start_time": "2023-11-13T18:14:52.826Z"
   },
   {
    "duration": 0,
    "start_time": "2023-11-13T18:14:52.826Z"
   },
   {
    "duration": 0,
    "start_time": "2023-11-13T18:14:52.828Z"
   },
   {
    "duration": 0,
    "start_time": "2023-11-13T18:14:52.828Z"
   },
   {
    "duration": 0,
    "start_time": "2023-11-13T18:14:52.829Z"
   },
   {
    "duration": 0,
    "start_time": "2023-11-13T18:14:52.830Z"
   },
   {
    "duration": 0,
    "start_time": "2023-11-13T18:14:52.831Z"
   },
   {
    "duration": 0,
    "start_time": "2023-11-13T18:14:52.832Z"
   },
   {
    "duration": 0,
    "start_time": "2023-11-13T18:14:52.833Z"
   },
   {
    "duration": 0,
    "start_time": "2023-11-13T18:14:52.834Z"
   },
   {
    "duration": 0,
    "start_time": "2023-11-13T18:14:52.835Z"
   },
   {
    "duration": 0,
    "start_time": "2023-11-13T18:14:52.859Z"
   },
   {
    "duration": 0,
    "start_time": "2023-11-13T18:14:52.860Z"
   },
   {
    "duration": 0,
    "start_time": "2023-11-13T18:14:52.860Z"
   },
   {
    "duration": 0,
    "start_time": "2023-11-13T18:14:52.861Z"
   },
   {
    "duration": 0,
    "start_time": "2023-11-13T18:14:52.862Z"
   },
   {
    "duration": 0,
    "start_time": "2023-11-13T18:14:52.864Z"
   },
   {
    "duration": 0,
    "start_time": "2023-11-13T18:14:52.864Z"
   },
   {
    "duration": 0,
    "start_time": "2023-11-13T18:14:52.865Z"
   },
   {
    "duration": 1,
    "start_time": "2023-11-13T18:14:52.865Z"
   },
   {
    "duration": 0,
    "start_time": "2023-11-13T18:14:52.866Z"
   },
   {
    "duration": 0,
    "start_time": "2023-11-13T18:14:52.867Z"
   },
   {
    "duration": 0,
    "start_time": "2023-11-13T18:14:52.867Z"
   },
   {
    "duration": 0,
    "start_time": "2023-11-13T18:14:52.868Z"
   },
   {
    "duration": 0,
    "start_time": "2023-11-13T18:14:52.869Z"
   },
   {
    "duration": 0,
    "start_time": "2023-11-13T18:14:52.869Z"
   },
   {
    "duration": 0,
    "start_time": "2023-11-13T18:14:52.870Z"
   },
   {
    "duration": 0,
    "start_time": "2023-11-13T18:14:52.873Z"
   },
   {
    "duration": 199,
    "start_time": "2023-11-13T18:15:17.483Z"
   },
   {
    "duration": 1199,
    "start_time": "2023-11-13T18:15:24.000Z"
   },
   {
    "duration": 37,
    "start_time": "2023-11-13T18:15:25.200Z"
   },
   {
    "duration": 10,
    "start_time": "2023-11-13T18:15:25.238Z"
   },
   {
    "duration": 29,
    "start_time": "2023-11-13T18:15:25.250Z"
   },
   {
    "duration": 40,
    "start_time": "2023-11-13T18:15:25.280Z"
   },
   {
    "duration": 12,
    "start_time": "2023-11-13T18:15:25.321Z"
   },
   {
    "duration": 19,
    "start_time": "2023-11-13T18:15:25.334Z"
   },
   {
    "duration": 32,
    "start_time": "2023-11-13T18:15:25.354Z"
   },
   {
    "duration": 14,
    "start_time": "2023-11-13T18:15:25.388Z"
   },
   {
    "duration": 42,
    "start_time": "2023-11-13T18:15:25.404Z"
   },
   {
    "duration": 62,
    "start_time": "2023-11-13T18:15:25.448Z"
   },
   {
    "duration": 37,
    "start_time": "2023-11-13T18:15:25.511Z"
   },
   {
    "duration": 66,
    "start_time": "2023-11-13T18:15:25.549Z"
   },
   {
    "duration": 20,
    "start_time": "2023-11-13T18:15:25.617Z"
   },
   {
    "duration": 36,
    "start_time": "2023-11-13T18:15:25.639Z"
   },
   {
    "duration": 8,
    "start_time": "2023-11-13T18:15:25.677Z"
   },
   {
    "duration": 10,
    "start_time": "2023-11-13T18:15:25.686Z"
   },
   {
    "duration": 17,
    "start_time": "2023-11-13T18:15:25.697Z"
   },
   {
    "duration": 59,
    "start_time": "2023-11-13T18:15:25.715Z"
   },
   {
    "duration": 178,
    "start_time": "2023-11-13T18:15:25.775Z"
   },
   {
    "duration": 12,
    "start_time": "2023-11-13T18:15:25.954Z"
   },
   {
    "duration": 382,
    "start_time": "2023-11-13T18:15:25.967Z"
   },
   {
    "duration": 18,
    "start_time": "2023-11-13T18:15:26.351Z"
   },
   {
    "duration": 93,
    "start_time": "2023-11-13T18:15:26.371Z"
   },
   {
    "duration": 7,
    "start_time": "2023-11-13T18:15:26.465Z"
   },
   {
    "duration": 253,
    "start_time": "2023-11-13T18:15:26.474Z"
   },
   {
    "duration": 43,
    "start_time": "2023-11-13T18:15:26.729Z"
   },
   {
    "duration": 251,
    "start_time": "2023-11-13T18:15:26.775Z"
   },
   {
    "duration": 1423,
    "start_time": "2023-11-13T18:15:27.027Z"
   },
   {
    "duration": 18,
    "start_time": "2023-11-13T18:15:28.455Z"
   },
   {
    "duration": 37,
    "start_time": "2023-11-13T18:15:28.475Z"
   },
   {
    "duration": 156,
    "start_time": "2023-11-13T18:15:28.514Z"
   },
   {
    "duration": 145,
    "start_time": "2023-11-13T18:15:28.672Z"
   },
   {
    "duration": 176,
    "start_time": "2023-11-13T18:15:28.819Z"
   },
   {
    "duration": 13,
    "start_time": "2023-11-13T18:15:28.996Z"
   },
   {
    "duration": 162,
    "start_time": "2023-11-13T18:15:29.010Z"
   },
   {
    "duration": 123,
    "start_time": "2023-11-13T18:15:29.173Z"
   },
   {
    "duration": 150,
    "start_time": "2023-11-13T18:15:29.297Z"
   },
   {
    "duration": 877,
    "start_time": "2023-11-13T18:15:29.449Z"
   },
   {
    "duration": 3,
    "start_time": "2023-11-13T18:15:30.327Z"
   },
   {
    "duration": 43,
    "start_time": "2023-11-13T18:15:30.332Z"
   },
   {
    "duration": 23,
    "start_time": "2023-11-13T18:15:30.377Z"
   },
   {
    "duration": 43,
    "start_time": "2023-11-13T18:15:30.402Z"
   },
   {
    "duration": 30,
    "start_time": "2023-11-13T18:15:30.446Z"
   },
   {
    "duration": 53,
    "start_time": "2023-11-13T18:15:30.477Z"
   },
   {
    "duration": 145,
    "start_time": "2023-11-13T18:15:30.531Z"
   },
   {
    "duration": 5,
    "start_time": "2023-11-13T18:15:30.678Z"
   },
   {
    "duration": 84,
    "start_time": "2023-11-13T18:15:30.685Z"
   },
   {
    "duration": 127,
    "start_time": "2023-11-13T18:15:30.772Z"
   },
   {
    "duration": 30,
    "start_time": "2023-11-13T18:21:34.541Z"
   },
   {
    "duration": 155,
    "start_time": "2023-11-13T18:23:24.341Z"
   },
   {
    "duration": 134,
    "start_time": "2023-11-13T18:23:36.199Z"
   },
   {
    "duration": 138,
    "start_time": "2023-11-13T19:28:47.913Z"
   },
   {
    "duration": 136,
    "start_time": "2023-11-13T19:28:51.580Z"
   },
   {
    "duration": 1287,
    "start_time": "2023-11-13T19:33:53.919Z"
   },
   {
    "duration": 45,
    "start_time": "2023-11-13T19:33:55.208Z"
   },
   {
    "duration": 98,
    "start_time": "2023-11-13T19:33:55.254Z"
   },
   {
    "duration": 23,
    "start_time": "2023-11-13T19:33:55.354Z"
   },
   {
    "duration": 52,
    "start_time": "2023-11-13T19:33:55.379Z"
   },
   {
    "duration": 16,
    "start_time": "2023-11-13T19:33:55.434Z"
   },
   {
    "duration": 58,
    "start_time": "2023-11-13T19:33:55.452Z"
   },
   {
    "duration": 38,
    "start_time": "2023-11-13T19:33:55.513Z"
   },
   {
    "duration": 24,
    "start_time": "2023-11-13T19:33:55.552Z"
   },
   {
    "duration": 40,
    "start_time": "2023-11-13T19:33:55.579Z"
   },
   {
    "duration": 34,
    "start_time": "2023-11-13T19:33:55.620Z"
   },
   {
    "duration": 45,
    "start_time": "2023-11-13T19:33:55.656Z"
   },
   {
    "duration": 46,
    "start_time": "2023-11-13T19:33:55.703Z"
   },
   {
    "duration": 59,
    "start_time": "2023-11-13T19:33:55.751Z"
   },
   {
    "duration": 46,
    "start_time": "2023-11-13T19:33:55.812Z"
   },
   {
    "duration": 30,
    "start_time": "2023-11-13T19:33:55.860Z"
   },
   {
    "duration": 81,
    "start_time": "2023-11-13T19:33:55.892Z"
   },
   {
    "duration": 189,
    "start_time": "2023-11-13T19:33:55.975Z"
   },
   {
    "duration": 127,
    "start_time": "2023-11-13T19:33:56.166Z"
   },
   {
    "duration": 207,
    "start_time": "2023-11-13T19:33:56.295Z"
   },
   {
    "duration": 6,
    "start_time": "2023-11-13T19:33:56.504Z"
   },
   {
    "duration": 211,
    "start_time": "2023-11-13T19:33:56.512Z"
   },
   {
    "duration": 5,
    "start_time": "2023-11-13T19:33:56.725Z"
   },
   {
    "duration": 112,
    "start_time": "2023-11-13T19:33:56.731Z"
   },
   {
    "duration": 5,
    "start_time": "2023-11-13T19:33:56.844Z"
   },
   {
    "duration": 253,
    "start_time": "2023-11-13T19:33:56.850Z"
   },
   {
    "duration": 30,
    "start_time": "2023-11-13T19:33:57.105Z"
   },
   {
    "duration": 390,
    "start_time": "2023-11-13T19:33:57.139Z"
   },
   {
    "duration": 1488,
    "start_time": "2023-11-13T19:33:57.530Z"
   },
   {
    "duration": 14,
    "start_time": "2023-11-13T19:33:59.020Z"
   },
   {
    "duration": 50,
    "start_time": "2023-11-13T19:33:59.035Z"
   },
   {
    "duration": 141,
    "start_time": "2023-11-13T19:33:59.087Z"
   },
   {
    "duration": 158,
    "start_time": "2023-11-13T19:33:59.229Z"
   },
   {
    "duration": 214,
    "start_time": "2023-11-13T19:33:59.389Z"
   },
   {
    "duration": 18,
    "start_time": "2023-11-13T19:33:59.604Z"
   },
   {
    "duration": 58,
    "start_time": "2023-11-13T19:33:59.624Z"
   },
   {
    "duration": 174,
    "start_time": "2023-11-13T19:33:59.684Z"
   },
   {
    "duration": 154,
    "start_time": "2023-11-13T19:33:59.859Z"
   },
   {
    "duration": 174,
    "start_time": "2023-11-13T19:34:00.014Z"
   },
   {
    "duration": 1025,
    "start_time": "2023-11-13T19:34:00.190Z"
   },
   {
    "duration": 4,
    "start_time": "2023-11-13T19:34:01.217Z"
   },
   {
    "duration": 248,
    "start_time": "2023-11-13T19:34:01.222Z"
   },
   {
    "duration": 79,
    "start_time": "2023-11-13T19:34:01.472Z"
   },
   {
    "duration": 58,
    "start_time": "2023-11-13T19:34:01.552Z"
   },
   {
    "duration": 79,
    "start_time": "2023-11-13T19:34:01.612Z"
   },
   {
    "duration": 139,
    "start_time": "2023-11-13T19:34:01.693Z"
   },
   {
    "duration": 6,
    "start_time": "2023-11-13T19:34:01.834Z"
   },
   {
    "duration": 33,
    "start_time": "2023-11-13T19:34:01.855Z"
   },
   {
    "duration": 52,
    "start_time": "2023-11-13T19:34:01.890Z"
   },
   {
    "duration": 1283,
    "start_time": "2023-11-14T07:55:49.739Z"
   },
   {
    "duration": 88,
    "start_time": "2023-11-14T07:55:51.025Z"
   },
   {
    "duration": 11,
    "start_time": "2023-11-14T07:55:51.115Z"
   },
   {
    "duration": 22,
    "start_time": "2023-11-14T07:55:51.129Z"
   },
   {
    "duration": 77,
    "start_time": "2023-11-14T07:55:51.153Z"
   },
   {
    "duration": 11,
    "start_time": "2023-11-14T07:55:51.232Z"
   },
   {
    "duration": 18,
    "start_time": "2023-11-14T07:55:51.245Z"
   },
   {
    "duration": 59,
    "start_time": "2023-11-14T07:55:51.265Z"
   },
   {
    "duration": 10,
    "start_time": "2023-11-14T07:55:51.326Z"
   },
   {
    "duration": 29,
    "start_time": "2023-11-14T07:55:51.338Z"
   },
   {
    "duration": 21,
    "start_time": "2023-11-14T07:55:51.369Z"
   },
   {
    "duration": 8,
    "start_time": "2023-11-14T07:55:51.392Z"
   },
   {
    "duration": 7,
    "start_time": "2023-11-14T07:55:51.412Z"
   },
   {
    "duration": 6,
    "start_time": "2023-11-14T07:55:51.420Z"
   },
   {
    "duration": 6,
    "start_time": "2023-11-14T07:55:51.428Z"
   },
   {
    "duration": 8,
    "start_time": "2023-11-14T07:55:51.435Z"
   },
   {
    "duration": 17,
    "start_time": "2023-11-14T07:55:51.444Z"
   },
   {
    "duration": 13,
    "start_time": "2023-11-14T07:55:51.463Z"
   },
   {
    "duration": 43,
    "start_time": "2023-11-14T07:55:51.477Z"
   },
   {
    "duration": 228,
    "start_time": "2023-11-14T07:55:51.522Z"
   },
   {
    "duration": 15,
    "start_time": "2023-11-14T07:55:51.752Z"
   },
   {
    "duration": 174,
    "start_time": "2023-11-14T07:55:51.770Z"
   },
   {
    "duration": 7,
    "start_time": "2023-11-14T07:55:51.946Z"
   },
   {
    "duration": 121,
    "start_time": "2023-11-14T07:55:51.954Z"
   },
   {
    "duration": 5,
    "start_time": "2023-11-14T07:55:52.077Z"
   },
   {
    "duration": 285,
    "start_time": "2023-11-14T07:55:52.084Z"
   },
   {
    "duration": 30,
    "start_time": "2023-11-14T07:55:52.370Z"
   },
   {
    "duration": 290,
    "start_time": "2023-11-14T07:55:52.413Z"
   },
   {
    "duration": 1572,
    "start_time": "2023-11-14T07:55:52.705Z"
   },
   {
    "duration": 15,
    "start_time": "2023-11-14T07:55:54.279Z"
   },
   {
    "duration": 32,
    "start_time": "2023-11-14T07:55:54.312Z"
   },
   {
    "duration": 168,
    "start_time": "2023-11-14T07:55:54.346Z"
   },
   {
    "duration": 176,
    "start_time": "2023-11-14T07:55:54.516Z"
   },
   {
    "duration": 183,
    "start_time": "2023-11-14T07:55:54.694Z"
   },
   {
    "duration": 14,
    "start_time": "2023-11-14T07:55:54.879Z"
   },
   {
    "duration": 32,
    "start_time": "2023-11-14T07:55:54.910Z"
   },
   {
    "duration": 201,
    "start_time": "2023-11-14T07:55:54.943Z"
   },
   {
    "duration": 153,
    "start_time": "2023-11-14T07:55:55.146Z"
   },
   {
    "duration": 172,
    "start_time": "2023-11-14T07:55:55.301Z"
   },
   {
    "duration": 987,
    "start_time": "2023-11-14T07:55:55.475Z"
   },
   {
    "duration": 3,
    "start_time": "2023-11-14T07:55:56.463Z"
   },
   {
    "duration": 29,
    "start_time": "2023-11-14T07:55:56.468Z"
   },
   {
    "duration": 22,
    "start_time": "2023-11-14T07:55:56.499Z"
   },
   {
    "duration": 18,
    "start_time": "2023-11-14T07:55:56.522Z"
   },
   {
    "duration": 29,
    "start_time": "2023-11-14T07:55:56.542Z"
   },
   {
    "duration": 178,
    "start_time": "2023-11-14T07:55:56.573Z"
   },
   {
    "duration": 6,
    "start_time": "2023-11-14T07:55:56.753Z"
   },
   {
    "duration": 14,
    "start_time": "2023-11-14T07:55:56.761Z"
   },
   {
    "duration": 10,
    "start_time": "2023-11-14T07:55:56.777Z"
   },
   {
    "duration": 91,
    "start_time": "2023-11-14T09:52:39.831Z"
   },
   {
    "duration": 1498,
    "start_time": "2023-11-14T09:52:46.956Z"
   },
   {
    "duration": 87,
    "start_time": "2023-11-14T09:52:48.456Z"
   },
   {
    "duration": 0,
    "start_time": "2023-11-14T09:52:48.545Z"
   },
   {
    "duration": 0,
    "start_time": "2023-11-14T09:52:48.546Z"
   },
   {
    "duration": 0,
    "start_time": "2023-11-14T09:52:48.547Z"
   },
   {
    "duration": 0,
    "start_time": "2023-11-14T09:52:48.548Z"
   },
   {
    "duration": 1,
    "start_time": "2023-11-14T09:52:48.549Z"
   },
   {
    "duration": 0,
    "start_time": "2023-11-14T09:52:48.550Z"
   },
   {
    "duration": 0,
    "start_time": "2023-11-14T09:52:48.551Z"
   },
   {
    "duration": 0,
    "start_time": "2023-11-14T09:52:48.552Z"
   },
   {
    "duration": 0,
    "start_time": "2023-11-14T09:52:48.553Z"
   },
   {
    "duration": 0,
    "start_time": "2023-11-14T09:52:48.554Z"
   },
   {
    "duration": 0,
    "start_time": "2023-11-14T09:52:48.555Z"
   },
   {
    "duration": 0,
    "start_time": "2023-11-14T09:52:48.556Z"
   },
   {
    "duration": 0,
    "start_time": "2023-11-14T09:52:48.557Z"
   },
   {
    "duration": 0,
    "start_time": "2023-11-14T09:52:48.558Z"
   },
   {
    "duration": 0,
    "start_time": "2023-11-14T09:52:48.559Z"
   },
   {
    "duration": 0,
    "start_time": "2023-11-14T09:52:48.560Z"
   },
   {
    "duration": 0,
    "start_time": "2023-11-14T09:52:48.560Z"
   },
   {
    "duration": 0,
    "start_time": "2023-11-14T09:52:48.561Z"
   },
   {
    "duration": 0,
    "start_time": "2023-11-14T09:52:48.562Z"
   },
   {
    "duration": 0,
    "start_time": "2023-11-14T09:52:48.563Z"
   },
   {
    "duration": 0,
    "start_time": "2023-11-14T09:52:48.564Z"
   },
   {
    "duration": 0,
    "start_time": "2023-11-14T09:52:48.570Z"
   },
   {
    "duration": 0,
    "start_time": "2023-11-14T09:52:48.572Z"
   },
   {
    "duration": 0,
    "start_time": "2023-11-14T09:52:48.574Z"
   },
   {
    "duration": 0,
    "start_time": "2023-11-14T09:52:48.575Z"
   },
   {
    "duration": 0,
    "start_time": "2023-11-14T09:52:48.577Z"
   },
   {
    "duration": 0,
    "start_time": "2023-11-14T09:52:48.578Z"
   },
   {
    "duration": 0,
    "start_time": "2023-11-14T09:52:48.579Z"
   },
   {
    "duration": 0,
    "start_time": "2023-11-14T09:52:48.580Z"
   },
   {
    "duration": 0,
    "start_time": "2023-11-14T09:52:48.581Z"
   },
   {
    "duration": 0,
    "start_time": "2023-11-14T09:52:48.582Z"
   },
   {
    "duration": 0,
    "start_time": "2023-11-14T09:52:48.583Z"
   },
   {
    "duration": 0,
    "start_time": "2023-11-14T09:52:48.584Z"
   },
   {
    "duration": 0,
    "start_time": "2023-11-14T09:52:48.585Z"
   },
   {
    "duration": 0,
    "start_time": "2023-11-14T09:52:48.586Z"
   },
   {
    "duration": 0,
    "start_time": "2023-11-14T09:52:48.587Z"
   },
   {
    "duration": 0,
    "start_time": "2023-11-14T09:52:48.588Z"
   },
   {
    "duration": 0,
    "start_time": "2023-11-14T09:52:48.589Z"
   },
   {
    "duration": 1,
    "start_time": "2023-11-14T09:52:48.590Z"
   },
   {
    "duration": 0,
    "start_time": "2023-11-14T09:52:48.592Z"
   },
   {
    "duration": 0,
    "start_time": "2023-11-14T09:52:48.593Z"
   },
   {
    "duration": 0,
    "start_time": "2023-11-14T09:52:48.594Z"
   },
   {
    "duration": 0,
    "start_time": "2023-11-14T09:52:48.595Z"
   },
   {
    "duration": 0,
    "start_time": "2023-11-14T09:52:48.597Z"
   },
   {
    "duration": 0,
    "start_time": "2023-11-14T09:52:48.598Z"
   },
   {
    "duration": 0,
    "start_time": "2023-11-14T09:52:48.599Z"
   },
   {
    "duration": 0,
    "start_time": "2023-11-14T09:52:48.600Z"
   },
   {
    "duration": 88,
    "start_time": "2023-11-14T09:53:08.575Z"
   },
   {
    "duration": 1265,
    "start_time": "2023-11-14T09:54:48.674Z"
   },
   {
    "duration": 39,
    "start_time": "2023-11-14T09:54:49.940Z"
   },
   {
    "duration": 10,
    "start_time": "2023-11-14T09:54:49.980Z"
   },
   {
    "duration": 17,
    "start_time": "2023-11-14T09:54:49.991Z"
   },
   {
    "duration": 79,
    "start_time": "2023-11-14T09:54:50.010Z"
   },
   {
    "duration": 10,
    "start_time": "2023-11-14T09:54:50.091Z"
   },
   {
    "duration": 26,
    "start_time": "2023-11-14T09:54:50.103Z"
   },
   {
    "duration": 61,
    "start_time": "2023-11-14T09:54:50.131Z"
   },
   {
    "duration": 10,
    "start_time": "2023-11-14T09:54:50.193Z"
   },
   {
    "duration": 23,
    "start_time": "2023-11-14T09:54:50.205Z"
   },
   {
    "duration": 27,
    "start_time": "2023-11-14T09:54:50.230Z"
   },
   {
    "duration": 10,
    "start_time": "2023-11-14T09:54:50.258Z"
   },
   {
    "duration": 15,
    "start_time": "2023-11-14T09:54:50.270Z"
   },
   {
    "duration": 7,
    "start_time": "2023-11-14T09:54:50.288Z"
   },
   {
    "duration": 6,
    "start_time": "2023-11-14T09:54:50.297Z"
   },
   {
    "duration": 8,
    "start_time": "2023-11-14T09:54:50.305Z"
   },
   {
    "duration": 7,
    "start_time": "2023-11-14T09:54:50.315Z"
   },
   {
    "duration": 5,
    "start_time": "2023-11-14T09:54:50.323Z"
   },
   {
    "duration": 39,
    "start_time": "2023-11-14T09:54:50.329Z"
   },
   {
    "duration": 196,
    "start_time": "2023-11-14T09:54:50.369Z"
   },
   {
    "duration": 6,
    "start_time": "2023-11-14T09:54:50.567Z"
   },
   {
    "duration": 195,
    "start_time": "2023-11-14T09:54:50.575Z"
   },
   {
    "duration": 7,
    "start_time": "2023-11-14T09:54:50.772Z"
   },
   {
    "duration": 112,
    "start_time": "2023-11-14T09:54:50.781Z"
   },
   {
    "duration": 6,
    "start_time": "2023-11-14T09:54:50.895Z"
   },
   {
    "duration": 289,
    "start_time": "2023-11-14T09:54:50.903Z"
   },
   {
    "duration": 35,
    "start_time": "2023-11-14T09:54:51.194Z"
   },
   {
    "duration": 304,
    "start_time": "2023-11-14T09:54:51.231Z"
   },
   {
    "duration": 1520,
    "start_time": "2023-11-14T09:54:51.537Z"
   },
   {
    "duration": 17,
    "start_time": "2023-11-14T09:54:53.059Z"
   },
   {
    "duration": 48,
    "start_time": "2023-11-14T09:54:53.078Z"
   },
   {
    "duration": 149,
    "start_time": "2023-11-14T09:54:53.128Z"
   },
   {
    "duration": 159,
    "start_time": "2023-11-14T09:54:53.278Z"
   },
   {
    "duration": 173,
    "start_time": "2023-11-14T09:54:53.439Z"
   },
   {
    "duration": 13,
    "start_time": "2023-11-14T09:54:53.614Z"
   },
   {
    "duration": 47,
    "start_time": "2023-11-14T09:54:53.629Z"
   },
   {
    "duration": 182,
    "start_time": "2023-11-14T09:54:53.678Z"
   },
   {
    "duration": 146,
    "start_time": "2023-11-14T09:54:53.865Z"
   },
   {
    "duration": 155,
    "start_time": "2023-11-14T09:54:54.012Z"
   },
   {
    "duration": 900,
    "start_time": "2023-11-14T09:54:54.169Z"
   },
   {
    "duration": 4,
    "start_time": "2023-11-14T09:54:55.072Z"
   },
   {
    "duration": 35,
    "start_time": "2023-11-14T09:54:55.077Z"
   },
   {
    "duration": 10,
    "start_time": "2023-11-14T09:54:55.113Z"
   },
   {
    "duration": 33,
    "start_time": "2023-11-14T09:54:55.125Z"
   },
   {
    "duration": 27,
    "start_time": "2023-11-14T09:54:55.160Z"
   },
   {
    "duration": 156,
    "start_time": "2023-11-14T09:54:55.189Z"
   },
   {
    "duration": 7,
    "start_time": "2023-11-14T09:54:55.347Z"
   },
   {
    "duration": 28,
    "start_time": "2023-11-14T09:54:55.365Z"
   },
   {
    "duration": 33,
    "start_time": "2023-11-14T09:54:55.394Z"
   },
   {
    "duration": 47,
    "start_time": "2023-11-14T09:55:40.038Z"
   },
   {
    "duration": 32,
    "start_time": "2023-11-14T09:56:50.215Z"
   },
   {
    "duration": 49,
    "start_time": "2023-11-14T10:00:37.970Z"
   },
   {
    "duration": 14,
    "start_time": "2023-11-14T10:00:42.986Z"
   },
   {
    "duration": 1472,
    "start_time": "2023-11-14T10:02:27.377Z"
   },
   {
    "duration": 1416,
    "start_time": "2023-11-14T10:02:31.265Z"
   },
   {
    "duration": 5,
    "start_time": "2023-11-14T10:03:25.209Z"
   },
   {
    "duration": 5,
    "start_time": "2023-11-14T10:03:33.179Z"
   },
   {
    "duration": 4,
    "start_time": "2023-11-14T10:04:20.427Z"
   },
   {
    "duration": 11,
    "start_time": "2023-11-14T10:04:34.370Z"
   },
   {
    "duration": 5,
    "start_time": "2023-11-14T10:04:38.236Z"
   },
   {
    "duration": 0,
    "start_time": "2023-11-14T10:07:50.001Z"
   },
   {
    "duration": 1710,
    "start_time": "2023-11-14T18:05:52.176Z"
   },
   {
    "duration": 120,
    "start_time": "2023-11-14T18:05:53.888Z"
   },
   {
    "duration": 17,
    "start_time": "2023-11-14T18:05:54.009Z"
   },
   {
    "duration": 25,
    "start_time": "2023-11-14T18:05:54.031Z"
   },
   {
    "duration": 191,
    "start_time": "2023-11-14T18:05:54.058Z"
   },
   {
    "duration": 11,
    "start_time": "2023-11-14T18:05:54.251Z"
   },
   {
    "duration": 19,
    "start_time": "2023-11-14T18:05:54.264Z"
   },
   {
    "duration": 70,
    "start_time": "2023-11-14T18:05:54.284Z"
   },
   {
    "duration": 14,
    "start_time": "2023-11-14T18:05:54.357Z"
   },
   {
    "duration": 19,
    "start_time": "2023-11-14T18:05:54.374Z"
   },
   {
    "duration": 40,
    "start_time": "2023-11-14T18:05:54.395Z"
   },
   {
    "duration": 11,
    "start_time": "2023-11-14T18:05:54.437Z"
   },
   {
    "duration": 8,
    "start_time": "2023-11-14T18:05:54.450Z"
   },
   {
    "duration": 7,
    "start_time": "2023-11-14T18:05:54.459Z"
   },
   {
    "duration": 5,
    "start_time": "2023-11-14T18:05:54.467Z"
   },
   {
    "duration": 41,
    "start_time": "2023-11-14T18:05:54.473Z"
   },
   {
    "duration": 17,
    "start_time": "2023-11-14T18:05:54.516Z"
   },
   {
    "duration": 9,
    "start_time": "2023-11-14T18:05:54.537Z"
   },
   {
    "duration": 17,
    "start_time": "2023-11-14T18:05:54.549Z"
   },
   {
    "duration": 6,
    "start_time": "2023-11-14T18:05:54.568Z"
   },
   {
    "duration": 9,
    "start_time": "2023-11-14T18:05:54.576Z"
   },
   {
    "duration": 273,
    "start_time": "2023-11-14T18:05:54.598Z"
   },
   {
    "duration": 8,
    "start_time": "2023-11-14T18:05:54.876Z"
   },
   {
    "duration": 242,
    "start_time": "2023-11-14T18:05:54.886Z"
   },
   {
    "duration": 19,
    "start_time": "2023-11-14T18:05:55.133Z"
   },
   {
    "duration": 113,
    "start_time": "2023-11-14T18:05:55.156Z"
   },
   {
    "duration": 0,
    "start_time": "2023-11-14T18:05:55.271Z"
   },
   {
    "duration": 0,
    "start_time": "2023-11-14T18:05:55.273Z"
   },
   {
    "duration": 0,
    "start_time": "2023-11-14T18:05:55.274Z"
   },
   {
    "duration": 0,
    "start_time": "2023-11-14T18:05:55.275Z"
   },
   {
    "duration": 0,
    "start_time": "2023-11-14T18:05:55.277Z"
   },
   {
    "duration": 0,
    "start_time": "2023-11-14T18:05:55.279Z"
   },
   {
    "duration": 0,
    "start_time": "2023-11-14T18:05:55.280Z"
   },
   {
    "duration": 0,
    "start_time": "2023-11-14T18:05:55.281Z"
   },
   {
    "duration": 0,
    "start_time": "2023-11-14T18:05:55.282Z"
   },
   {
    "duration": 0,
    "start_time": "2023-11-14T18:05:55.284Z"
   },
   {
    "duration": 0,
    "start_time": "2023-11-14T18:05:55.285Z"
   },
   {
    "duration": 0,
    "start_time": "2023-11-14T18:05:55.287Z"
   },
   {
    "duration": 0,
    "start_time": "2023-11-14T18:05:55.288Z"
   },
   {
    "duration": 0,
    "start_time": "2023-11-14T18:05:55.290Z"
   },
   {
    "duration": 0,
    "start_time": "2023-11-14T18:05:55.291Z"
   },
   {
    "duration": 0,
    "start_time": "2023-11-14T18:05:55.293Z"
   },
   {
    "duration": 0,
    "start_time": "2023-11-14T18:05:55.294Z"
   },
   {
    "duration": 0,
    "start_time": "2023-11-14T18:05:55.296Z"
   },
   {
    "duration": 0,
    "start_time": "2023-11-14T18:05:55.297Z"
   },
   {
    "duration": 0,
    "start_time": "2023-11-14T18:05:55.299Z"
   },
   {
    "duration": 0,
    "start_time": "2023-11-14T18:05:55.306Z"
   },
   {
    "duration": 0,
    "start_time": "2023-11-14T18:05:55.308Z"
   },
   {
    "duration": 0,
    "start_time": "2023-11-14T18:05:55.309Z"
   },
   {
    "duration": 0,
    "start_time": "2023-11-14T18:05:55.317Z"
   },
   {
    "duration": 0,
    "start_time": "2023-11-14T18:05:55.318Z"
   },
   {
    "duration": 8,
    "start_time": "2023-11-14T18:09:07.899Z"
   },
   {
    "duration": 130,
    "start_time": "2023-11-14T18:09:30.198Z"
   },
   {
    "duration": 111,
    "start_time": "2023-11-14T18:09:37.974Z"
   },
   {
    "duration": 259,
    "start_time": "2023-11-14T18:10:09.946Z"
   },
   {
    "duration": 172,
    "start_time": "2023-11-14T18:10:12.795Z"
   },
   {
    "duration": 189,
    "start_time": "2023-11-14T18:10:26.144Z"
   },
   {
    "duration": 306,
    "start_time": "2023-11-14T18:14:27.684Z"
   },
   {
    "duration": 247,
    "start_time": "2023-11-14T18:14:32.727Z"
   },
   {
    "duration": 259,
    "start_time": "2023-11-14T18:14:47.492Z"
   },
   {
    "duration": 212,
    "start_time": "2023-11-14T18:14:53.754Z"
   },
   {
    "duration": 205,
    "start_time": "2023-11-14T18:16:42.635Z"
   },
   {
    "duration": 112,
    "start_time": "2023-11-14T18:17:52.543Z"
   },
   {
    "duration": 112,
    "start_time": "2023-11-14T18:18:13.555Z"
   },
   {
    "duration": 123,
    "start_time": "2023-11-14T18:18:25.365Z"
   },
   {
    "duration": 9,
    "start_time": "2023-11-14T18:21:02.110Z"
   },
   {
    "duration": 316,
    "start_time": "2023-11-14T18:21:05.419Z"
   },
   {
    "duration": 112,
    "start_time": "2023-11-14T18:21:54.186Z"
   },
   {
    "duration": 291,
    "start_time": "2023-11-14T18:21:57.472Z"
   },
   {
    "duration": 10,
    "start_time": "2023-11-14T18:22:52.159Z"
   },
   {
    "duration": 372,
    "start_time": "2023-11-14T18:23:31.455Z"
   },
   {
    "duration": 286,
    "start_time": "2023-11-14T18:24:43.398Z"
   },
   {
    "duration": 272,
    "start_time": "2023-11-14T18:25:15.571Z"
   },
   {
    "duration": 10,
    "start_time": "2023-11-14T18:25:31.034Z"
   },
   {
    "duration": 1416,
    "start_time": "2023-11-14T18:26:05.925Z"
   },
   {
    "duration": 36,
    "start_time": "2023-11-14T18:30:52.252Z"
   },
   {
    "duration": 16,
    "start_time": "2023-11-14T18:31:47.041Z"
   },
   {
    "duration": 5,
    "start_time": "2023-11-14T18:34:13.808Z"
   },
   {
    "duration": 4,
    "start_time": "2023-11-14T18:34:28.107Z"
   },
   {
    "duration": 4,
    "start_time": "2023-11-14T18:34:36.814Z"
   },
   {
    "duration": 5,
    "start_time": "2023-11-14T18:35:22.885Z"
   },
   {
    "duration": 23,
    "start_time": "2023-11-14T18:37:13.944Z"
   },
   {
    "duration": 35,
    "start_time": "2023-11-14T18:37:27.614Z"
   },
   {
    "duration": 175,
    "start_time": "2023-11-14T18:37:30.738Z"
   },
   {
    "duration": 154,
    "start_time": "2023-11-14T18:37:35.756Z"
   },
   {
    "duration": 162,
    "start_time": "2023-11-14T18:37:38.829Z"
   },
   {
    "duration": 21,
    "start_time": "2023-11-14T18:37:41.951Z"
   },
   {
    "duration": 43,
    "start_time": "2023-11-14T18:37:45.698Z"
   },
   {
    "duration": 168,
    "start_time": "2023-11-14T18:37:48.677Z"
   },
   {
    "duration": 275,
    "start_time": "2023-11-14T18:37:51.446Z"
   },
   {
    "duration": 150,
    "start_time": "2023-11-14T18:37:54.916Z"
   },
   {
    "duration": 974,
    "start_time": "2023-11-14T18:38:23.237Z"
   },
   {
    "duration": 7,
    "start_time": "2023-11-14T18:38:39.401Z"
   },
   {
    "duration": 8,
    "start_time": "2023-11-14T18:38:56.607Z"
   },
   {
    "duration": 10,
    "start_time": "2023-11-14T18:40:46.615Z"
   },
   {
    "duration": 1274,
    "start_time": "2023-11-14T18:41:46.507Z"
   },
   {
    "duration": 39,
    "start_time": "2023-11-14T18:41:47.782Z"
   },
   {
    "duration": 12,
    "start_time": "2023-11-14T18:41:47.822Z"
   },
   {
    "duration": 16,
    "start_time": "2023-11-14T18:41:47.836Z"
   },
   {
    "duration": 45,
    "start_time": "2023-11-14T18:41:47.854Z"
   },
   {
    "duration": 11,
    "start_time": "2023-11-14T18:41:47.900Z"
   },
   {
    "duration": 19,
    "start_time": "2023-11-14T18:41:47.913Z"
   },
   {
    "duration": 22,
    "start_time": "2023-11-14T18:41:47.933Z"
   },
   {
    "duration": 10,
    "start_time": "2023-11-14T18:41:47.957Z"
   },
   {
    "duration": 43,
    "start_time": "2023-11-14T18:41:47.970Z"
   },
   {
    "duration": 20,
    "start_time": "2023-11-14T18:41:48.015Z"
   },
   {
    "duration": 8,
    "start_time": "2023-11-14T18:41:48.037Z"
   },
   {
    "duration": 6,
    "start_time": "2023-11-14T18:41:48.047Z"
   },
   {
    "duration": 7,
    "start_time": "2023-11-14T18:41:48.055Z"
   },
   {
    "duration": 36,
    "start_time": "2023-11-14T18:41:48.064Z"
   },
   {
    "duration": 7,
    "start_time": "2023-11-14T18:41:48.102Z"
   },
   {
    "duration": 8,
    "start_time": "2023-11-14T18:41:48.111Z"
   },
   {
    "duration": 6,
    "start_time": "2023-11-14T18:41:48.120Z"
   },
   {
    "duration": 18,
    "start_time": "2023-11-14T18:41:48.128Z"
   },
   {
    "duration": 6,
    "start_time": "2023-11-14T18:41:48.148Z"
   },
   {
    "duration": 45,
    "start_time": "2023-11-14T18:41:48.155Z"
   },
   {
    "duration": 13,
    "start_time": "2023-11-14T18:41:48.202Z"
   },
   {
    "duration": 198,
    "start_time": "2023-11-14T18:41:48.216Z"
   },
   {
    "duration": 7,
    "start_time": "2023-11-14T18:41:48.416Z"
   },
   {
    "duration": 110,
    "start_time": "2023-11-14T18:41:48.425Z"
   },
   {
    "duration": 6,
    "start_time": "2023-11-14T18:41:48.537Z"
   },
   {
    "duration": 299,
    "start_time": "2023-11-14T18:41:48.545Z"
   },
   {
    "duration": 1378,
    "start_time": "2023-11-14T18:41:48.848Z"
   },
   {
    "duration": 398,
    "start_time": "2023-11-14T18:41:50.227Z"
   },
   {
    "duration": 4,
    "start_time": "2023-11-14T18:41:50.627Z"
   },
   {
    "duration": 12,
    "start_time": "2023-11-14T18:41:50.632Z"
   },
   {
    "duration": 5,
    "start_time": "2023-11-14T18:41:50.646Z"
   },
   {
    "duration": 53,
    "start_time": "2023-11-14T18:41:50.652Z"
   },
   {
    "duration": 4,
    "start_time": "2023-11-14T18:41:50.706Z"
   },
   {
    "duration": 19,
    "start_time": "2023-11-14T18:41:50.711Z"
   },
   {
    "duration": 31,
    "start_time": "2023-11-14T18:41:50.731Z"
   },
   {
    "duration": 175,
    "start_time": "2023-11-14T18:41:50.764Z"
   },
   {
    "duration": 168,
    "start_time": "2023-11-14T18:41:50.941Z"
   },
   {
    "duration": 174,
    "start_time": "2023-11-14T18:41:51.111Z"
   },
   {
    "duration": 21,
    "start_time": "2023-11-14T18:41:51.287Z"
   },
   {
    "duration": 50,
    "start_time": "2023-11-14T18:41:51.310Z"
   },
   {
    "duration": 166,
    "start_time": "2023-11-14T18:41:51.362Z"
   },
   {
    "duration": 189,
    "start_time": "2023-11-14T18:41:51.530Z"
   },
   {
    "duration": 161,
    "start_time": "2023-11-14T18:41:51.721Z"
   },
   {
    "duration": 16,
    "start_time": "2023-11-14T18:41:51.884Z"
   },
   {
    "duration": 879,
    "start_time": "2023-11-14T18:41:51.901Z"
   },
   {
    "duration": 21,
    "start_time": "2023-11-14T18:41:52.782Z"
   },
   {
    "duration": 9,
    "start_time": "2023-11-14T18:41:52.805Z"
   },
   {
    "duration": 49,
    "start_time": "2023-11-14T18:41:52.816Z"
   },
   {
    "duration": 14,
    "start_time": "2023-11-14T18:41:52.867Z"
   },
   {
    "duration": 30,
    "start_time": "2023-11-14T18:41:52.899Z"
   },
   {
    "duration": 161,
    "start_time": "2023-11-14T18:41:52.930Z"
   },
   {
    "duration": 9,
    "start_time": "2023-11-14T18:41:53.093Z"
   },
   {
    "duration": 7,
    "start_time": "2023-11-14T18:41:53.103Z"
   },
   {
    "duration": 27,
    "start_time": "2023-11-14T18:41:53.111Z"
   },
   {
    "duration": 5,
    "start_time": "2023-11-14T18:42:22.964Z"
   },
   {
    "duration": 8,
    "start_time": "2023-11-14T18:42:26.421Z"
   },
   {
    "duration": 5,
    "start_time": "2023-11-14T18:43:15.761Z"
   },
   {
    "duration": 6,
    "start_time": "2023-11-14T18:43:20.140Z"
   },
   {
    "duration": 1314,
    "start_time": "2023-11-14T18:43:59.215Z"
   },
   {
    "duration": 46,
    "start_time": "2023-11-14T18:44:00.531Z"
   },
   {
    "duration": 27,
    "start_time": "2023-11-14T18:44:00.578Z"
   },
   {
    "duration": 71,
    "start_time": "2023-11-14T18:44:00.609Z"
   },
   {
    "duration": 84,
    "start_time": "2023-11-14T18:44:00.682Z"
   },
   {
    "duration": 63,
    "start_time": "2023-11-14T18:44:00.768Z"
   },
   {
    "duration": 41,
    "start_time": "2023-11-14T18:44:00.833Z"
   },
   {
    "duration": 44,
    "start_time": "2023-11-14T18:44:00.876Z"
   },
   {
    "duration": 21,
    "start_time": "2023-11-14T18:44:00.922Z"
   },
   {
    "duration": 45,
    "start_time": "2023-11-14T18:44:00.946Z"
   },
   {
    "duration": 58,
    "start_time": "2023-11-14T18:44:00.993Z"
   },
   {
    "duration": 34,
    "start_time": "2023-11-14T18:44:01.053Z"
   },
   {
    "duration": 35,
    "start_time": "2023-11-14T18:44:01.089Z"
   },
   {
    "duration": 34,
    "start_time": "2023-11-14T18:44:01.126Z"
   },
   {
    "duration": 60,
    "start_time": "2023-11-14T18:44:01.162Z"
   },
   {
    "duration": 53,
    "start_time": "2023-11-14T18:44:01.224Z"
   },
   {
    "duration": 75,
    "start_time": "2023-11-14T18:44:01.280Z"
   },
   {
    "duration": 91,
    "start_time": "2023-11-14T18:44:01.357Z"
   },
   {
    "duration": 79,
    "start_time": "2023-11-14T18:44:01.451Z"
   },
   {
    "duration": 25,
    "start_time": "2023-11-14T18:44:01.533Z"
   },
   {
    "duration": 26,
    "start_time": "2023-11-14T18:44:01.560Z"
   },
   {
    "duration": 53,
    "start_time": "2023-11-14T18:44:01.589Z"
   },
   {
    "duration": 227,
    "start_time": "2023-11-14T18:44:01.645Z"
   },
   {
    "duration": 7,
    "start_time": "2023-11-14T18:44:01.874Z"
   },
   {
    "duration": 163,
    "start_time": "2023-11-14T18:44:01.882Z"
   },
   {
    "duration": 7,
    "start_time": "2023-11-14T18:44:02.047Z"
   },
   {
    "duration": 354,
    "start_time": "2023-11-14T18:44:02.056Z"
   },
   {
    "duration": 1538,
    "start_time": "2023-11-14T18:44:02.417Z"
   },
   {
    "duration": 401,
    "start_time": "2023-11-14T18:44:03.957Z"
   },
   {
    "duration": 3,
    "start_time": "2023-11-14T18:44:04.360Z"
   },
   {
    "duration": 7,
    "start_time": "2023-11-14T18:44:04.365Z"
   },
   {
    "duration": 5,
    "start_time": "2023-11-14T18:44:04.373Z"
   },
   {
    "duration": 46,
    "start_time": "2023-11-14T18:44:04.379Z"
   },
   {
    "duration": 4,
    "start_time": "2023-11-14T18:44:04.427Z"
   },
   {
    "duration": 18,
    "start_time": "2023-11-14T18:44:04.433Z"
   },
   {
    "duration": 56,
    "start_time": "2023-11-14T18:44:04.452Z"
   },
   {
    "duration": 172,
    "start_time": "2023-11-14T18:44:04.510Z"
   },
   {
    "duration": 182,
    "start_time": "2023-11-14T18:44:04.685Z"
   },
   {
    "duration": 179,
    "start_time": "2023-11-14T18:44:04.869Z"
   },
   {
    "duration": 14,
    "start_time": "2023-11-14T18:44:05.050Z"
   },
   {
    "duration": 49,
    "start_time": "2023-11-14T18:44:05.066Z"
   },
   {
    "duration": 184,
    "start_time": "2023-11-14T18:44:05.117Z"
   },
   {
    "duration": 194,
    "start_time": "2023-11-14T18:44:05.303Z"
   },
   {
    "duration": 155,
    "start_time": "2023-11-14T18:44:05.499Z"
   },
   {
    "duration": 11,
    "start_time": "2023-11-14T18:44:05.655Z"
   },
   {
    "duration": 912,
    "start_time": "2023-11-14T18:44:05.667Z"
   },
   {
    "duration": 7,
    "start_time": "2023-11-14T18:44:06.581Z"
   },
   {
    "duration": 12,
    "start_time": "2023-11-14T18:44:06.589Z"
   },
   {
    "duration": 26,
    "start_time": "2023-11-14T18:44:06.602Z"
   },
   {
    "duration": 13,
    "start_time": "2023-11-14T18:44:06.630Z"
   },
   {
    "duration": 64,
    "start_time": "2023-11-14T18:44:06.645Z"
   },
   {
    "duration": 169,
    "start_time": "2023-11-14T18:44:06.711Z"
   },
   {
    "duration": 6,
    "start_time": "2023-11-14T18:44:06.881Z"
   },
   {
    "duration": 7,
    "start_time": "2023-11-14T18:44:06.899Z"
   },
   {
    "duration": 11,
    "start_time": "2023-11-14T18:44:06.908Z"
   },
   {
    "duration": 6,
    "start_time": "2023-11-14T18:45:35.990Z"
   },
   {
    "duration": 7,
    "start_time": "2023-11-14T18:45:45.710Z"
   },
   {
    "duration": 5,
    "start_time": "2023-11-14T18:45:51.777Z"
   },
   {
    "duration": 1288,
    "start_time": "2023-11-15T09:08:51.325Z"
   },
   {
    "duration": 98,
    "start_time": "2023-11-15T09:08:52.615Z"
   },
   {
    "duration": 11,
    "start_time": "2023-11-15T09:08:52.714Z"
   },
   {
    "duration": 18,
    "start_time": "2023-11-15T09:08:52.727Z"
   },
   {
    "duration": 176,
    "start_time": "2023-11-15T09:08:52.747Z"
   },
   {
    "duration": 14,
    "start_time": "2023-11-15T09:08:52.925Z"
   },
   {
    "duration": 22,
    "start_time": "2023-11-15T09:08:52.941Z"
   },
   {
    "duration": 85,
    "start_time": "2023-11-15T09:08:52.965Z"
   },
   {
    "duration": 9,
    "start_time": "2023-11-15T09:08:53.052Z"
   },
   {
    "duration": 26,
    "start_time": "2023-11-15T09:08:53.063Z"
   },
   {
    "duration": 24,
    "start_time": "2023-11-15T09:08:53.090Z"
   },
   {
    "duration": 16,
    "start_time": "2023-11-15T09:08:53.116Z"
   },
   {
    "duration": 9,
    "start_time": "2023-11-15T09:08:53.133Z"
   },
   {
    "duration": 13,
    "start_time": "2023-11-15T09:08:53.143Z"
   },
   {
    "duration": 19,
    "start_time": "2023-11-15T09:08:53.157Z"
   },
   {
    "duration": 8,
    "start_time": "2023-11-15T09:08:53.178Z"
   },
   {
    "duration": 12,
    "start_time": "2023-11-15T09:08:53.188Z"
   },
   {
    "duration": 9,
    "start_time": "2023-11-15T09:08:53.202Z"
   },
   {
    "duration": 12,
    "start_time": "2023-11-15T09:08:53.213Z"
   },
   {
    "duration": 6,
    "start_time": "2023-11-15T09:08:53.226Z"
   },
   {
    "duration": 6,
    "start_time": "2023-11-15T09:08:53.233Z"
   },
   {
    "duration": 8,
    "start_time": "2023-11-15T09:08:53.240Z"
   },
   {
    "duration": 223,
    "start_time": "2023-11-15T09:08:53.250Z"
   },
   {
    "duration": 6,
    "start_time": "2023-11-15T09:08:53.475Z"
   },
   {
    "duration": 124,
    "start_time": "2023-11-15T09:08:53.482Z"
   },
   {
    "duration": 5,
    "start_time": "2023-11-15T09:08:53.608Z"
   },
   {
    "duration": 303,
    "start_time": "2023-11-15T09:08:53.615Z"
   },
   {
    "duration": 1452,
    "start_time": "2023-11-15T09:08:53.922Z"
   },
   {
    "duration": 459,
    "start_time": "2023-11-15T09:08:55.376Z"
   },
   {
    "duration": 4,
    "start_time": "2023-11-15T09:08:55.837Z"
   },
   {
    "duration": 10,
    "start_time": "2023-11-15T09:08:55.843Z"
   },
   {
    "duration": 9,
    "start_time": "2023-11-15T09:08:55.854Z"
   },
   {
    "duration": 52,
    "start_time": "2023-11-15T09:08:55.865Z"
   },
   {
    "duration": 4,
    "start_time": "2023-11-15T09:08:55.918Z"
   },
   {
    "duration": 17,
    "start_time": "2023-11-15T09:08:55.923Z"
   },
   {
    "duration": 32,
    "start_time": "2023-11-15T09:08:55.942Z"
   },
   {
    "duration": 164,
    "start_time": "2023-11-15T09:08:55.999Z"
   },
   {
    "duration": 170,
    "start_time": "2023-11-15T09:08:56.165Z"
   },
   {
    "duration": 194,
    "start_time": "2023-11-15T09:08:56.336Z"
   },
   {
    "duration": 16,
    "start_time": "2023-11-15T09:08:56.532Z"
   },
   {
    "duration": 51,
    "start_time": "2023-11-15T09:08:56.549Z"
   },
   {
    "duration": 193,
    "start_time": "2023-11-15T09:08:56.602Z"
   },
   {
    "duration": 182,
    "start_time": "2023-11-15T09:08:56.799Z"
   },
   {
    "duration": 164,
    "start_time": "2023-11-15T09:08:56.983Z"
   },
   {
    "duration": 13,
    "start_time": "2023-11-15T09:08:57.148Z"
   },
   {
    "duration": 999,
    "start_time": "2023-11-15T09:08:57.163Z"
   },
   {
    "duration": 9,
    "start_time": "2023-11-15T09:08:58.164Z"
   },
   {
    "duration": 13,
    "start_time": "2023-11-15T09:08:58.174Z"
   },
   {
    "duration": 49,
    "start_time": "2023-11-15T09:08:58.198Z"
   },
   {
    "duration": 24,
    "start_time": "2023-11-15T09:08:58.249Z"
   },
   {
    "duration": 50,
    "start_time": "2023-11-15T09:08:58.275Z"
   },
   {
    "duration": 190,
    "start_time": "2023-11-15T09:08:58.327Z"
   },
   {
    "duration": 7,
    "start_time": "2023-11-15T09:08:58.519Z"
   },
   {
    "duration": 25,
    "start_time": "2023-11-15T09:08:58.528Z"
   },
   {
    "duration": 22,
    "start_time": "2023-11-15T09:08:58.555Z"
   },
   {
    "duration": 6,
    "start_time": "2023-11-15T09:14:04.005Z"
   },
   {
    "duration": 5,
    "start_time": "2023-11-15T09:15:04.437Z"
   },
   {
    "duration": 48,
    "start_time": "2023-11-15T09:21:46.736Z"
   },
   {
    "duration": 1370,
    "start_time": "2023-11-15T09:21:51.392Z"
   },
   {
    "duration": 89,
    "start_time": "2023-11-15T09:21:52.765Z"
   },
   {
    "duration": 11,
    "start_time": "2023-11-15T09:21:52.855Z"
   },
   {
    "duration": 20,
    "start_time": "2023-11-15T09:21:52.867Z"
   },
   {
    "duration": 78,
    "start_time": "2023-11-15T09:21:52.889Z"
   },
   {
    "duration": 9,
    "start_time": "2023-11-15T09:21:52.968Z"
   },
   {
    "duration": 29,
    "start_time": "2023-11-15T09:21:52.979Z"
   },
   {
    "duration": 58,
    "start_time": "2023-11-15T09:21:53.009Z"
   },
   {
    "duration": 10,
    "start_time": "2023-11-15T09:21:53.069Z"
   },
   {
    "duration": 20,
    "start_time": "2023-11-15T09:21:53.080Z"
   },
   {
    "duration": 54,
    "start_time": "2023-11-15T09:21:53.102Z"
   },
   {
    "duration": 26,
    "start_time": "2023-11-15T09:21:53.158Z"
   },
   {
    "duration": 19,
    "start_time": "2023-11-15T09:21:53.186Z"
   },
   {
    "duration": 35,
    "start_time": "2023-11-15T09:21:53.209Z"
   },
   {
    "duration": 40,
    "start_time": "2023-11-15T09:21:53.245Z"
   },
   {
    "duration": 31,
    "start_time": "2023-11-15T09:21:53.286Z"
   },
   {
    "duration": 38,
    "start_time": "2023-11-15T09:21:53.319Z"
   },
   {
    "duration": 27,
    "start_time": "2023-11-15T09:21:53.359Z"
   },
   {
    "duration": 37,
    "start_time": "2023-11-15T09:21:53.388Z"
   },
   {
    "duration": 36,
    "start_time": "2023-11-15T09:21:53.427Z"
   },
   {
    "duration": 84,
    "start_time": "2023-11-15T09:21:53.465Z"
   },
   {
    "duration": 23,
    "start_time": "2023-11-15T09:21:53.551Z"
   },
   {
    "duration": 218,
    "start_time": "2023-11-15T09:21:53.575Z"
   },
   {
    "duration": 6,
    "start_time": "2023-11-15T09:21:53.795Z"
   },
   {
    "duration": 111,
    "start_time": "2023-11-15T09:21:53.803Z"
   },
   {
    "duration": 6,
    "start_time": "2023-11-15T09:21:53.916Z"
   },
   {
    "duration": 302,
    "start_time": "2023-11-15T09:21:53.924Z"
   },
   {
    "duration": 1379,
    "start_time": "2023-11-15T09:21:54.228Z"
   },
   {
    "duration": 417,
    "start_time": "2023-11-15T09:21:55.609Z"
   },
   {
    "duration": 4,
    "start_time": "2023-11-15T09:21:56.028Z"
   },
   {
    "duration": 24,
    "start_time": "2023-11-15T09:21:56.033Z"
   },
   {
    "duration": 18,
    "start_time": "2023-11-15T09:21:56.059Z"
   },
   {
    "duration": 38,
    "start_time": "2023-11-15T09:21:56.079Z"
   },
   {
    "duration": 4,
    "start_time": "2023-11-15T09:21:56.118Z"
   },
   {
    "duration": 39,
    "start_time": "2023-11-15T09:21:56.123Z"
   },
   {
    "duration": 31,
    "start_time": "2023-11-15T09:21:56.164Z"
   },
   {
    "duration": 161,
    "start_time": "2023-11-15T09:21:56.197Z"
   },
   {
    "duration": 164,
    "start_time": "2023-11-15T09:21:56.360Z"
   },
   {
    "duration": 182,
    "start_time": "2023-11-15T09:21:56.526Z"
   },
   {
    "duration": 16,
    "start_time": "2023-11-15T09:21:56.709Z"
   },
   {
    "duration": 49,
    "start_time": "2023-11-15T09:21:56.729Z"
   },
   {
    "duration": 165,
    "start_time": "2023-11-15T09:21:56.779Z"
   },
   {
    "duration": 151,
    "start_time": "2023-11-15T09:21:56.946Z"
   },
   {
    "duration": 156,
    "start_time": "2023-11-15T09:21:57.099Z"
   },
   {
    "duration": 16,
    "start_time": "2023-11-15T09:21:57.256Z"
   },
   {
    "duration": 850,
    "start_time": "2023-11-15T09:21:57.274Z"
   },
   {
    "duration": 8,
    "start_time": "2023-11-15T09:21:58.125Z"
   },
   {
    "duration": 22,
    "start_time": "2023-11-15T09:21:58.134Z"
   },
   {
    "duration": 42,
    "start_time": "2023-11-15T09:21:58.158Z"
   },
   {
    "duration": 29,
    "start_time": "2023-11-15T09:21:58.201Z"
   },
   {
    "duration": 40,
    "start_time": "2023-11-15T09:21:58.231Z"
   },
   {
    "duration": 143,
    "start_time": "2023-11-15T09:21:58.273Z"
   },
   {
    "duration": 5,
    "start_time": "2023-11-15T09:21:58.418Z"
   },
   {
    "duration": 16,
    "start_time": "2023-11-15T09:21:58.425Z"
   },
   {
    "duration": 23,
    "start_time": "2023-11-15T09:21:58.443Z"
   },
   {
    "duration": 28,
    "start_time": "2023-11-15T09:21:58.467Z"
   },
   {
    "duration": 7,
    "start_time": "2023-11-15T09:25:08.367Z"
   },
   {
    "duration": 5,
    "start_time": "2023-11-15T09:25:12.567Z"
   },
   {
    "duration": 1212,
    "start_time": "2023-11-15T09:25:26.832Z"
   },
   {
    "duration": 37,
    "start_time": "2023-11-15T09:25:28.046Z"
   },
   {
    "duration": 10,
    "start_time": "2023-11-15T09:25:28.085Z"
   },
   {
    "duration": 22,
    "start_time": "2023-11-15T09:25:28.096Z"
   },
   {
    "duration": 45,
    "start_time": "2023-11-15T09:25:28.120Z"
   },
   {
    "duration": 22,
    "start_time": "2023-11-15T09:25:28.166Z"
   },
   {
    "duration": 17,
    "start_time": "2023-11-15T09:25:28.190Z"
   },
   {
    "duration": 20,
    "start_time": "2023-11-15T09:25:28.208Z"
   },
   {
    "duration": 10,
    "start_time": "2023-11-15T09:25:28.229Z"
   },
   {
    "duration": 26,
    "start_time": "2023-11-15T09:25:28.240Z"
   },
   {
    "duration": 29,
    "start_time": "2023-11-15T09:25:28.267Z"
   },
   {
    "duration": 7,
    "start_time": "2023-11-15T09:25:28.297Z"
   },
   {
    "duration": 13,
    "start_time": "2023-11-15T09:25:28.306Z"
   },
   {
    "duration": 21,
    "start_time": "2023-11-15T09:25:28.323Z"
   },
   {
    "duration": 21,
    "start_time": "2023-11-15T09:25:28.346Z"
   },
   {
    "duration": 19,
    "start_time": "2023-11-15T09:25:28.369Z"
   },
   {
    "duration": 16,
    "start_time": "2023-11-15T09:25:28.389Z"
   },
   {
    "duration": 22,
    "start_time": "2023-11-15T09:25:28.407Z"
   },
   {
    "duration": 24,
    "start_time": "2023-11-15T09:25:28.431Z"
   },
   {
    "duration": 17,
    "start_time": "2023-11-15T09:25:28.457Z"
   },
   {
    "duration": 17,
    "start_time": "2023-11-15T09:25:28.475Z"
   },
   {
    "duration": 29,
    "start_time": "2023-11-15T09:25:28.494Z"
   },
   {
    "duration": 208,
    "start_time": "2023-11-15T09:25:28.524Z"
   },
   {
    "duration": 5,
    "start_time": "2023-11-15T09:25:28.734Z"
   },
   {
    "duration": 115,
    "start_time": "2023-11-15T09:25:28.740Z"
   },
   {
    "duration": 13,
    "start_time": "2023-11-15T09:25:28.856Z"
   },
   {
    "duration": 281,
    "start_time": "2023-11-15T09:25:28.871Z"
   },
   {
    "duration": 1370,
    "start_time": "2023-11-15T09:25:29.154Z"
   },
   {
    "duration": 402,
    "start_time": "2023-11-15T09:25:30.526Z"
   },
   {
    "duration": 4,
    "start_time": "2023-11-15T09:25:30.929Z"
   },
   {
    "duration": 55,
    "start_time": "2023-11-15T09:25:30.935Z"
   },
   {
    "duration": 55,
    "start_time": "2023-11-15T09:25:30.992Z"
   },
   {
    "duration": 104,
    "start_time": "2023-11-15T09:25:31.048Z"
   },
   {
    "duration": 55,
    "start_time": "2023-11-15T09:25:31.154Z"
   },
   {
    "duration": 57,
    "start_time": "2023-11-15T09:25:31.211Z"
   },
   {
    "duration": 77,
    "start_time": "2023-11-15T09:25:31.269Z"
   },
   {
    "duration": 169,
    "start_time": "2023-11-15T09:25:31.348Z"
   },
   {
    "duration": 157,
    "start_time": "2023-11-15T09:25:31.518Z"
   },
   {
    "duration": 172,
    "start_time": "2023-11-15T09:25:31.676Z"
   },
   {
    "duration": 21,
    "start_time": "2023-11-15T09:25:31.850Z"
   },
   {
    "duration": 72,
    "start_time": "2023-11-15T09:25:31.876Z"
   },
   {
    "duration": 198,
    "start_time": "2023-11-15T09:25:31.950Z"
   },
   {
    "duration": 150,
    "start_time": "2023-11-15T09:25:32.150Z"
   },
   {
    "duration": 157,
    "start_time": "2023-11-15T09:25:32.302Z"
   },
   {
    "duration": 15,
    "start_time": "2023-11-15T09:25:32.460Z"
   },
   {
    "duration": 912,
    "start_time": "2023-11-15T09:25:32.477Z"
   },
   {
    "duration": 7,
    "start_time": "2023-11-15T09:25:33.392Z"
   },
   {
    "duration": 21,
    "start_time": "2023-11-15T09:25:33.400Z"
   },
   {
    "duration": 45,
    "start_time": "2023-11-15T09:25:33.422Z"
   },
   {
    "duration": 19,
    "start_time": "2023-11-15T09:25:33.469Z"
   },
   {
    "duration": 44,
    "start_time": "2023-11-15T09:25:33.490Z"
   },
   {
    "duration": 145,
    "start_time": "2023-11-15T09:25:33.536Z"
   },
   {
    "duration": 6,
    "start_time": "2023-11-15T09:25:33.682Z"
   },
   {
    "duration": 25,
    "start_time": "2023-11-15T09:25:33.689Z"
   },
   {
    "duration": 19,
    "start_time": "2023-11-15T09:25:33.715Z"
   },
   {
    "duration": 1274,
    "start_time": "2023-11-15T09:32:46.538Z"
   },
   {
    "duration": 40,
    "start_time": "2023-11-15T09:32:47.819Z"
   },
   {
    "duration": 11,
    "start_time": "2023-11-15T09:32:47.860Z"
   },
   {
    "duration": 42,
    "start_time": "2023-11-15T09:32:47.873Z"
   },
   {
    "duration": 41,
    "start_time": "2023-11-15T09:32:47.917Z"
   },
   {
    "duration": 10,
    "start_time": "2023-11-15T09:32:47.960Z"
   },
   {
    "duration": 23,
    "start_time": "2023-11-15T09:32:47.972Z"
   },
   {
    "duration": 29,
    "start_time": "2023-11-15T09:32:47.997Z"
   },
   {
    "duration": 25,
    "start_time": "2023-11-15T09:32:48.028Z"
   },
   {
    "duration": 39,
    "start_time": "2023-11-15T09:32:48.057Z"
   },
   {
    "duration": 45,
    "start_time": "2023-11-15T09:32:48.098Z"
   },
   {
    "duration": 21,
    "start_time": "2023-11-15T09:32:48.145Z"
   },
   {
    "duration": 16,
    "start_time": "2023-11-15T09:32:48.168Z"
   },
   {
    "duration": 34,
    "start_time": "2023-11-15T09:32:48.185Z"
   },
   {
    "duration": 5,
    "start_time": "2023-11-15T09:32:48.220Z"
   },
   {
    "duration": 34,
    "start_time": "2023-11-15T09:32:48.227Z"
   },
   {
    "duration": 33,
    "start_time": "2023-11-15T09:32:48.263Z"
   },
   {
    "duration": 50,
    "start_time": "2023-11-15T09:32:48.298Z"
   },
   {
    "duration": 36,
    "start_time": "2023-11-15T09:32:48.350Z"
   },
   {
    "duration": 29,
    "start_time": "2023-11-15T09:32:48.388Z"
   },
   {
    "duration": 26,
    "start_time": "2023-11-15T09:32:48.419Z"
   },
   {
    "duration": 14,
    "start_time": "2023-11-15T09:32:48.446Z"
   },
   {
    "duration": 258,
    "start_time": "2023-11-15T09:32:48.461Z"
   },
   {
    "duration": 5,
    "start_time": "2023-11-15T09:32:48.721Z"
   },
   {
    "duration": 134,
    "start_time": "2023-11-15T09:32:48.728Z"
   },
   {
    "duration": 6,
    "start_time": "2023-11-15T09:32:48.864Z"
   },
   {
    "duration": 319,
    "start_time": "2023-11-15T09:32:48.871Z"
   },
   {
    "duration": 1524,
    "start_time": "2023-11-15T09:32:49.194Z"
   },
   {
    "duration": 451,
    "start_time": "2023-11-15T09:32:50.719Z"
   },
   {
    "duration": 4,
    "start_time": "2023-11-15T09:32:51.172Z"
   },
   {
    "duration": 40,
    "start_time": "2023-11-15T09:32:51.177Z"
   },
   {
    "duration": 26,
    "start_time": "2023-11-15T09:32:51.219Z"
   },
   {
    "duration": 48,
    "start_time": "2023-11-15T09:32:51.246Z"
   },
   {
    "duration": 12,
    "start_time": "2023-11-15T09:32:51.296Z"
   },
   {
    "duration": 23,
    "start_time": "2023-11-15T09:32:51.310Z"
   },
   {
    "duration": 30,
    "start_time": "2023-11-15T09:32:51.334Z"
   },
   {
    "duration": 166,
    "start_time": "2023-11-15T09:32:51.366Z"
   },
   {
    "duration": 174,
    "start_time": "2023-11-15T09:32:51.533Z"
   },
   {
    "duration": 181,
    "start_time": "2023-11-15T09:32:51.716Z"
   },
   {
    "duration": 18,
    "start_time": "2023-11-15T09:32:51.909Z"
   },
   {
    "duration": 55,
    "start_time": "2023-11-15T09:32:51.929Z"
   },
   {
    "duration": 190,
    "start_time": "2023-11-15T09:32:51.986Z"
   },
   {
    "duration": 161,
    "start_time": "2023-11-15T09:32:52.178Z"
   },
   {
    "duration": 190,
    "start_time": "2023-11-15T09:32:52.341Z"
   },
   {
    "duration": 9,
    "start_time": "2023-11-15T09:32:52.533Z"
   },
   {
    "duration": 965,
    "start_time": "2023-11-15T09:32:52.544Z"
   },
   {
    "duration": 10,
    "start_time": "2023-11-15T09:32:53.520Z"
   },
   {
    "duration": 9,
    "start_time": "2023-11-15T09:32:53.532Z"
   },
   {
    "duration": 36,
    "start_time": "2023-11-15T09:32:53.543Z"
   },
   {
    "duration": 26,
    "start_time": "2023-11-15T09:32:53.581Z"
   },
   {
    "duration": 32,
    "start_time": "2023-11-15T09:32:53.614Z"
   },
   {
    "duration": 189,
    "start_time": "2023-11-15T09:32:53.647Z"
   },
   {
    "duration": 6,
    "start_time": "2023-11-15T09:32:53.838Z"
   },
   {
    "duration": 17,
    "start_time": "2023-11-15T09:32:53.845Z"
   },
   {
    "duration": 9,
    "start_time": "2023-11-15T09:32:53.864Z"
   },
   {
    "duration": 48,
    "start_time": "2023-11-26T13:20:16.663Z"
   },
   {
    "duration": 1265,
    "start_time": "2023-11-26T13:20:37.569Z"
   },
   {
    "duration": 83,
    "start_time": "2023-11-26T13:20:38.835Z"
   },
   {
    "duration": 10,
    "start_time": "2023-11-26T13:20:38.920Z"
   },
   {
    "duration": 14,
    "start_time": "2023-11-26T13:20:38.932Z"
   },
   {
    "duration": 76,
    "start_time": "2023-11-26T13:20:38.947Z"
   },
   {
    "duration": 10,
    "start_time": "2023-11-26T13:20:39.024Z"
   },
   {
    "duration": 18,
    "start_time": "2023-11-26T13:20:39.036Z"
   },
   {
    "duration": 55,
    "start_time": "2023-11-26T13:20:39.055Z"
   },
   {
    "duration": 10,
    "start_time": "2023-11-26T13:20:39.112Z"
   },
   {
    "duration": 16,
    "start_time": "2023-11-26T13:20:39.124Z"
   },
   {
    "duration": 20,
    "start_time": "2023-11-26T13:20:39.142Z"
   },
   {
    "duration": 7,
    "start_time": "2023-11-26T13:20:39.164Z"
   },
   {
    "duration": 9,
    "start_time": "2023-11-26T13:20:39.173Z"
   },
   {
    "duration": 7,
    "start_time": "2023-11-26T13:20:39.183Z"
   },
   {
    "duration": 5,
    "start_time": "2023-11-26T13:20:39.192Z"
   },
   {
    "duration": 7,
    "start_time": "2023-11-26T13:20:39.198Z"
   },
   {
    "duration": 39,
    "start_time": "2023-11-26T13:20:39.206Z"
   },
   {
    "duration": 8,
    "start_time": "2023-11-26T13:20:39.246Z"
   },
   {
    "duration": 12,
    "start_time": "2023-11-26T13:20:39.255Z"
   },
   {
    "duration": 5,
    "start_time": "2023-11-26T13:20:39.269Z"
   },
   {
    "duration": 5,
    "start_time": "2023-11-26T13:20:39.276Z"
   },
   {
    "duration": 12,
    "start_time": "2023-11-26T13:20:39.283Z"
   },
   {
    "duration": 219,
    "start_time": "2023-11-26T13:20:39.297Z"
   },
   {
    "duration": 5,
    "start_time": "2023-11-26T13:20:39.518Z"
   },
   {
    "duration": 106,
    "start_time": "2023-11-26T13:20:39.524Z"
   },
   {
    "duration": 11,
    "start_time": "2023-11-26T13:20:39.631Z"
   },
   {
    "duration": 288,
    "start_time": "2023-11-26T13:20:39.643Z"
   },
   {
    "duration": 1378,
    "start_time": "2023-11-26T13:20:39.934Z"
   },
   {
    "duration": 416,
    "start_time": "2023-11-26T13:20:41.314Z"
   },
   {
    "duration": 4,
    "start_time": "2023-11-26T13:20:41.731Z"
   },
   {
    "duration": 14,
    "start_time": "2023-11-26T13:20:41.743Z"
   },
   {
    "duration": 25,
    "start_time": "2023-11-26T13:20:41.759Z"
   },
   {
    "duration": 28,
    "start_time": "2023-11-26T13:20:41.786Z"
   },
   {
    "duration": 4,
    "start_time": "2023-11-26T13:20:41.815Z"
   },
   {
    "duration": 22,
    "start_time": "2023-11-26T13:20:41.820Z"
   },
   {
    "duration": 30,
    "start_time": "2023-11-26T13:20:41.844Z"
   },
   {
    "duration": 160,
    "start_time": "2023-11-26T13:20:41.875Z"
   },
   {
    "duration": 165,
    "start_time": "2023-11-26T13:20:42.042Z"
   },
   {
    "duration": 176,
    "start_time": "2023-11-26T13:20:42.209Z"
   },
   {
    "duration": 14,
    "start_time": "2023-11-26T13:20:42.387Z"
   },
   {
    "duration": 51,
    "start_time": "2023-11-26T13:20:42.402Z"
   },
   {
    "duration": 170,
    "start_time": "2023-11-26T13:20:42.455Z"
   },
   {
    "duration": 157,
    "start_time": "2023-11-26T13:20:42.626Z"
   },
   {
    "duration": 177,
    "start_time": "2023-11-26T13:20:42.785Z"
   },
   {
    "duration": 10,
    "start_time": "2023-11-26T13:20:42.963Z"
   },
   {
    "duration": 958,
    "start_time": "2023-11-26T13:20:42.975Z"
   },
   {
    "duration": 7,
    "start_time": "2023-11-26T13:20:43.943Z"
   },
   {
    "duration": 5,
    "start_time": "2023-11-26T13:20:43.952Z"
   },
   {
    "duration": 25,
    "start_time": "2023-11-26T13:20:43.959Z"
   },
   {
    "duration": 14,
    "start_time": "2023-11-26T13:20:43.986Z"
   },
   {
    "duration": 56,
    "start_time": "2023-11-26T13:20:44.001Z"
   },
   {
    "duration": 160,
    "start_time": "2023-11-26T13:20:44.058Z"
   },
   {
    "duration": 6,
    "start_time": "2023-11-26T13:20:44.220Z"
   },
   {
    "duration": 19,
    "start_time": "2023-11-26T13:20:44.228Z"
   },
   {
    "duration": 13,
    "start_time": "2023-11-26T13:20:44.249Z"
   },
   {
    "duration": 1314,
    "start_time": "2024-02-25T18:00:03.877Z"
   },
   {
    "duration": 85,
    "start_time": "2024-02-25T18:00:05.192Z"
   },
   {
    "duration": 10,
    "start_time": "2024-02-25T18:00:05.278Z"
   },
   {
    "duration": 17,
    "start_time": "2024-02-25T18:00:05.290Z"
   },
   {
    "duration": 75,
    "start_time": "2024-02-25T18:00:05.309Z"
   },
   {
    "duration": 10,
    "start_time": "2024-02-25T18:00:05.385Z"
   },
   {
    "duration": 21,
    "start_time": "2024-02-25T18:00:05.397Z"
   },
   {
    "duration": 58,
    "start_time": "2024-02-25T18:00:05.419Z"
   },
   {
    "duration": 9,
    "start_time": "2024-02-25T18:00:05.479Z"
   },
   {
    "duration": 14,
    "start_time": "2024-02-25T18:00:05.491Z"
   },
   {
    "duration": 17,
    "start_time": "2024-02-25T18:00:05.506Z"
   },
   {
    "duration": 6,
    "start_time": "2024-02-25T18:00:05.524Z"
   },
   {
    "duration": 5,
    "start_time": "2024-02-25T18:00:05.532Z"
   },
   {
    "duration": 9,
    "start_time": "2024-02-25T18:00:05.538Z"
   },
   {
    "duration": 9,
    "start_time": "2024-02-25T18:00:05.548Z"
   },
   {
    "duration": 5,
    "start_time": "2024-02-25T18:00:05.558Z"
   },
   {
    "duration": 7,
    "start_time": "2024-02-25T18:00:05.564Z"
   },
   {
    "duration": 3,
    "start_time": "2024-02-25T18:00:05.572Z"
   },
   {
    "duration": 10,
    "start_time": "2024-02-25T18:00:05.576Z"
   },
   {
    "duration": 4,
    "start_time": "2024-02-25T18:00:05.587Z"
   },
   {
    "duration": 4,
    "start_time": "2024-02-25T18:00:05.592Z"
   },
   {
    "duration": 5,
    "start_time": "2024-02-25T18:00:05.598Z"
   },
   {
    "duration": 215,
    "start_time": "2024-02-25T18:00:05.604Z"
   },
   {
    "duration": 5,
    "start_time": "2024-02-25T18:00:05.820Z"
   },
   {
    "duration": 121,
    "start_time": "2024-02-25T18:00:05.826Z"
   },
   {
    "duration": 5,
    "start_time": "2024-02-25T18:00:05.948Z"
   },
   {
    "duration": 253,
    "start_time": "2024-02-25T18:00:05.955Z"
   },
   {
    "duration": 1273,
    "start_time": "2024-02-25T18:00:06.211Z"
   },
   {
    "duration": 343,
    "start_time": "2024-02-25T18:00:07.486Z"
   },
   {
    "duration": 14,
    "start_time": "2024-02-25T18:00:07.831Z"
   },
   {
    "duration": 3,
    "start_time": "2024-02-25T18:00:07.846Z"
   },
   {
    "duration": 9,
    "start_time": "2024-02-25T18:00:07.851Z"
   },
   {
    "duration": 37,
    "start_time": "2024-02-25T18:00:07.861Z"
   },
   {
    "duration": 3,
    "start_time": "2024-02-25T18:00:07.900Z"
   },
   {
    "duration": 49,
    "start_time": "2024-02-25T18:00:07.904Z"
   },
   {
    "duration": 30,
    "start_time": "2024-02-25T18:00:07.954Z"
   },
   {
    "duration": 144,
    "start_time": "2024-02-25T18:00:07.985Z"
   },
   {
    "duration": 155,
    "start_time": "2024-02-25T18:00:08.130Z"
   },
   {
    "duration": 159,
    "start_time": "2024-02-25T18:00:08.287Z"
   },
   {
    "duration": 12,
    "start_time": "2024-02-25T18:00:08.448Z"
   },
   {
    "duration": 30,
    "start_time": "2024-02-25T18:00:08.461Z"
   },
   {
    "duration": 155,
    "start_time": "2024-02-25T18:00:08.492Z"
   },
   {
    "duration": 130,
    "start_time": "2024-02-25T18:00:08.649Z"
   },
   {
    "duration": 138,
    "start_time": "2024-02-25T18:00:08.781Z"
   },
   {
    "duration": 9,
    "start_time": "2024-02-25T18:00:08.921Z"
   },
   {
    "duration": 960,
    "start_time": "2024-02-25T18:00:08.931Z"
   },
   {
    "duration": 7,
    "start_time": "2024-02-25T18:00:09.892Z"
   },
   {
    "duration": 23,
    "start_time": "2024-02-25T18:00:09.900Z"
   },
   {
    "duration": 97,
    "start_time": "2024-02-25T18:00:09.944Z"
   },
   {
    "duration": 33,
    "start_time": "2024-02-25T18:00:10.043Z"
   },
   {
    "duration": 36,
    "start_time": "2024-02-25T18:00:10.077Z"
   },
   {
    "duration": 143,
    "start_time": "2024-02-25T18:00:10.115Z"
   },
   {
    "duration": 5,
    "start_time": "2024-02-25T18:00:10.259Z"
   },
   {
    "duration": 15,
    "start_time": "2024-02-25T18:00:10.266Z"
   },
   {
    "duration": 15,
    "start_time": "2024-02-25T18:00:10.283Z"
   }
  ],
  "kernelspec": {
   "display_name": "Python 3 (ipykernel)",
   "language": "python",
   "name": "python3"
  },
  "language_info": {
   "codemirror_mode": {
    "name": "ipython",
    "version": 3
   },
   "file_extension": ".py",
   "mimetype": "text/x-python",
   "name": "python",
   "nbconvert_exporter": "python",
   "pygments_lexer": "ipython3",
   "version": "3.9.13"
  },
  "toc": {
   "base_numbering": 1,
   "nav_menu": {
    "height": "196px",
    "width": "436px"
   },
   "number_sections": true,
   "sideBar": true,
   "skip_h1_title": true,
   "title_cell": "Table of Contents",
   "title_sidebar": "Contents",
   "toc_cell": false,
   "toc_position": {},
   "toc_section_display": true,
   "toc_window_display": false
  }
 },
 "nbformat": 4,
 "nbformat_minor": 5
}
