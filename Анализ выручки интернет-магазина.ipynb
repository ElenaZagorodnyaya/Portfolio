{
 "cells": [
  {
   "cell_type": "markdown",
   "metadata": {},
   "source": [
    "# Анализ выручки интернет-магазина"
   ]
  },
  {
   "cell_type": "markdown",
   "metadata": {},
   "source": [
    "## Описание проекта"
   ]
  },
  {
   "cell_type": "markdown",
   "metadata": {},
   "source": [
    "Цель проекта:\n",
    "\n",
    "1. Приоритизировать гипотезы;\n",
    "2. Запустить A/B-тест;\n",
    "3. Проанализировать результаты.\n",
    "\n",
    "Задачи проекта:\n",
    "\n",
    "1. Первая часть:\n",
    "\n",
    "* Применить фреймворк ICE для приоритизации гипотез. Отсортировать их по убыванию приоритета.\n",
    "* Применить фреймворк RICE для приоритизации гипотез. Отсортировать их по убыванию приоритета.\n",
    "* Указать, как изменилась приоритизация гипотез при применении RICE вместо ICE. Объяснить, почему так произошло.\n",
    "\n",
    "2. Вторая часть. Анализ A/B-теста:\n",
    "\n",
    "* Построить график кумулятивной выручки по группам. Сделать выводы и предположения.\n",
    "* Построить график кумулятивного среднего чека по группам. Сделать выводы и предположения.\n",
    "* Построить график относительного изменения кумулятивного среднего чека группы B к группе A. Сделать выводы и предположения.\n",
    "* Построить график кумулятивного среднего количества заказов на посетителя по группам. Сделать выводы и предположения.\n",
    "* Построить график относительного изменения кумулятивного среднего количества заказов на посетителя группы B к группе A. Сделать выводы и предположения.\n",
    "* Построить точечный график количества заказов по пользователям. Сделать выводы и предположения.\n",
    "* Посчитать 95-й и 99-й перцентили количества заказов на пользователя. Выбрать границу для определения аномальных пользователей.\n",
    "* Построить точечный график стоимостей заказов. Сделать выводы и предположения.\n",
    "* Посчитать 95-й и 99-й перцентили стоимости заказов. Выбрать границу для определения аномальных заказов.\n",
    "* Посчитать статистическую значимость различий в среднем количестве заказов на посетителя между группами по «сырым» данным. Сделать выводы и предположения.\n",
    "* Посчитать статистическую значимость различий в среднем чеке заказа между группами по «сырым» данным. Сделать выводы и предположения.\n",
    "* Посчитать статистическую значимость различий в среднем количестве заказов на посетителя между группами по «очищенным» данным. Сделать выводы и предположения.\n",
    "* Посчитать статистическую значимость различий в среднем чеке заказа между группами по «очищенным» данным. Сделать выводы и предположения.\n",
    "* Принять решение по результатам теста и объяснить его. Варианты решений: 1. Остановить тест, зафиксировать победу одной из групп. 2. Остановить тест, зафиксировать отсутствие различий между группами. 3. Продолжить тест.\n"
   ]
  },
  {
   "cell_type": "markdown",
   "metadata": {},
   "source": [
    "## Описание данных\n",
    "\n",
    "Файл /datasets/hypothesis.csv\n",
    "\n",
    "* Hypothesis — краткое описание гипотезы;\n",
    "* Reach — охват пользователей по 10-балльной шкале;\n",
    "* Impact — влияние на пользователей по 10-балльной шкале;\n",
    "* Confidence — уверенность в гипотезе по 10-балльной шкале;\n",
    "* Efforts — затраты ресурсов на проверку гипотезы по 10-балльной шкале. Чем больше значение Efforts, тем дороже проверка гипотезы.\n",
    "\n",
    "Файл /datasets/orders.csv\n",
    "\n",
    "* transactionId — идентификатор заказа;\n",
    "* visitorId — идентификатор пользователя, совершившего заказ;\n",
    "* date — дата, когда был совершён заказ;\n",
    "* revenue — выручка заказа;\n",
    "* group — группа A/B-теста, в которую попал заказ.\n",
    "\n",
    "Файл /datasets/visitors.csv\n",
    "\n",
    "* date — дата;\n",
    "* group — группа A/B-теста;\n",
    "* visitors — количество пользователей в указанную дату в указанной группе A/B-теста"
   ]
  },
  {
   "cell_type": "code",
   "execution_count": 1,
   "metadata": {},
   "outputs": [],
   "source": [
    "import pandas as pd\n",
    "import scipy.stats as stats\n",
    "import matplotlib.pyplot as plt\n",
    "import seaborn as sns\n",
    "import plotly.express as px\n",
    "import numpy as np\n",
    "from scipy import stats as st\n",
    "from math import factorial\n",
    "import datetime as dt"
   ]
  },
  {
   "cell_type": "markdown",
   "metadata": {},
   "source": [
    "### Приоритизация гипотез"
   ]
  },
  {
   "cell_type": "code",
   "execution_count": 2,
   "metadata": {},
   "outputs": [
    {
     "data": {
      "text/html": [
       "<div>\n",
       "<style scoped>\n",
       "    .dataframe tbody tr th:only-of-type {\n",
       "        vertical-align: middle;\n",
       "    }\n",
       "\n",
       "    .dataframe tbody tr th {\n",
       "        vertical-align: top;\n",
       "    }\n",
       "\n",
       "    .dataframe thead th {\n",
       "        text-align: right;\n",
       "    }\n",
       "</style>\n",
       "<table border=\"1\" class=\"dataframe\">\n",
       "  <thead>\n",
       "    <tr style=\"text-align: right;\">\n",
       "      <th></th>\n",
       "      <th>Hypothesis</th>\n",
       "      <th>Reach</th>\n",
       "      <th>Impact</th>\n",
       "      <th>Confidence</th>\n",
       "      <th>Efforts</th>\n",
       "    </tr>\n",
       "  </thead>\n",
       "  <tbody>\n",
       "    <tr>\n",
       "      <th>0</th>\n",
       "      <td>Добавить два новых канала привлечения трафика, что позволит привлекать на 30% больше пользователей</td>\n",
       "      <td>3</td>\n",
       "      <td>10</td>\n",
       "      <td>8</td>\n",
       "      <td>6</td>\n",
       "    </tr>\n",
       "    <tr>\n",
       "      <th>1</th>\n",
       "      <td>Запустить собственную службу доставки, что сократит срок доставки заказов</td>\n",
       "      <td>2</td>\n",
       "      <td>5</td>\n",
       "      <td>4</td>\n",
       "      <td>10</td>\n",
       "    </tr>\n",
       "    <tr>\n",
       "      <th>2</th>\n",
       "      <td>Добавить блоки рекомендаций товаров на сайт интернет магазина, чтобы повысить конверсию и средний чек заказа</td>\n",
       "      <td>8</td>\n",
       "      <td>3</td>\n",
       "      <td>7</td>\n",
       "      <td>3</td>\n",
       "    </tr>\n",
       "    <tr>\n",
       "      <th>3</th>\n",
       "      <td>Изменить структура категорий, что увеличит конверсию, т.к. пользователи быстрее найдут нужный товар</td>\n",
       "      <td>8</td>\n",
       "      <td>3</td>\n",
       "      <td>3</td>\n",
       "      <td>8</td>\n",
       "    </tr>\n",
       "    <tr>\n",
       "      <th>4</th>\n",
       "      <td>Изменить цвет фона главной страницы, чтобы увеличить вовлеченность пользователей</td>\n",
       "      <td>3</td>\n",
       "      <td>1</td>\n",
       "      <td>1</td>\n",
       "      <td>1</td>\n",
       "    </tr>\n",
       "    <tr>\n",
       "      <th>5</th>\n",
       "      <td>Добавить страницу отзывов клиентов о магазине, что позволит увеличить количество заказов</td>\n",
       "      <td>3</td>\n",
       "      <td>2</td>\n",
       "      <td>2</td>\n",
       "      <td>3</td>\n",
       "    </tr>\n",
       "    <tr>\n",
       "      <th>6</th>\n",
       "      <td>Показать на главной странице баннеры с актуальными акциями и распродажами, чтобы увеличить конверсию</td>\n",
       "      <td>5</td>\n",
       "      <td>3</td>\n",
       "      <td>8</td>\n",
       "      <td>3</td>\n",
       "    </tr>\n",
       "    <tr>\n",
       "      <th>7</th>\n",
       "      <td>Добавить форму подписки на все основные страницы, чтобы собрать базу клиентов для email-рассылок</td>\n",
       "      <td>10</td>\n",
       "      <td>7</td>\n",
       "      <td>8</td>\n",
       "      <td>5</td>\n",
       "    </tr>\n",
       "    <tr>\n",
       "      <th>8</th>\n",
       "      <td>Запустить акцию, дающую скидку на товар в день рождения</td>\n",
       "      <td>1</td>\n",
       "      <td>9</td>\n",
       "      <td>9</td>\n",
       "      <td>5</td>\n",
       "    </tr>\n",
       "  </tbody>\n",
       "</table>\n",
       "</div>"
      ],
      "text/plain": [
       "                                                                                                     Hypothesis  \\\n",
       "0            Добавить два новых канала привлечения трафика, что позволит привлекать на 30% больше пользователей   \n",
       "1                                     Запустить собственную службу доставки, что сократит срок доставки заказов   \n",
       "2  Добавить блоки рекомендаций товаров на сайт интернет магазина, чтобы повысить конверсию и средний чек заказа   \n",
       "3           Изменить структура категорий, что увеличит конверсию, т.к. пользователи быстрее найдут нужный товар   \n",
       "4                              Изменить цвет фона главной страницы, чтобы увеличить вовлеченность пользователей   \n",
       "5                      Добавить страницу отзывов клиентов о магазине, что позволит увеличить количество заказов   \n",
       "6          Показать на главной странице баннеры с актуальными акциями и распродажами, чтобы увеличить конверсию   \n",
       "7              Добавить форму подписки на все основные страницы, чтобы собрать базу клиентов для email-рассылок   \n",
       "8                                                       Запустить акцию, дающую скидку на товар в день рождения   \n",
       "\n",
       "   Reach  Impact  Confidence  Efforts  \n",
       "0      3      10           8        6  \n",
       "1      2       5           4       10  \n",
       "2      8       3           7        3  \n",
       "3      8       3           3        8  \n",
       "4      3       1           1        1  \n",
       "5      3       2           2        3  \n",
       "6      5       3           8        3  \n",
       "7     10       7           8        5  \n",
       "8      1       9           9        5  "
      ]
     },
     "execution_count": 2,
     "metadata": {},
     "output_type": "execute_result"
    }
   ],
   "source": [
    "try:\n",
    "    hypothesis = pd.read_csv('//Users/Elena/Desktop/hypothesis.csv')\n",
    "except:\n",
    "    hypothesis = pd.read_csv('/Documents/hypothesis.csv')\n",
    "\n",
    "pd.options.display.max_colwidth = 150\n",
    "\n",
    "hypothesis.head(10)"
   ]
  },
  {
   "cell_type": "markdown",
   "metadata": {},
   "source": [
    " Выведу данные таблицы, которая содержит гипотезы 'hypothesis'. "
   ]
  },
  {
   "cell_type": "code",
   "execution_count": 3,
   "metadata": {},
   "outputs": [],
   "source": [
    "hypothesis.columns = hypothesis.columns.str.lower()"
   ]
  },
  {
   "cell_type": "markdown",
   "metadata": {},
   "source": [
    "Приведу название столбцов к нижнему регистру."
   ]
  },
  {
   "cell_type": "code",
   "execution_count": 4,
   "metadata": {},
   "outputs": [
    {
     "data": {
      "text/html": [
       "<div>\n",
       "<style scoped>\n",
       "    .dataframe tbody tr th:only-of-type {\n",
       "        vertical-align: middle;\n",
       "    }\n",
       "\n",
       "    .dataframe tbody tr th {\n",
       "        vertical-align: top;\n",
       "    }\n",
       "\n",
       "    .dataframe thead th {\n",
       "        text-align: right;\n",
       "    }\n",
       "</style>\n",
       "<table border=\"1\" class=\"dataframe\">\n",
       "  <thead>\n",
       "    <tr style=\"text-align: right;\">\n",
       "      <th></th>\n",
       "      <th>hypothesis</th>\n",
       "      <th>ICE</th>\n",
       "    </tr>\n",
       "  </thead>\n",
       "  <tbody>\n",
       "    <tr>\n",
       "      <th>8</th>\n",
       "      <td>Запустить акцию, дающую скидку на товар в день рождения</td>\n",
       "      <td>16.20</td>\n",
       "    </tr>\n",
       "    <tr>\n",
       "      <th>0</th>\n",
       "      <td>Добавить два новых канала привлечения трафика, что позволит привлекать на 30% больше пользователей</td>\n",
       "      <td>13.33</td>\n",
       "    </tr>\n",
       "    <tr>\n",
       "      <th>7</th>\n",
       "      <td>Добавить форму подписки на все основные страницы, чтобы собрать базу клиентов для email-рассылок</td>\n",
       "      <td>11.20</td>\n",
       "    </tr>\n",
       "    <tr>\n",
       "      <th>6</th>\n",
       "      <td>Показать на главной странице баннеры с актуальными акциями и распродажами, чтобы увеличить конверсию</td>\n",
       "      <td>8.00</td>\n",
       "    </tr>\n",
       "    <tr>\n",
       "      <th>2</th>\n",
       "      <td>Добавить блоки рекомендаций товаров на сайт интернет магазина, чтобы повысить конверсию и средний чек заказа</td>\n",
       "      <td>7.00</td>\n",
       "    </tr>\n",
       "    <tr>\n",
       "      <th>1</th>\n",
       "      <td>Запустить собственную службу доставки, что сократит срок доставки заказов</td>\n",
       "      <td>2.00</td>\n",
       "    </tr>\n",
       "    <tr>\n",
       "      <th>5</th>\n",
       "      <td>Добавить страницу отзывов клиентов о магазине, что позволит увеличить количество заказов</td>\n",
       "      <td>1.33</td>\n",
       "    </tr>\n",
       "    <tr>\n",
       "      <th>3</th>\n",
       "      <td>Изменить структура категорий, что увеличит конверсию, т.к. пользователи быстрее найдут нужный товар</td>\n",
       "      <td>1.12</td>\n",
       "    </tr>\n",
       "    <tr>\n",
       "      <th>4</th>\n",
       "      <td>Изменить цвет фона главной страницы, чтобы увеличить вовлеченность пользователей</td>\n",
       "      <td>1.00</td>\n",
       "    </tr>\n",
       "  </tbody>\n",
       "</table>\n",
       "</div>"
      ],
      "text/plain": [
       "                                                                                                     hypothesis  \\\n",
       "8                                                       Запустить акцию, дающую скидку на товар в день рождения   \n",
       "0            Добавить два новых канала привлечения трафика, что позволит привлекать на 30% больше пользователей   \n",
       "7              Добавить форму подписки на все основные страницы, чтобы собрать базу клиентов для email-рассылок   \n",
       "6          Показать на главной странице баннеры с актуальными акциями и распродажами, чтобы увеличить конверсию   \n",
       "2  Добавить блоки рекомендаций товаров на сайт интернет магазина, чтобы повысить конверсию и средний чек заказа   \n",
       "1                                     Запустить собственную службу доставки, что сократит срок доставки заказов   \n",
       "5                      Добавить страницу отзывов клиентов о магазине, что позволит увеличить количество заказов   \n",
       "3           Изменить структура категорий, что увеличит конверсию, т.к. пользователи быстрее найдут нужный товар   \n",
       "4                              Изменить цвет фона главной страницы, чтобы увеличить вовлеченность пользователей   \n",
       "\n",
       "     ICE  \n",
       "8  16.20  \n",
       "0  13.33  \n",
       "7  11.20  \n",
       "6   8.00  \n",
       "2   7.00  \n",
       "1   2.00  \n",
       "5   1.33  \n",
       "3   1.12  \n",
       "4   1.00  "
      ]
     },
     "execution_count": 4,
     "metadata": {},
     "output_type": "execute_result"
    }
   ],
   "source": [
    "hypothesis['ICE'] = round(hypothesis['impact'] * hypothesis['confidence'] / hypothesis['efforts'], 2)\n",
    "hypothesis[['hypothesis', 'ICE']].sort_values(by='ICE', ascending=False)"
   ]
  },
  {
   "cell_type": "code",
   "execution_count": 5,
   "metadata": {},
   "outputs": [
    {
     "data": {
      "text/plain": [
       "array(['Добавить два новых канала привлечения трафика, что позволит привлекать на 30% больше пользователей',\n",
       "       'Запустить собственную службу доставки, что сократит срок доставки заказов',\n",
       "       'Добавить блоки рекомендаций товаров на сайт интернет магазина, чтобы повысить конверсию и средний чек заказа',\n",
       "       'Изменить структура категорий, что увеличит конверсию, т.к. пользователи быстрее найдут нужный товар',\n",
       "       'Изменить цвет фона главной страницы, чтобы увеличить вовлеченность пользователей',\n",
       "       'Добавить страницу отзывов клиентов о магазине, что позволит увеличить количество заказов',\n",
       "       'Показать на главной странице баннеры с актуальными акциями и распродажами, чтобы увеличить конверсию',\n",
       "       'Добавить форму подписки на все основные страницы, чтобы собрать базу клиентов для email-рассылок',\n",
       "       'Запустить акцию, дающую скидку на товар в день рождения'],\n",
       "      dtype=object)"
      ]
     },
     "execution_count": 5,
     "metadata": {},
     "output_type": "execute_result"
    }
   ],
   "source": [
    "hypothesis['hypothesis'].unique()"
   ]
  },
  {
   "cell_type": "markdown",
   "metadata": {},
   "source": [
    "Чтобы улучшение ключевых метрик бизнеса, приоритизируем имеющиеся гипотезы.\n",
    "Сначала методом 'ICE': умножим влияние на уверенность в результате и делим на затраты.\n",
    "Наиболее приоритетной гипотезой оказывается 'Запустить акцию, дающую скидку на товар в день рождения'."
   ]
  },
  {
   "cell_type": "code",
   "execution_count": 6,
   "metadata": {},
   "outputs": [
    {
     "data": {
      "text/html": [
       "<div>\n",
       "<style scoped>\n",
       "    .dataframe tbody tr th:only-of-type {\n",
       "        vertical-align: middle;\n",
       "    }\n",
       "\n",
       "    .dataframe tbody tr th {\n",
       "        vertical-align: top;\n",
       "    }\n",
       "\n",
       "    .dataframe thead th {\n",
       "        text-align: right;\n",
       "    }\n",
       "</style>\n",
       "<table border=\"1\" class=\"dataframe\">\n",
       "  <thead>\n",
       "    <tr style=\"text-align: right;\">\n",
       "      <th></th>\n",
       "      <th>hypothesis</th>\n",
       "      <th>RICE</th>\n",
       "    </tr>\n",
       "  </thead>\n",
       "  <tbody>\n",
       "    <tr>\n",
       "      <th>7</th>\n",
       "      <td>Добавить форму подписки на все основные страницы, чтобы собрать базу клиентов для email-рассылок</td>\n",
       "      <td>112.0</td>\n",
       "    </tr>\n",
       "    <tr>\n",
       "      <th>2</th>\n",
       "      <td>Добавить блоки рекомендаций товаров на сайт интернет магазина, чтобы повысить конверсию и средний чек заказа</td>\n",
       "      <td>56.0</td>\n",
       "    </tr>\n",
       "    <tr>\n",
       "      <th>0</th>\n",
       "      <td>Добавить два новых канала привлечения трафика, что позволит привлекать на 30% больше пользователей</td>\n",
       "      <td>40.0</td>\n",
       "    </tr>\n",
       "    <tr>\n",
       "      <th>6</th>\n",
       "      <td>Показать на главной странице баннеры с актуальными акциями и распродажами, чтобы увеличить конверсию</td>\n",
       "      <td>40.0</td>\n",
       "    </tr>\n",
       "    <tr>\n",
       "      <th>8</th>\n",
       "      <td>Запустить акцию, дающую скидку на товар в день рождения</td>\n",
       "      <td>16.2</td>\n",
       "    </tr>\n",
       "    <tr>\n",
       "      <th>3</th>\n",
       "      <td>Изменить структура категорий, что увеличит конверсию, т.к. пользователи быстрее найдут нужный товар</td>\n",
       "      <td>9.0</td>\n",
       "    </tr>\n",
       "    <tr>\n",
       "      <th>1</th>\n",
       "      <td>Запустить собственную службу доставки, что сократит срок доставки заказов</td>\n",
       "      <td>4.0</td>\n",
       "    </tr>\n",
       "    <tr>\n",
       "      <th>5</th>\n",
       "      <td>Добавить страницу отзывов клиентов о магазине, что позволит увеличить количество заказов</td>\n",
       "      <td>4.0</td>\n",
       "    </tr>\n",
       "    <tr>\n",
       "      <th>4</th>\n",
       "      <td>Изменить цвет фона главной страницы, чтобы увеличить вовлеченность пользователей</td>\n",
       "      <td>3.0</td>\n",
       "    </tr>\n",
       "  </tbody>\n",
       "</table>\n",
       "</div>"
      ],
      "text/plain": [
       "                                                                                                     hypothesis  \\\n",
       "7              Добавить форму подписки на все основные страницы, чтобы собрать базу клиентов для email-рассылок   \n",
       "2  Добавить блоки рекомендаций товаров на сайт интернет магазина, чтобы повысить конверсию и средний чек заказа   \n",
       "0            Добавить два новых канала привлечения трафика, что позволит привлекать на 30% больше пользователей   \n",
       "6          Показать на главной странице баннеры с актуальными акциями и распродажами, чтобы увеличить конверсию   \n",
       "8                                                       Запустить акцию, дающую скидку на товар в день рождения   \n",
       "3           Изменить структура категорий, что увеличит конверсию, т.к. пользователи быстрее найдут нужный товар   \n",
       "1                                     Запустить собственную службу доставки, что сократит срок доставки заказов   \n",
       "5                      Добавить страницу отзывов клиентов о магазине, что позволит увеличить количество заказов   \n",
       "4                              Изменить цвет фона главной страницы, чтобы увеличить вовлеченность пользователей   \n",
       "\n",
       "    RICE  \n",
       "7  112.0  \n",
       "2   56.0  \n",
       "0   40.0  \n",
       "6   40.0  \n",
       "8   16.2  \n",
       "3    9.0  \n",
       "1    4.0  \n",
       "5    4.0  \n",
       "4    3.0  "
      ]
     },
     "execution_count": 6,
     "metadata": {},
     "output_type": "execute_result"
    }
   ],
   "source": [
    "hypothesis['RICE'] = round(hypothesis['reach'] * hypothesis['impact'] * hypothesis['confidence'] / hypothesis['efforts'], 2)\n",
    "hypothesis[['hypothesis', 'RICE']].sort_values(by='RICE', ascending=False)"
   ]
  },
  {
   "cell_type": "markdown",
   "metadata": {},
   "source": [
    "Приоритизируем гипотезы методом 'RICE': перемножим количество пользователей, которых затронут изменения, показатель влияния изменений на поведение пользователей и показатель уверенности в результате и поделим произведение на затраты.\n",
    "В данном случае наиболее приоритетной гипотезой оказалась гипотеза: 'Добавить форму подписки на все основные страницы, чтобы собрать базу клиентов для email-рассылок'."
   ]
  },
  {
   "cell_type": "markdown",
   "metadata": {},
   "source": [
    "#### Вывод по первой части:"
   ]
  },
  {
   "cell_type": "markdown",
   "metadata": {},
   "source": [
    "Оба метода 'RICE' и 'ICE' созданы для определения приоритетной гипотезы для тестирования. Основным отличием данных метрик является охват - количество пользователей, участвующих в тестировании. \n",
    "Предлагаю в данном анализе не пренебрегать данным показателем и выбрать, соответственно, гипотезу для тестирования 'Добавить форму подписки на все основные страницы, чтобы собрать базу клиентов для email-рассылок'. "
   ]
  },
  {
   "cell_type": "markdown",
   "metadata": {},
   "source": [
    "### Анализ A/B-теста"
   ]
  },
  {
   "cell_type": "code",
   "execution_count": 7,
   "metadata": {},
   "outputs": [
    {
     "data": {
      "text/html": [
       "<div>\n",
       "<style scoped>\n",
       "    .dataframe tbody tr th:only-of-type {\n",
       "        vertical-align: middle;\n",
       "    }\n",
       "\n",
       "    .dataframe tbody tr th {\n",
       "        vertical-align: top;\n",
       "    }\n",
       "\n",
       "    .dataframe thead th {\n",
       "        text-align: right;\n",
       "    }\n",
       "</style>\n",
       "<table border=\"1\" class=\"dataframe\">\n",
       "  <thead>\n",
       "    <tr style=\"text-align: right;\">\n",
       "      <th></th>\n",
       "      <th>transactionId</th>\n",
       "      <th>visitorId</th>\n",
       "      <th>date</th>\n",
       "      <th>revenue</th>\n",
       "      <th>group</th>\n",
       "    </tr>\n",
       "  </thead>\n",
       "  <tbody>\n",
       "    <tr>\n",
       "      <th>0</th>\n",
       "      <td>3667963787</td>\n",
       "      <td>3312258926</td>\n",
       "      <td>2019-08-15</td>\n",
       "      <td>1650</td>\n",
       "      <td>B</td>\n",
       "    </tr>\n",
       "    <tr>\n",
       "      <th>1</th>\n",
       "      <td>2804400009</td>\n",
       "      <td>3642806036</td>\n",
       "      <td>2019-08-15</td>\n",
       "      <td>730</td>\n",
       "      <td>B</td>\n",
       "    </tr>\n",
       "    <tr>\n",
       "      <th>2</th>\n",
       "      <td>2961555356</td>\n",
       "      <td>4069496402</td>\n",
       "      <td>2019-08-15</td>\n",
       "      <td>400</td>\n",
       "      <td>A</td>\n",
       "    </tr>\n",
       "    <tr>\n",
       "      <th>3</th>\n",
       "      <td>3797467345</td>\n",
       "      <td>1196621759</td>\n",
       "      <td>2019-08-15</td>\n",
       "      <td>9759</td>\n",
       "      <td>B</td>\n",
       "    </tr>\n",
       "    <tr>\n",
       "      <th>4</th>\n",
       "      <td>2282983706</td>\n",
       "      <td>2322279887</td>\n",
       "      <td>2019-08-15</td>\n",
       "      <td>2308</td>\n",
       "      <td>B</td>\n",
       "    </tr>\n",
       "    <tr>\n",
       "      <th>5</th>\n",
       "      <td>182168103</td>\n",
       "      <td>935554773</td>\n",
       "      <td>2019-08-15</td>\n",
       "      <td>2210</td>\n",
       "      <td>B</td>\n",
       "    </tr>\n",
       "    <tr>\n",
       "      <th>6</th>\n",
       "      <td>398296753</td>\n",
       "      <td>2900797465</td>\n",
       "      <td>2019-08-15</td>\n",
       "      <td>1860</td>\n",
       "      <td>B</td>\n",
       "    </tr>\n",
       "    <tr>\n",
       "      <th>7</th>\n",
       "      <td>2626614568</td>\n",
       "      <td>78758296</td>\n",
       "      <td>2019-08-15</td>\n",
       "      <td>1044</td>\n",
       "      <td>A</td>\n",
       "    </tr>\n",
       "    <tr>\n",
       "      <th>8</th>\n",
       "      <td>1576988021</td>\n",
       "      <td>295230930</td>\n",
       "      <td>2019-08-15</td>\n",
       "      <td>13710</td>\n",
       "      <td>A</td>\n",
       "    </tr>\n",
       "    <tr>\n",
       "      <th>9</th>\n",
       "      <td>1506739906</td>\n",
       "      <td>1882260405</td>\n",
       "      <td>2019-08-15</td>\n",
       "      <td>1855</td>\n",
       "      <td>B</td>\n",
       "    </tr>\n",
       "  </tbody>\n",
       "</table>\n",
       "</div>"
      ],
      "text/plain": [
       "   transactionId   visitorId        date  revenue group\n",
       "0     3667963787  3312258926  2019-08-15     1650     B\n",
       "1     2804400009  3642806036  2019-08-15      730     B\n",
       "2     2961555356  4069496402  2019-08-15      400     A\n",
       "3     3797467345  1196621759  2019-08-15     9759     B\n",
       "4     2282983706  2322279887  2019-08-15     2308     B\n",
       "5      182168103   935554773  2019-08-15     2210     B\n",
       "6      398296753  2900797465  2019-08-15     1860     B\n",
       "7     2626614568    78758296  2019-08-15     1044     A\n",
       "8     1576988021   295230930  2019-08-15    13710     A\n",
       "9     1506739906  1882260405  2019-08-15     1855     B"
      ]
     },
     "execution_count": 7,
     "metadata": {},
     "output_type": "execute_result"
    }
   ],
   "source": [
    "try:\n",
    "    orders = pd.read_csv('//Users/Elena/Desktop/orders.csv')\n",
    "except:\n",
    "    orders = pd.read_csv('/Documents/orders.csv')\n",
    "    \n",
    "orders.head(10)"
   ]
  },
  {
   "cell_type": "markdown",
   "metadata": {},
   "source": [
    "Ознакомимся с данными в таблице заказов 'orders'."
   ]
  },
  {
   "cell_type": "code",
   "execution_count": 8,
   "metadata": {},
   "outputs": [
    {
     "name": "stdout",
     "output_type": "stream",
     "text": [
      "<class 'pandas.core.frame.DataFrame'>\n",
      "RangeIndex: 1197 entries, 0 to 1196\n",
      "Data columns (total 5 columns):\n",
      " #   Column         Non-Null Count  Dtype \n",
      "---  ------         --------------  ----- \n",
      " 0   transactionId  1197 non-null   int64 \n",
      " 1   visitorId      1197 non-null   int64 \n",
      " 2   date           1197 non-null   object\n",
      " 3   revenue        1197 non-null   int64 \n",
      " 4   group          1197 non-null   object\n",
      "dtypes: int64(3), object(2)\n",
      "memory usage: 46.9+ KB\n"
     ]
    }
   ],
   "source": [
    "orders.info()"
   ]
  },
  {
   "cell_type": "markdown",
   "metadata": {},
   "source": [
    "В таблице 5 столбцов."
   ]
  },
  {
   "cell_type": "code",
   "execution_count": 9,
   "metadata": {},
   "outputs": [],
   "source": [
    "orders['date'] = pd.to_datetime(orders['date'], format = '%Y-%m-%d')"
   ]
  },
  {
   "cell_type": "markdown",
   "metadata": {},
   "source": [
    "Приведу столбец с датой в необходимый формат."
   ]
  },
  {
   "cell_type": "code",
   "execution_count": 10,
   "metadata": {},
   "outputs": [
    {
     "data": {
      "text/html": [
       "<div>\n",
       "<style scoped>\n",
       "    .dataframe tbody tr th:only-of-type {\n",
       "        vertical-align: middle;\n",
       "    }\n",
       "\n",
       "    .dataframe tbody tr th {\n",
       "        vertical-align: top;\n",
       "    }\n",
       "\n",
       "    .dataframe thead th {\n",
       "        text-align: right;\n",
       "    }\n",
       "</style>\n",
       "<table border=\"1\" class=\"dataframe\">\n",
       "  <thead>\n",
       "    <tr style=\"text-align: right;\">\n",
       "      <th></th>\n",
       "      <th>date</th>\n",
       "      <th>group</th>\n",
       "      <th>visitors</th>\n",
       "    </tr>\n",
       "  </thead>\n",
       "  <tbody>\n",
       "    <tr>\n",
       "      <th>0</th>\n",
       "      <td>2019-08-01</td>\n",
       "      <td>A</td>\n",
       "      <td>719</td>\n",
       "    </tr>\n",
       "    <tr>\n",
       "      <th>1</th>\n",
       "      <td>2019-08-02</td>\n",
       "      <td>A</td>\n",
       "      <td>619</td>\n",
       "    </tr>\n",
       "    <tr>\n",
       "      <th>2</th>\n",
       "      <td>2019-08-03</td>\n",
       "      <td>A</td>\n",
       "      <td>507</td>\n",
       "    </tr>\n",
       "    <tr>\n",
       "      <th>3</th>\n",
       "      <td>2019-08-04</td>\n",
       "      <td>A</td>\n",
       "      <td>717</td>\n",
       "    </tr>\n",
       "    <tr>\n",
       "      <th>4</th>\n",
       "      <td>2019-08-05</td>\n",
       "      <td>A</td>\n",
       "      <td>756</td>\n",
       "    </tr>\n",
       "    <tr>\n",
       "      <th>5</th>\n",
       "      <td>2019-08-06</td>\n",
       "      <td>A</td>\n",
       "      <td>667</td>\n",
       "    </tr>\n",
       "    <tr>\n",
       "      <th>6</th>\n",
       "      <td>2019-08-07</td>\n",
       "      <td>A</td>\n",
       "      <td>644</td>\n",
       "    </tr>\n",
       "    <tr>\n",
       "      <th>7</th>\n",
       "      <td>2019-08-08</td>\n",
       "      <td>A</td>\n",
       "      <td>610</td>\n",
       "    </tr>\n",
       "    <tr>\n",
       "      <th>8</th>\n",
       "      <td>2019-08-09</td>\n",
       "      <td>A</td>\n",
       "      <td>617</td>\n",
       "    </tr>\n",
       "    <tr>\n",
       "      <th>9</th>\n",
       "      <td>2019-08-10</td>\n",
       "      <td>A</td>\n",
       "      <td>406</td>\n",
       "    </tr>\n",
       "  </tbody>\n",
       "</table>\n",
       "</div>"
      ],
      "text/plain": [
       "         date group  visitors\n",
       "0  2019-08-01     A       719\n",
       "1  2019-08-02     A       619\n",
       "2  2019-08-03     A       507\n",
       "3  2019-08-04     A       717\n",
       "4  2019-08-05     A       756\n",
       "5  2019-08-06     A       667\n",
       "6  2019-08-07     A       644\n",
       "7  2019-08-08     A       610\n",
       "8  2019-08-09     A       617\n",
       "9  2019-08-10     A       406"
      ]
     },
     "execution_count": 10,
     "metadata": {},
     "output_type": "execute_result"
    }
   ],
   "source": [
    "try:\n",
    "    visitors = pd.read_csv('//Users/Elena/Desktop/visitors.csv')\n",
    "except:\n",
    "    visitors = pd.read_csv('/Documents/visitors.csv')\n",
    "    \n",
    "visitors.head(10)"
   ]
  },
  {
   "cell_type": "markdown",
   "metadata": {},
   "source": [
    "Так не выгрузим таблице с посетителями 'visitors'."
   ]
  },
  {
   "cell_type": "code",
   "execution_count": 11,
   "metadata": {},
   "outputs": [
    {
     "name": "stdout",
     "output_type": "stream",
     "text": [
      "<class 'pandas.core.frame.DataFrame'>\n",
      "RangeIndex: 62 entries, 0 to 61\n",
      "Data columns (total 3 columns):\n",
      " #   Column    Non-Null Count  Dtype \n",
      "---  ------    --------------  ----- \n",
      " 0   date      62 non-null     object\n",
      " 1   group     62 non-null     object\n",
      " 2   visitors  62 non-null     int64 \n",
      "dtypes: int64(1), object(2)\n",
      "memory usage: 1.6+ KB\n"
     ]
    }
   ],
   "source": [
    "visitors.info()"
   ]
  },
  {
   "cell_type": "markdown",
   "metadata": {},
   "source": [
    "Таблица состоит из 3 столбцов."
   ]
  },
  {
   "cell_type": "code",
   "execution_count": 12,
   "metadata": {},
   "outputs": [],
   "source": [
    "visitors['date'] = pd.to_datetime(visitors['date'], format = '%Y-%m-%d')"
   ]
  },
  {
   "cell_type": "markdown",
   "metadata": {},
   "source": [
    "Формат даты так же указан не верно. Изменю."
   ]
  },
  {
   "cell_type": "code",
   "execution_count": 13,
   "metadata": {},
   "outputs": [
    {
     "data": {
      "text/plain": [
       "0"
      ]
     },
     "execution_count": 13,
     "metadata": {},
     "output_type": "execute_result"
    }
   ],
   "source": [
    "hypothesis.duplicated().sum()"
   ]
  },
  {
   "cell_type": "code",
   "execution_count": 14,
   "metadata": {},
   "outputs": [
    {
     "data": {
      "text/plain": [
       "0"
      ]
     },
     "execution_count": 14,
     "metadata": {},
     "output_type": "execute_result"
    }
   ],
   "source": [
    "visitors.duplicated().sum()"
   ]
  },
  {
   "cell_type": "code",
   "execution_count": 15,
   "metadata": {},
   "outputs": [
    {
     "data": {
      "text/plain": [
       "0"
      ]
     },
     "execution_count": 15,
     "metadata": {},
     "output_type": "execute_result"
    }
   ],
   "source": [
    "orders.duplicated().sum()"
   ]
  },
  {
   "cell_type": "markdown",
   "metadata": {},
   "source": [
    "Проверила на наличие дубликатов, отсутствуют."
   ]
  },
  {
   "cell_type": "code",
   "execution_count": 16,
   "metadata": {},
   "outputs": [
    {
     "data": {
      "text/html": [
       "<div>\n",
       "<style scoped>\n",
       "    .dataframe tbody tr th:only-of-type {\n",
       "        vertical-align: middle;\n",
       "    }\n",
       "\n",
       "    .dataframe tbody tr th {\n",
       "        vertical-align: top;\n",
       "    }\n",
       "\n",
       "    .dataframe thead th {\n",
       "        text-align: right;\n",
       "    }\n",
       "</style>\n",
       "<table border=\"1\" class=\"dataframe\">\n",
       "  <thead>\n",
       "    <tr style=\"text-align: right;\">\n",
       "      <th></th>\n",
       "      <th>group</th>\n",
       "    </tr>\n",
       "    <tr>\n",
       "      <th>group</th>\n",
       "      <th></th>\n",
       "    </tr>\n",
       "  </thead>\n",
       "  <tbody>\n",
       "    <tr>\n",
       "      <th>A</th>\n",
       "      <td>557</td>\n",
       "    </tr>\n",
       "    <tr>\n",
       "      <th>B</th>\n",
       "      <td>640</td>\n",
       "    </tr>\n",
       "  </tbody>\n",
       "</table>\n",
       "</div>"
      ],
      "text/plain": [
       "       group\n",
       "group       \n",
       "A        557\n",
       "B        640"
      ]
     },
     "execution_count": 16,
     "metadata": {},
     "output_type": "execute_result"
    }
   ],
   "source": [
    "orders.groupby('group').agg({'group': 'count'})"
   ]
  },
  {
   "cell_type": "markdown",
   "metadata": {},
   "source": [
    "В группу А попало 557 респандентов, в группу В чуть больше - 640."
   ]
  },
  {
   "cell_type": "code",
   "execution_count": 17,
   "metadata": {},
   "outputs": [
    {
     "data": {
      "text/plain": [
       "Timestamp('2019-08-31 00:00:00')"
      ]
     },
     "execution_count": 17,
     "metadata": {},
     "output_type": "execute_result"
    }
   ],
   "source": [
    "visitors['date'].max()"
   ]
  },
  {
   "cell_type": "code",
   "execution_count": 18,
   "metadata": {},
   "outputs": [
    {
     "data": {
      "text/plain": [
       "Timestamp('2019-08-01 00:00:00')"
      ]
     },
     "execution_count": 18,
     "metadata": {},
     "output_type": "execute_result"
    }
   ],
   "source": [
    "visitors['date'].min()"
   ]
  },
  {
   "cell_type": "markdown",
   "metadata": {},
   "source": [
    "Дата начала теста 01 августа 2019 года. Окончания - 31 августа 2019 года. Всего месяц. Это очень мало для тестирования гипотез."
   ]
  },
  {
   "cell_type": "code",
   "execution_count": 19,
   "metadata": {},
   "outputs": [
    {
     "data": {
      "text/html": [
       "<div>\n",
       "<style scoped>\n",
       "    .dataframe tbody tr th:only-of-type {\n",
       "        vertical-align: middle;\n",
       "    }\n",
       "\n",
       "    .dataframe tbody tr th {\n",
       "        vertical-align: top;\n",
       "    }\n",
       "\n",
       "    .dataframe thead th {\n",
       "        text-align: right;\n",
       "    }\n",
       "</style>\n",
       "<table border=\"1\" class=\"dataframe\">\n",
       "  <thead>\n",
       "    <tr style=\"text-align: right;\">\n",
       "      <th></th>\n",
       "      <th>reach</th>\n",
       "      <th>impact</th>\n",
       "      <th>confidence</th>\n",
       "      <th>efforts</th>\n",
       "      <th>ICE</th>\n",
       "      <th>RICE</th>\n",
       "    </tr>\n",
       "  </thead>\n",
       "  <tbody>\n",
       "    <tr>\n",
       "      <th>count</th>\n",
       "      <td>9.000000</td>\n",
       "      <td>9.000000</td>\n",
       "      <td>9.000000</td>\n",
       "      <td>9.000000</td>\n",
       "      <td>9.000000</td>\n",
       "      <td>9.000000</td>\n",
       "    </tr>\n",
       "    <tr>\n",
       "      <th>mean</th>\n",
       "      <td>4.777778</td>\n",
       "      <td>4.777778</td>\n",
       "      <td>5.555556</td>\n",
       "      <td>4.888889</td>\n",
       "      <td>6.797778</td>\n",
       "      <td>31.577778</td>\n",
       "    </tr>\n",
       "    <tr>\n",
       "      <th>std</th>\n",
       "      <td>3.153481</td>\n",
       "      <td>3.192874</td>\n",
       "      <td>3.045944</td>\n",
       "      <td>2.803767</td>\n",
       "      <td>5.817046</td>\n",
       "      <td>35.864390</td>\n",
       "    </tr>\n",
       "    <tr>\n",
       "      <th>min</th>\n",
       "      <td>1.000000</td>\n",
       "      <td>1.000000</td>\n",
       "      <td>1.000000</td>\n",
       "      <td>1.000000</td>\n",
       "      <td>1.000000</td>\n",
       "      <td>3.000000</td>\n",
       "    </tr>\n",
       "    <tr>\n",
       "      <th>25%</th>\n",
       "      <td>3.000000</td>\n",
       "      <td>3.000000</td>\n",
       "      <td>3.000000</td>\n",
       "      <td>3.000000</td>\n",
       "      <td>1.330000</td>\n",
       "      <td>4.000000</td>\n",
       "    </tr>\n",
       "    <tr>\n",
       "      <th>50%</th>\n",
       "      <td>3.000000</td>\n",
       "      <td>3.000000</td>\n",
       "      <td>7.000000</td>\n",
       "      <td>5.000000</td>\n",
       "      <td>7.000000</td>\n",
       "      <td>16.200000</td>\n",
       "    </tr>\n",
       "    <tr>\n",
       "      <th>75%</th>\n",
       "      <td>8.000000</td>\n",
       "      <td>7.000000</td>\n",
       "      <td>8.000000</td>\n",
       "      <td>6.000000</td>\n",
       "      <td>11.200000</td>\n",
       "      <td>40.000000</td>\n",
       "    </tr>\n",
       "    <tr>\n",
       "      <th>max</th>\n",
       "      <td>10.000000</td>\n",
       "      <td>10.000000</td>\n",
       "      <td>9.000000</td>\n",
       "      <td>10.000000</td>\n",
       "      <td>16.200000</td>\n",
       "      <td>112.000000</td>\n",
       "    </tr>\n",
       "  </tbody>\n",
       "</table>\n",
       "</div>"
      ],
      "text/plain": [
       "           reach     impact  confidence    efforts        ICE        RICE\n",
       "count   9.000000   9.000000    9.000000   9.000000   9.000000    9.000000\n",
       "mean    4.777778   4.777778    5.555556   4.888889   6.797778   31.577778\n",
       "std     3.153481   3.192874    3.045944   2.803767   5.817046   35.864390\n",
       "min     1.000000   1.000000    1.000000   1.000000   1.000000    3.000000\n",
       "25%     3.000000   3.000000    3.000000   3.000000   1.330000    4.000000\n",
       "50%     3.000000   3.000000    7.000000   5.000000   7.000000   16.200000\n",
       "75%     8.000000   7.000000    8.000000   6.000000  11.200000   40.000000\n",
       "max    10.000000  10.000000    9.000000  10.000000  16.200000  112.000000"
      ]
     },
     "execution_count": 19,
     "metadata": {},
     "output_type": "execute_result"
    }
   ],
   "source": [
    "hypothesis.describe()"
   ]
  },
  {
   "cell_type": "markdown",
   "metadata": {},
   "source": [
    "Вывела описательную статистику по датафрейму с гипотезами. 1. Cреднее значение показателя 'reach' (охват) около 4,7 из 10. Не очень то большой. 2. Cреднее значение показателя 'impact' (оценка вличния изменнений на пользователей) около 4,7 из 10. Так же не сильно высоко оценивается результат изменений. 3. Cреднее значение показателя 'confidence' (уверенность в правильности оценки всех параметров) около 4,8 из 9. Уверенности в измеримости показателей нет. 4. Cреднее значение показателя 'efforts' (затраты, сложность проверки гипотез) около 4,8 из 10. Что чем меньше этот показатель, тем выше приоритет у той или иной гипотезы. Могу предполодить, что данный показатель достаточно высокий."
   ]
  },
  {
   "cell_type": "code",
   "execution_count": 20,
   "metadata": {},
   "outputs": [
    {
     "data": {
      "text/html": [
       "<div>\n",
       "<style scoped>\n",
       "    .dataframe tbody tr th:only-of-type {\n",
       "        vertical-align: middle;\n",
       "    }\n",
       "\n",
       "    .dataframe tbody tr th {\n",
       "        vertical-align: top;\n",
       "    }\n",
       "\n",
       "    .dataframe thead th {\n",
       "        text-align: right;\n",
       "    }\n",
       "</style>\n",
       "<table border=\"1\" class=\"dataframe\">\n",
       "  <thead>\n",
       "    <tr style=\"text-align: right;\">\n",
       "      <th></th>\n",
       "      <th>visitors</th>\n",
       "    </tr>\n",
       "  </thead>\n",
       "  <tbody>\n",
       "    <tr>\n",
       "      <th>count</th>\n",
       "      <td>62.000000</td>\n",
       "    </tr>\n",
       "    <tr>\n",
       "      <th>mean</th>\n",
       "      <td>607.290323</td>\n",
       "    </tr>\n",
       "    <tr>\n",
       "      <th>std</th>\n",
       "      <td>114.400560</td>\n",
       "    </tr>\n",
       "    <tr>\n",
       "      <th>min</th>\n",
       "      <td>361.000000</td>\n",
       "    </tr>\n",
       "    <tr>\n",
       "      <th>25%</th>\n",
       "      <td>534.000000</td>\n",
       "    </tr>\n",
       "    <tr>\n",
       "      <th>50%</th>\n",
       "      <td>624.500000</td>\n",
       "    </tr>\n",
       "    <tr>\n",
       "      <th>75%</th>\n",
       "      <td>710.500000</td>\n",
       "    </tr>\n",
       "    <tr>\n",
       "      <th>max</th>\n",
       "      <td>770.000000</td>\n",
       "    </tr>\n",
       "  </tbody>\n",
       "</table>\n",
       "</div>"
      ],
      "text/plain": [
       "         visitors\n",
       "count   62.000000\n",
       "mean   607.290323\n",
       "std    114.400560\n",
       "min    361.000000\n",
       "25%    534.000000\n",
       "50%    624.500000\n",
       "75%    710.500000\n",
       "max    770.000000"
      ]
     },
     "execution_count": 20,
     "metadata": {},
     "output_type": "execute_result"
    }
   ],
   "source": [
    "visitors.describe()"
   ]
  },
  {
   "cell_type": "markdown",
   "metadata": {},
   "source": [
    "Вывела описательную статистику по датафрейму с посетителями. Максимальное количество пользователей в день 770 человек. В среднем 607 посещений."
   ]
  },
  {
   "cell_type": "code",
   "execution_count": 21,
   "metadata": {},
   "outputs": [
    {
     "data": {
      "text/html": [
       "<div>\n",
       "<style scoped>\n",
       "    .dataframe tbody tr th:only-of-type {\n",
       "        vertical-align: middle;\n",
       "    }\n",
       "\n",
       "    .dataframe tbody tr th {\n",
       "        vertical-align: top;\n",
       "    }\n",
       "\n",
       "    .dataframe thead th {\n",
       "        text-align: right;\n",
       "    }\n",
       "</style>\n",
       "<table border=\"1\" class=\"dataframe\">\n",
       "  <thead>\n",
       "    <tr style=\"text-align: right;\">\n",
       "      <th></th>\n",
       "      <th>transactionId</th>\n",
       "      <th>visitorId</th>\n",
       "      <th>revenue</th>\n",
       "    </tr>\n",
       "  </thead>\n",
       "  <tbody>\n",
       "    <tr>\n",
       "      <th>count</th>\n",
       "      <td>1,197.0</td>\n",
       "      <td>1,197.0</td>\n",
       "      <td>1,197.0</td>\n",
       "    </tr>\n",
       "    <tr>\n",
       "      <th>mean</th>\n",
       "      <td>2,155,621,385.5</td>\n",
       "      <td>2,165,960,143.1</td>\n",
       "      <td>8,348.0</td>\n",
       "    </tr>\n",
       "    <tr>\n",
       "      <th>std</th>\n",
       "      <td>1,229,084,904.8</td>\n",
       "      <td>1,236,014,192.1</td>\n",
       "      <td>39,191.1</td>\n",
       "    </tr>\n",
       "    <tr>\n",
       "      <th>min</th>\n",
       "      <td>1,062,393.0</td>\n",
       "      <td>5,114,589.0</td>\n",
       "      <td>50.0</td>\n",
       "    </tr>\n",
       "    <tr>\n",
       "      <th>25%</th>\n",
       "      <td>1,166,775,572.0</td>\n",
       "      <td>1,111,826,046.0</td>\n",
       "      <td>1,220.0</td>\n",
       "    </tr>\n",
       "    <tr>\n",
       "      <th>50%</th>\n",
       "      <td>2,145,193,898.0</td>\n",
       "      <td>2,217,984,702.0</td>\n",
       "      <td>2,978.0</td>\n",
       "    </tr>\n",
       "    <tr>\n",
       "      <th>75%</th>\n",
       "      <td>3,237,740,112.0</td>\n",
       "      <td>3,177,606,451.0</td>\n",
       "      <td>8,290.0</td>\n",
       "    </tr>\n",
       "    <tr>\n",
       "      <th>max</th>\n",
       "      <td>4,293,855,558.0</td>\n",
       "      <td>4,283,872,382.0</td>\n",
       "      <td>1,294,500.0</td>\n",
       "    </tr>\n",
       "  </tbody>\n",
       "</table>\n",
       "</div>"
      ],
      "text/plain": [
       "        transactionId       visitorId     revenue\n",
       "count         1,197.0         1,197.0     1,197.0\n",
       "mean  2,155,621,385.5 2,165,960,143.1     8,348.0\n",
       "std   1,229,084,904.8 1,236,014,192.1    39,191.1\n",
       "min       1,062,393.0     5,114,589.0        50.0\n",
       "25%   1,166,775,572.0 1,111,826,046.0     1,220.0\n",
       "50%   2,145,193,898.0 2,217,984,702.0     2,978.0\n",
       "75%   3,237,740,112.0 3,177,606,451.0     8,290.0\n",
       "max   4,293,855,558.0 4,283,872,382.0 1,294,500.0"
      ]
     },
     "execution_count": 21,
     "metadata": {},
     "output_type": "execute_result"
    }
   ],
   "source": [
    "pd.options.display.float_format = '{:,.1f}'.format\n",
    "orders.describe()"
   ]
  },
  {
   "cell_type": "markdown",
   "metadata": {},
   "source": [
    "Максимальная выручка в день зафиксирована на отметке 1294500 рублей. В среднем люди тратили 8348 рубля."
   ]
  },
  {
   "cell_type": "code",
   "execution_count": 22,
   "metadata": {},
   "outputs": [
    {
     "name": "stdout",
     "output_type": "stream",
     "text": [
      "        date group  orders  buyers  revenue  visitors\n",
      "0 2019-08-01     A      24      20   148579       719\n",
      "1 2019-08-01     B      21      20   101217       713\n",
      "2 2019-08-02     A      44      38   242401      1338\n",
      "3 2019-08-02     B      45      43   266748      1294\n",
      "4 2019-08-03     A      68      62   354874      1845\n"
     ]
    }
   ],
   "source": [
    "datesGroups = orders[['date','group']].drop_duplicates()\n",
    "\n",
    "ordersAggregated = datesGroups.apply(lambda x: orders[np.logical_and(orders['date'] <= x['date'], orders['group'] == x['group'])]\\\n",
    ".agg({'date' : 'max', 'group' : 'max', 'transactionId' : 'nunique', 'visitorId' : 'nunique', 'revenue' : 'sum'}), axis=1).sort_values(by=['date','group'])\n",
    "\n",
    "visitorsAggregated = datesGroups.apply(lambda x: visitors[np.logical_and(visitors['date'] <= x['date'], visitors['group'] == x['group'])].agg({'date' : 'max', 'group' : 'max', 'visitors' : 'sum'}), axis=1).sort_values(by=['date','group'])\n",
    "\n",
    "cumulativeData = ordersAggregated.merge(visitorsAggregated, left_on=['date', 'group'], right_on=['date', 'group'])\n",
    "cumulativeData.columns = ['date', 'group', 'orders', 'buyers', 'revenue', 'visitors']\n",
    "\n",
    "print(cumulativeData.head(5))\n"
   ]
  },
  {
   "cell_type": "markdown",
   "metadata": {},
   "source": [
    "Создала датафрейм datesGroups с уникальными парами значений 'date' и 'group', таблицы orders. Избавьлась от дубликатов методом drop_duplicates().\n",
    "\n",
    "Соберу агрегированные кумулятивные данные о заказах по дням данные в несколько действий. \n",
    "\n",
    "1. Объявите переменную 'ordersAggregated', содержащую:\n",
    "\n",
    "* дату;\n",
    "* группу A/B-теста;\n",
    "* число уникальных заказов в группе теста по указанную дату включительно;\n",
    "* число уникальных пользователей, совершивших хотя бы 1 заказ в группе теста по указанную дату включительно;\n",
    "* суммарную выручку заказов в группе теста по указанную дату включительно.\n",
    "\n",
    "2. Объявила переменную 'visitorsAggregated', содержащую:\n",
    "\n",
    "* дату;\n",
    "* группу A/B-теста;\n",
    "* количество уникальных посетителей в группе теста по указанную дату включительно.\n",
    "\n",
    "3. Отсортирую переменные ordersAggregated и visitorsAggregated по столбцам 'date', 'group' в указанном порядке.\n",
    "\n",
    "4. Определю переменную cumulativeData, объединив ordersAggregated и visitorsAggregated по колонкам 'date', 'group' методом merge().\n",
    "\n",
    "5. Присвою столбцам cumulativeData названия ['date', 'group', 'orders', 'buyers', 'revenue', 'visitors'].\n",
    "\n",
    "6. Выведите первые 5 строк переменной cumulativeData."
   ]
  },
  {
   "cell_type": "code",
   "execution_count": 23,
   "metadata": {},
   "outputs": [
    {
     "data": {
      "image/png": "[encoded data removed]",
      "text/plain": [
       "<Figure size 1200x800 with 1 Axes>"
      ]
     },
     "metadata": {},
     "output_type": "display_data"
    }
   ],
   "source": [
    "plt.figure(figsize=(12,8))\n",
    "\n",
    "cumulativeRevenueA = cumulativeData[cumulativeData['group']=='A'][['date','revenue', 'orders']]\n",
    "\n",
    "\n",
    "cumulativeRevenueB = cumulativeData[cumulativeData['group']=='B'][['date','revenue', 'orders']]\n",
    "\n",
    "\n",
    "plt.plot(cumulativeRevenueA['date'], cumulativeRevenueA['revenue'], label='A')\n",
    "\n",
    "\n",
    "plt.plot(cumulativeRevenueB['date'], cumulativeRevenueB['revenue'], label='B')\n",
    "\n",
    "plt.legend(['Группа А', 'Группа B']) \n",
    "plt.xlabel('Дата')\n",
    "plt.ylabel('Выручка') \n",
    "plt.title('Кумулятивная выручка по дням и группам')\n",
    "plt.show() "
   ]
  },
  {
   "cell_type": "markdown",
   "metadata": {},
   "source": [
    "Построю графики кумулятивной выручки по дням по группам, предварительно объявив переменные cumulativeRevenueA и cumulativeRevenueB, в которых сохраню данные о датах, выручке и числе заказов в группах A и B.\n",
    "Из графика видно, что: \n",
    "* Показатель выручки группы В выше весь период исследования.\n",
    "* Так же стоит отметить заметный прирост выручки 21.08.2019. Возможно, в этот день было куплен большой объем товаров, либо товары (товар) с высокой ценой. Так же можно предполоить, что товары, продаваемые в данном интернет-магазине имеют определённую сезонную специфику (например, обогреватели или вентиляторы)."
   ]
  },
  {
   "cell_type": "code",
   "execution_count": 24,
   "metadata": {},
   "outputs": [
    {
     "data": {
      "image/png": "[encoded data removed]",
      "text/plain": [
       "<Figure size 1200x800 with 1 Axes>"
      ]
     },
     "metadata": {},
     "output_type": "display_data"
    }
   ],
   "source": [
    "plt.figure(figsize=(12,8))\n",
    "plt.plot(cumulativeRevenueA['date'], cumulativeRevenueA['revenue']/cumulativeRevenueA['orders'], label='A')\n",
    "plt.plot(cumulativeRevenueB['date'], cumulativeRevenueB['revenue']/cumulativeRevenueB['orders'], label='B')\n",
    "plt.legend(['Группа А', 'Группа B']) \n",
    "plt.xlabel('Дата')\n",
    "plt.ylabel('Средний чек') \n",
    "plt.title('Кумулятивный средний чек по дням и группам')\n",
    "plt.show(); "
   ]
  },
  {
   "cell_type": "markdown",
   "metadata": {},
   "source": [
    "Построю график кумулятивного среднего чека. Графики групп А и В ведут себя не однородно. \n",
    "* Размер среднего чека группы А падает вплодь до 05.08.2019, далее начинается постепенный прирост.\n",
    "* После 17.02.2019 наблюдается резкий прирост значения среднего чека в группе В. Как уже говорила ранее, причин может быть несколько: покупались высокомаржинальны товары, увличилось количество товаров в чеке. "
   ]
  },
  {
   "cell_type": "code",
   "execution_count": 25,
   "metadata": {},
   "outputs": [
    {
     "data": {
      "image/png": "[encoded data removed]",
      "text/plain": [
       "<Figure size 1200x800 with 1 Axes>"
      ]
     },
     "metadata": {},
     "output_type": "display_data"
    }
   ],
   "source": [
    "plt.figure(figsize=(12,8))\n",
    "\n",
    "mergedCumulativeRevenue = cumulativeRevenueA.merge(cumulativeRevenueB, left_on='date', right_on='date', how='left', suffixes=['A', 'B'])\n",
    "\n",
    "plt.plot(mergedCumulativeRevenue['date'], (mergedCumulativeRevenue['revenueB']/mergedCumulativeRevenue['ordersB'])/(mergedCumulativeRevenue['revenueA']/mergedCumulativeRevenue['ordersA'])-1)\n",
    "\n",
    "plt.axhline(y=0, color='black', linestyle='--')\n",
    "\n",
    "plt.xlabel('Дата')\n",
    "plt.ylabel('Отношение') \n",
    "plt.title('Относительное изменение кумулятивного среднего чека группы B к группе A')\n",
    "plt.show(); "
   ]
  },
  {
   "cell_type": "markdown",
   "metadata": {},
   "source": [
    "Рассмотрим график относительного изменения кумулятивного среднего количества заказов на посетителя группы B к группе A. В нескольких точках график различия между сегментами резко «скачет». Где-то точно спрятаны крупные заказы и выбросы."
   ]
  },
  {
   "cell_type": "code",
   "execution_count": 26,
   "metadata": {},
   "outputs": [
    {
     "data": {
      "image/png": "[encoded data removed]",
      "text/plain": [
       "<Figure size 1200x800 with 1 Axes>"
      ]
     },
     "metadata": {},
     "output_type": "display_data"
    }
   ],
   "source": [
    "plt.figure(figsize=(12,8))\n",
    "\n",
    "cumulativeData['conversion'] = cumulativeData['orders']/cumulativeData['visitors']\n",
    "\n",
    "cumulativeDataA = cumulativeData[cumulativeData['group']=='A']\n",
    "\n",
    "cumulativeDataB = cumulativeData[cumulativeData['group']=='B']\n",
    "\n",
    "plt.plot(cumulativeDataA['date'], cumulativeDataA['conversion'], label='A')\n",
    "plt.plot(cumulativeDataB['date'], cumulativeDataB['conversion'], label='B')\n",
    "plt.legend(['Группа А', 'Группа B'])\n",
    "plt.xlabel('Дата')\n",
    "plt.ylabel('Конверсия') \n",
    "plt.title('Кумулятивная конверсии по группам')\n",
    "plt.show();"
   ]
  },
  {
   "cell_type": "markdown",
   "metadata": {},
   "source": [
    "Построю график кумулятивного среднего количества заказов на посетителя по группам.\n",
    "Кумулятивные конверсии по группам А и В в начале исследования ведут себя не однородно, наблюдаются резкие скачки и падения. Далее (после 09.08.2019) чётко понятно, что комулятивная конверсия группы В значительно выше конверсии группы А: изменения влияют на поведение потребителей в лучшую сторону - количество заказов увеличивается."
   ]
  },
  {
   "cell_type": "code",
   "execution_count": 27,
   "metadata": {},
   "outputs": [
    {
     "data": {
      "image/png": "[encoded data removed]",
      "text/plain": [
       "<Figure size 1200x800 with 1 Axes>"
      ]
     },
     "metadata": {},
     "output_type": "display_data"
    }
   ],
   "source": [
    "plt.figure(figsize=(12,8))\n",
    "\n",
    "mergedCumulativeConversions = cumulativeDataA[['date','conversion']].merge(cumulativeDataB[['date','conversion']], left_on='date', right_on='date', how='left', suffixes=['A', 'B'])\n",
    "\n",
    "plt.plot(mergedCumulativeConversions['date'], mergedCumulativeConversions['conversionB']/mergedCumulativeConversions['conversionA']-1, label=\"Относительный прирост конверсии группы B относительно группы A\")\n",
    "plt.legend()\n",
    "\n",
    "plt.axhline(y=0, color='black', linestyle='--')\n",
    "plt.axhline(y= 0.1, color='grey', linestyle='--')\n",
    "\n",
    "plt.ylabel('Конверсия') \n",
    "plt.xlabel('Дата') \n",
    "plt.title('Относительный прирост конверсии группы В к группе А') \n",
    "plt.show();"
   ]
  },
  {
   "cell_type": "markdown",
   "metadata": {},
   "source": [
    "Построю график относительного изменения кумулятивного среднего количества заказов на посетителя группы B к группе A.\n",
    "В начале теста группа B значительно проигрывает группе A. Далее наблюдается резкий скачок до 0,05 и опять резкое падение практически до - 0,1. Позже конверсия уверенно начинает расти и перерастает отметку в 0,2."
   ]
  },
  {
   "cell_type": "code",
   "execution_count": 28,
   "metadata": {},
   "outputs": [
    {
     "name": "stdout",
     "output_type": "stream",
     "text": [
      "       visitorId  orders\n",
      "1023  4256040402      11\n",
      "591   2458001652      11\n",
      "569   2378935119       9\n",
      "487   2038680547       8\n",
      "44     199603092       5\n",
      "744   3062433592       5\n",
      "55     237748145       5\n",
      "917   3803269165       5\n",
      "299   1230306981       5\n",
      "897   3717692402       5\n"
     ]
    },
    {
     "data": {
      "image/png": "[encoded data removed]",
      "text/plain": [
       "<Figure size 1200x800 with 1 Axes>"
      ]
     },
     "metadata": {},
     "output_type": "display_data"
    }
   ],
   "source": [
    "plt.figure(figsize=(12,8)) \n",
    "ordersByUsers = (\n",
    "    orders.groupby('visitorId', as_index=False)\n",
    "    .agg({'transactionId': 'nunique'})\n",
    ")\n",
    "ordersByUsers.columns = ['visitorId', 'orders']\n",
    "\n",
    "print(ordersByUsers.sort_values(by='orders', ascending=False).head(10))\n",
    "\n",
    "x_values = pd.Series(range(0, len(ordersByUsers)))\n",
    "\n",
    "plt.scatter(x_values, ordersByUsers['orders'])\n",
    "plt.ylabel('Количество заказов') \n",
    "plt.xlabel('Количество пользователей') \n",
    "plt.title('Распределение количества заказов по пользователям') \n",
    "plt.show(); "
   ]
  },
  {
   "cell_type": "markdown",
   "metadata": {},
   "source": [
    "Построю точечный график количества заказов по пользователям.\n",
    "Большая часть пользователей совершают по 1-2 заказа. Так же достаточно много пользователей совершивших 3 заказа за период наблюдения. Есть группа активных пользователей, совершивших более 10 заказов. Но, в общей массе, это аномальные значения."
   ]
  },
  {
   "cell_type": "code",
   "execution_count": 29,
   "metadata": {},
   "outputs": [
    {
     "name": "stdout",
     "output_type": "stream",
     "text": [
      "       visitorId  orders\n",
      "1023  4256040402      11\n",
      "591   2458001652      11\n",
      "569   2378935119       9\n",
      "487   2038680547       8\n",
      "44     199603092       5\n",
      "744   3062433592       5\n",
      "55     237748145       5\n",
      "917   3803269165       5\n",
      "299   1230306981       5\n",
      "897   3717692402       5\n",
      "[2. 4.]\n"
     ]
    }
   ],
   "source": [
    "print(ordersByUsers.sort_values(by='orders', ascending=False).head(10))\n",
    "print(np.percentile(ordersByUsers['orders'], [95, 99]))"
   ]
  },
  {
   "cell_type": "markdown",
   "metadata": {},
   "source": [
    "Посчитаю 95-й и 99-й перцентили количества заказов на пользователя. \n",
    "Границей для аномальный пользователей в данном случае будет 3 заказа, т.к. исходя из полученных значений, 95% пользователей сделали не более 2-х заказов, и только 1% всех пользователей совершили 4 и более заказа."
   ]
  },
  {
   "cell_type": "code",
   "execution_count": 30,
   "metadata": {},
   "outputs": [
    {
     "data": {
      "image/png": "[encoded data removed]",
      "text/plain": [
       "<Figure size 1200x800 with 1 Axes>"
      ]
     },
     "metadata": {},
     "output_type": "display_data"
    }
   ],
   "source": [
    "plt.figure(figsize=(12,8))\n",
    "x_values = pd.Series(range(0, len(orders['revenue'])))\n",
    "plt.scatter(x_values, orders['revenue'])\n",
    "plt.ylabel('Стоимость заказов') \n",
    "plt.xlabel('Количество пользователей') \n",
    "plt.title('Стоимость заказов') \n",
    "plt.show(); "
   ]
  },
  {
   "cell_type": "markdown",
   "metadata": {},
   "source": [
    "Построю точечный график стоимостей заказов. На графике наглядно видно, что большая часть заказов не превышает 100 тыс. рублей. Установим это как максимальное значение для определения аномалий."
   ]
  },
  {
   "cell_type": "code",
   "execution_count": 31,
   "metadata": {},
   "outputs": [
    {
     "name": "stdout",
     "output_type": "stream",
     "text": [
      "[28000.  58233.2]\n"
     ]
    }
   ],
   "source": [
    "print(np.percentile(orders['revenue'], [95, 99]))"
   ]
  },
  {
   "cell_type": "markdown",
   "metadata": {},
   "source": [
    "Посчитаю 95-й и 99-й перцентили стоимости заказов. \n",
    "Основная часть пользователей (95%) сделали заказы не дороже 28 тыс. рублей. И только 1% пользователей заказали на 58 тысяч и выше. Границей для аномальных значений в данном случае будет 28 тыс. рублей."
   ]
  },
  {
   "cell_type": "code",
   "execution_count": 32,
   "metadata": {},
   "outputs": [
    {
     "name": "stdout",
     "output_type": "stream",
     "text": [
      "        date  ordersPerDateA  revenuePerDateA  ordersPerDateB  \\\n",
      "0 2019-08-01              24           148579              21   \n",
      "1 2019-08-02              20            93822              24   \n",
      "2 2019-08-03              24           112473              16   \n",
      "3 2019-08-04              16            70825              17   \n",
      "4 2019-08-05              25           124218              23   \n",
      "\n",
      "   revenuePerDateB  ordersCummulativeA  revenueCummulativeA  \\\n",
      "0           101217                  24               148579   \n",
      "1           165531                  44               242401   \n",
      "2           114248                  68               354874   \n",
      "3           108571                  84               425699   \n",
      "4            92428                 109               549917   \n",
      "\n",
      "   ordersCummulativeB  revenueCummulativeB  visitorsPerDateA  \\\n",
      "0                  21               101217               719   \n",
      "1                  45               266748               619   \n",
      "2                  61               380996               507   \n",
      "3                  78               489567               717   \n",
      "4                 101               581995               756   \n",
      "\n",
      "   visitorsPerDateB  visitorsCummulativeA  visitorsCummulativeB  \n",
      "0               713                   719                   713  \n",
      "1               581                  1338                  1294  \n",
      "2               509                  1845                  1803  \n",
      "3               770                  2562                  2573  \n",
      "4               707                  3318                  3280  \n"
     ]
    }
   ],
   "source": [
    "visitorsADaily = visitors[visitors['group'] == 'A'][['date', 'visitors']]\n",
    "visitorsADaily.columns = ['date', 'visitorsPerDateA']\n",
    "\n",
    "visitorsACummulative = visitorsADaily.apply(\n",
    "    lambda x: visitorsADaily[visitorsADaily['date'] <= x['date']].agg(\n",
    "        {'date': 'max', 'visitorsPerDateA': 'sum'}\n",
    "    ),\n",
    "    axis=1,\n",
    ")\n",
    "visitorsACummulative.columns = ['date', 'visitorsCummulativeA']\n",
    "\n",
    "visitorsBDaily = visitors[visitors['group'] == 'B'][['date', 'visitors']]\n",
    "visitorsBDaily.columns = ['date', 'visitorsPerDateB']\n",
    "\n",
    "visitorsBCummulative = visitorsBDaily.apply(\n",
    "    lambda x: visitorsBDaily[visitorsBDaily['date'] <= x['date']].agg(\n",
    "        {'date': 'max', 'visitorsPerDateB': 'sum'}\n",
    "    ),\n",
    "    axis=1,\n",
    ")\n",
    "visitorsBCummulative.columns = ['date', 'visitorsCummulativeB']\n",
    "\n",
    "ordersADaily = (\n",
    "    orders[orders['group'] == 'A'][['date', 'transactionId', 'visitorId', 'revenue']]\n",
    "    .groupby('date', as_index=False)\n",
    "    .agg({'transactionId': pd.Series.nunique, 'revenue': 'sum'})\n",
    ")\n",
    "ordersADaily.columns = ['date', 'ordersPerDateA', 'revenuePerDateA']\n",
    "\n",
    "ordersACummulative = ordersADaily.apply(\n",
    "    lambda x: ordersADaily[ordersADaily['date'] <= x['date']].agg(\n",
    "        {'date': 'max', 'ordersPerDateA': 'sum', 'revenuePerDateA': 'sum'}\n",
    "    ),\n",
    "    axis=1,\n",
    ").sort_values(by=['date'])\n",
    "ordersACummulative.columns = [\n",
    "    'date',\n",
    "    'ordersCummulativeA',\n",
    "    'revenueCummulativeA',\n",
    "]\n",
    "\n",
    "ordersBDaily = (\n",
    "    orders[orders['group'] == 'B'][['date', 'transactionId', 'visitorId', 'revenue']]\n",
    "    .groupby('date', as_index=False)\n",
    "    .agg({'transactionId': pd.Series.nunique, 'revenue': 'sum'})\n",
    ")\n",
    "ordersBDaily.columns = ['date', 'ordersPerDateB', 'revenuePerDateB']\n",
    "\n",
    "ordersBCummulative = ordersBDaily.apply(\n",
    "    lambda x: ordersBDaily[ordersBDaily['date'] <= x['date']].agg(\n",
    "        {'date': 'max', 'ordersPerDateB': 'sum', 'revenuePerDateB': 'sum'}\n",
    "    ),\n",
    "    axis=1,\n",
    ").sort_values(by=['date'])\n",
    "ordersBCummulative.columns = [\n",
    "    'date',\n",
    "    'ordersCummulativeB',\n",
    "    'revenueCummulativeB',\n",
    "]\n",
    "\n",
    "data = (\n",
    "    ordersADaily.merge(\n",
    "        ordersBDaily, left_on='date', right_on='date', how='left'\n",
    "    )\n",
    "    .merge(ordersACummulative, left_on='date', right_on='date', how='left')\n",
    "    .merge(ordersBCummulative, left_on='date', right_on='date', how='left')\n",
    "    .merge(visitorsADaily, left_on='date', right_on='date', how='left')\n",
    "    .merge(visitorsBDaily, left_on='date', right_on='date', how='left')\n",
    "    .merge(visitorsACummulative, left_on='date', right_on='date', how='left')\n",
    "    .merge(visitorsBCummulative, left_on='date', right_on='date', how='left')\n",
    ")\n",
    "\n",
    "print(data.head(5))\n",
    "\n",
    "ordersByUsersA = (\n",
    "    orders[orders['group'] == 'A']\n",
    "    .groupby('visitorId', as_index=False)\n",
    "    .agg({'transactionId': pd.Series.nunique})\n",
    ")\n",
    "ordersByUsersA.columns = ['visitorId', 'orders']\n",
    "\n",
    "ordersByUsersB = (\n",
    "    orders[orders['group'] == 'B']\n",
    "    .groupby('visitorId', as_index=False)\n",
    "    .agg({'transactionId': pd.Series.nunique})\n",
    ")\n",
    "ordersByUsersB.columns = ['visitorId', 'orders']\n",
    " \n",
    "pd.Series(0, index=np.arange(data['visitorsPerDateA'].sum() - len(ordersByUsersA['orders'])), name='orders')\n",
    "\n",
    "[ordersByUsersA['orders'],pd.Series(0, index=np.arange(data['visitorsPerDateA'].sum() - len(ordersByUsersA['orders'])), name='orders')]\n",
    "\n",
    "sampleA = pd.concat([ordersByUsersA['orders'],pd.Series(0, index=np.arange(data['visitorsPerDateA'].sum() - len(ordersByUsersA['orders'])), name='orders')],axis=0)\n",
    "\n",
    "sampleB = pd.concat([ordersByUsersB['orders'],pd.Series(0, index=np.arange(data['visitorsPerDateB'].sum() - len(ordersByUsersB['orders'])), name='orders')],axis=0)\n",
    "\n",
    "ordersByUsersA = (\n",
    "    orders[orders['group'] == 'A']\n",
    "    .groupby('visitorId', as_index=False)\n",
    "    .agg({'transactionId': pd.Series.nunique})\n",
    ")\n",
    "ordersByUsersA.columns = ['userId', 'orders']\n",
    "\n",
    "ordersByUsersB = (\n",
    "    orders[orders['group'] == 'B']\n",
    "    .groupby('visitorId', as_index=False)\n",
    "    .agg({'transactionId': pd.Series.nunique})\n",
    ")\n",
    "ordersByUsersB.columns = ['visitorId', 'orders']\n",
    "\n",
    "sampleA = pd.concat(\n",
    "    [\n",
    "        ordersByUsersA['orders'],\n",
    "        pd.Series(\n",
    "            0,\n",
    "            index=np.arange(\n",
    "                data['visitorsPerDateA'].sum() - len(ordersByUsersA['orders'])\n",
    "            ),\n",
    "            name='orders',\n",
    "        ),\n",
    "    ],\n",
    "    axis=0,\n",
    ")\n",
    "\n",
    "sampleB = pd.concat(\n",
    "    [\n",
    "        ordersByUsersB['orders'],\n",
    "        pd.Series(\n",
    "            0,\n",
    "            index=np.arange(\n",
    "                data['visitorsPerDateB'].sum() - len(ordersByUsersB['orders'])\n",
    "            ),\n",
    "            name='orders',\n",
    "        ),\n",
    "    ],\n",
    "    axis=0,\n",
    ")"
   ]
  },
  {
   "cell_type": "code",
   "execution_count": 33,
   "metadata": {},
   "outputs": [
    {
     "name": "stdout",
     "output_type": "stream",
     "text": [
      "p-value равняется 0.01679\n",
      "Отношение конверсии группы В к группе А равно 0.138\n"
     ]
    }
   ],
   "source": [
    "print('p-value равняется {0:.5f}'.format(stats.mannwhitneyu(sampleA, sampleB)[1]))\n",
    "print('Отношение конверсии группы В к группе А равно {0:.3f}'.format(sampleB.mean() / sampleA.mean() - 1))"
   ]
  },
  {
   "cell_type": "markdown",
   "metadata": {},
   "source": [
    "Посчитала статистическую значимость различий в среднем количестве заказов на посетителя между группами по «сырым» данным. \n",
    "\n",
    "* H0 - различий в конверсии по среднему количеству чеков между группами нет;\n",
    "* Н1 - различий в конверсиях о среднему количеству чеков между группами есть.\n",
    "\n",
    "Т.к. p-value менее 0.05 (в наших данных он равен 0,016) Н0 отвергаем.\n",
    "\n",
    "Отношение конверсии группы В к группе А равно 0,138, что говорит о положительных изменениях (приросте) после внедрения нововведений."
   ]
  },
  {
   "cell_type": "code",
   "execution_count": 34,
   "metadata": {},
   "outputs": [
    {
     "name": "stdout",
     "output_type": "stream",
     "text": [
      "p-value равняется 0.729\n",
      "Отношение конверсии группы В к группе А равно 0.259\n"
     ]
    }
   ],
   "source": [
    "print('p-value равняется {0:.3f}'.format(stats.mannwhitneyu(orders[orders['group']=='A']['revenue'], orders[orders['group']=='B']['revenue'])[1]))\n",
    "print('Отношение конверсии группы В к группе А равно {0:.3f}'.format(orders[orders['group']=='B']['revenue'].mean()/orders[orders['group']=='A']['revenue'].mean()-1))"
   ]
  },
  {
   "cell_type": "markdown",
   "metadata": {},
   "source": [
    "Посчитала статистическую значимость различий в среднем чеке заказа между группами по «сырым» данным.\n",
    "\n",
    "* H0 - различий в среднем чеке заказа между группами нет;\n",
    "* Н1 - различия в среднем чеке заказа между группами есть.\n",
    "\n",
    "Т.к. p-value более 0.05 (в наших данных он равен 0,729) Н0 отвергнуть не можем.\n",
    "\n",
    "Отношение конверсии группы В к группе А равен 0,259.\n"
   ]
  },
  {
   "cell_type": "code",
   "execution_count": 35,
   "metadata": {},
   "outputs": [
    {
     "name": "stdout",
     "output_type": "stream",
     "text": [
      "1099    148427295\n",
      "18      199603092\n",
      "928     204675465\n",
      "23      237748145\n",
      "684     358944393\n",
      "Name: visitorId, dtype: int64\n",
      "63\n"
     ]
    }
   ],
   "source": [
    "ordersByUsersA = (\n",
    "    orders[orders['group'] == 'A']\n",
    "    .groupby('visitorId', as_index=False)\n",
    "    .agg({'transactionId': pd.Series.nunique})\n",
    ")\n",
    "ordersByUsersA.columns = ['visitorId', 'orders']\n",
    "\n",
    "ordersByUsersB = (\n",
    "    orders[orders['group'] == 'B']\n",
    "    .groupby('visitorId', as_index=False)\n",
    "    .agg({'transactionId': pd.Series.nunique})\n",
    ")\n",
    "ordersByUsersB.columns = ['visitorId', 'orders']\n",
    "\n",
    "usersWithManyOrders = pd.concat(\n",
    "    [\n",
    "        ordersByUsersA[ordersByUsersA['orders'] > 3]['visitorId'],\n",
    "        ordersByUsersB[ordersByUsersB['orders'] > 3]['visitorId'],\n",
    "    ],\n",
    "    axis=0,\n",
    ")\n",
    "usersWithExpensiveOrders = orders[orders['revenue'] > 28000]['visitorId']\n",
    "abnormalUsers = (\n",
    "    pd.concat([usersWithManyOrders, usersWithExpensiveOrders], axis=0)\n",
    "    .drop_duplicates()\n",
    "    .sort_values()\n",
    ")\n",
    "print(abnormalUsers.head(5))\n",
    "print(abnormalUsers.shape[0]) "
   ]
  },
  {
   "cell_type": "markdown",
   "metadata": {},
   "source": [
    "Число пользователей с аномальными значениями равняется 63. Это может повлять на конечный результат, необходимо их удалить."
   ]
  },
  {
   "cell_type": "code",
   "execution_count": 36,
   "metadata": {},
   "outputs": [
    {
     "name": "stdout",
     "output_type": "stream",
     "text": [
      "p-value равен 0.018\n",
      "Отношение конверсии группы В к группе А равно 0.148\n"
     ]
    }
   ],
   "source": [
    "sampleAFiltered = pd.concat(\n",
    "    [\n",
    "        ordersByUsersA[\n",
    "            np.logical_not(ordersByUsersA['visitorId'].isin(abnormalUsers))\n",
    "        ]['orders'],\n",
    "        pd.Series(\n",
    "            0,\n",
    "            index=np.arange(\n",
    "                data['visitorsPerDateA'].sum() - len(ordersByUsersA['orders'])\n",
    "            ),\n",
    "            name='orders',\n",
    "        ),\n",
    "    ],\n",
    "    axis=0,\n",
    ")\n",
    "\n",
    "sampleBFiltered = pd.concat(\n",
    "    [\n",
    "        ordersByUsersB[\n",
    "            np.logical_not(ordersByUsersB['visitorId'].isin(abnormalUsers))\n",
    "        ]['orders'],\n",
    "        pd.Series(\n",
    "            0,\n",
    "            index=np.arange(\n",
    "                data['visitorsPerDateB'].sum() - len(ordersByUsersB['orders'])\n",
    "            ),\n",
    "            name='orders',\n",
    "        ),\n",
    "    ],\n",
    "    axis=0,\n",
    ")\n",
    "print('p-value равен {0:.3f}'.format(stats.mannwhitneyu(sampleAFiltered, sampleBFiltered)[1]))\n",
    "print('Отношение конверсии группы В к группе А равно {0:.3f}'.format(sampleBFiltered.mean()/sampleAFiltered.mean()-1)) "
   ]
  },
  {
   "cell_type": "markdown",
   "metadata": {},
   "source": [
    "Убираем аномальные значения и считаем статистическую значимость различий в среднем чеке заказа между группами по «очищенным» данным.\n",
    "\n",
    "* H0 - различий в конверсии по среднему количеству чеков между группами нет;\n",
    "* Н1 - различий в конверсиях о среднему количеству чеков между группами есть.\n",
    "\n",
    "Т.к. p-value меньше 0.05 (в наших данных он равен 0,018) Н0 можем отвергнуть.\n",
    "\n",
    "Отношение конверсии группы В к группе А равен 0,148.\n",
    "\n",
    "После \"очещения\" данных так же лидируют пользователи группы В."
   ]
  },
  {
   "cell_type": "code",
   "execution_count": 37,
   "metadata": {},
   "outputs": [
    {
     "name": "stdout",
     "output_type": "stream",
     "text": [
      "0.977\n",
      "-0.017\n"
     ]
    }
   ],
   "source": [
    "print(\n",
    "    '{0:.3f}'.format(\n",
    "        stats.mannwhitneyu(\n",
    "            orders[\n",
    "                np.logical_and(\n",
    "                    orders['group'] == 'A',\n",
    "                    np.logical_not(orders['visitorId'].isin(abnormalUsers)),\n",
    "                )\n",
    "            ]['revenue'],\n",
    "            orders[\n",
    "                np.logical_and(\n",
    "                    orders['group'] == 'B',\n",
    "                    np.logical_not(orders['visitorId'].isin(abnormalUsers)),\n",
    "                )\n",
    "            ]['revenue'],\n",
    "        )[1]\n",
    "    )\n",
    ")\n",
    "\n",
    "print(\n",
    "    \"{0:.3f}\".format(\n",
    "        orders[\n",
    "            np.logical_and(\n",
    "                orders['group'] == 'B',\n",
    "                np.logical_not(orders['visitorId'].isin(abnormalUsers)),\n",
    "            )\n",
    "        ]['revenue'].mean()\n",
    "        / orders[\n",
    "            np.logical_and(\n",
    "                orders['group'] == 'A',\n",
    "                np.logical_not(orders['visitorId'].isin(abnormalUsers)),\n",
    "            )\n",
    "        ]['revenue'].mean()\n",
    "        - 1\n",
    "    )\n",
    ")\n"
   ]
  },
  {
   "cell_type": "markdown",
   "metadata": {},
   "source": [
    "Так же повторно тестируем гипотезы с различиями в среднем чеке по группам.\n",
    "\n",
    "* H0 - различий в среднем чеке заказа между группами нет;\n",
    "* Н1 - различия в среднем чеке заказа между группами есть.\n",
    "\n",
    "Т.к. p-value значительно больше 0.05 (в наших данных он равен 0,977) Н0 отвергнуть не можем.\n",
    "\n",
    "Отношение конверсии группы В к группе А отрицательное - 0,017."
   ]
  },
  {
   "cell_type": "markdown",
   "metadata": {},
   "source": [
    "## Общий вывод"
   ]
  },
  {
   "cell_type": "markdown",
   "metadata": {},
   "source": [
    "Считаю, что продолжать тест смысла нет: группа B статистически значимо лучше группы A по обеим метрикам, а график конверсии говорит о фиксации результата. "
   ]
  }
 ],
 "metadata": {
  "ExecuteTimeLog": [
   {
    "duration": 1411,
    "start_time": "2023-11-26T13:19:20.122Z"
   },
   {
    "duration": 73,
    "start_time": "2023-11-26T13:20:57.042Z"
   },
   {
    "duration": 96,
    "start_time": "2023-11-26T13:21:48.937Z"
   },
   {
    "duration": 68,
    "start_time": "2023-11-26T13:22:26.606Z"
   },
   {
    "duration": 1280,
    "start_time": "2023-11-26T13:27:54.220Z"
   },
   {
    "duration": 10,
    "start_time": "2023-11-26T13:28:19.420Z"
   },
   {
    "duration": 8,
    "start_time": "2023-11-26T13:29:25.586Z"
   },
   {
    "duration": 59,
    "start_time": "2023-11-26T13:36:11.444Z"
   },
   {
    "duration": 33,
    "start_time": "2023-11-26T13:36:32.587Z"
   },
   {
    "duration": 32,
    "start_time": "2023-11-26T13:37:29.358Z"
   },
   {
    "duration": 8,
    "start_time": "2023-11-26T13:37:32.308Z"
   },
   {
    "duration": 10,
    "start_time": "2023-11-26T13:37:33.984Z"
   },
   {
    "duration": 384,
    "start_time": "2023-11-26T13:37:43.189Z"
   },
   {
    "duration": 2,
    "start_time": "2023-11-26T13:38:11.423Z"
   },
   {
    "duration": 1186,
    "start_time": "2023-11-26T13:38:18.076Z"
   },
   {
    "duration": 35,
    "start_time": "2023-11-26T13:38:19.264Z"
   },
   {
    "duration": 11,
    "start_time": "2023-11-26T13:38:19.302Z"
   },
   {
    "duration": 9,
    "start_time": "2023-11-26T13:38:19.315Z"
   },
   {
    "duration": 43,
    "start_time": "2023-11-26T13:38:19.325Z"
   },
   {
    "duration": 19,
    "start_time": "2023-11-26T13:38:19.370Z"
   },
   {
    "duration": 73,
    "start_time": "2023-11-26T13:38:19.390Z"
   },
   {
    "duration": 131,
    "start_time": "2023-11-26T13:39:37.667Z"
   },
   {
    "duration": 27,
    "start_time": "2023-11-26T13:40:22.934Z"
   },
   {
    "duration": 26,
    "start_time": "2023-11-26T13:40:45.526Z"
   },
   {
    "duration": 496,
    "start_time": "2023-11-26T13:40:56.846Z"
   },
   {
    "duration": 3,
    "start_time": "2023-11-26T13:43:47.042Z"
   },
   {
    "duration": 11,
    "start_time": "2023-11-26T13:44:02.370Z"
   },
   {
    "duration": 8,
    "start_time": "2023-11-26T13:44:16.374Z"
   },
   {
    "duration": 421,
    "start_time": "2023-11-26T13:51:26.534Z"
   },
   {
    "duration": 371,
    "start_time": "2023-11-26T13:53:05.664Z"
   },
   {
    "duration": 389,
    "start_time": "2023-11-26T13:54:00.302Z"
   },
   {
    "duration": 430,
    "start_time": "2023-11-26T13:54:30.884Z"
   },
   {
    "duration": 1162,
    "start_time": "2023-11-26T13:54:38.373Z"
   },
   {
    "duration": 35,
    "start_time": "2023-11-26T13:54:39.537Z"
   },
   {
    "duration": 3,
    "start_time": "2023-11-26T13:54:39.574Z"
   },
   {
    "duration": 25,
    "start_time": "2023-11-26T13:54:39.578Z"
   },
   {
    "duration": 17,
    "start_time": "2023-11-26T13:54:39.604Z"
   },
   {
    "duration": 74,
    "start_time": "2023-11-26T13:54:39.622Z"
   },
   {
    "duration": 20,
    "start_time": "2023-11-26T13:54:39.697Z"
   },
   {
    "duration": 461,
    "start_time": "2023-11-26T13:54:39.718Z"
   },
   {
    "duration": 0,
    "start_time": "2023-11-26T13:54:40.181Z"
   },
   {
    "duration": 10,
    "start_time": "2023-11-26T13:55:31.209Z"
   },
   {
    "duration": 10,
    "start_time": "2023-11-26T13:55:44.207Z"
   },
   {
    "duration": 4,
    "start_time": "2023-11-26T13:56:34.442Z"
   },
   {
    "duration": 4,
    "start_time": "2023-11-26T13:56:44.339Z"
   },
   {
    "duration": 1138,
    "start_time": "2023-11-26T13:56:51.069Z"
   },
   {
    "duration": 36,
    "start_time": "2023-11-26T13:56:52.209Z"
   },
   {
    "duration": 16,
    "start_time": "2023-11-26T13:56:52.246Z"
   },
   {
    "duration": 51,
    "start_time": "2023-11-26T13:56:52.264Z"
   },
   {
    "duration": 24,
    "start_time": "2023-11-26T13:56:52.316Z"
   },
   {
    "duration": 74,
    "start_time": "2023-11-26T13:56:52.342Z"
   },
   {
    "duration": 10,
    "start_time": "2023-11-26T13:56:52.417Z"
   },
   {
    "duration": 29,
    "start_time": "2023-11-26T13:56:52.429Z"
   },
   {
    "duration": 47,
    "start_time": "2023-11-26T13:56:52.460Z"
   },
   {
    "duration": 23,
    "start_time": "2023-11-26T13:56:52.509Z"
   },
   {
    "duration": 28,
    "start_time": "2023-11-26T13:56:52.534Z"
   },
   {
    "duration": 410,
    "start_time": "2023-11-26T13:56:52.563Z"
   },
   {
    "duration": 0,
    "start_time": "2023-11-26T13:56:52.974Z"
   },
   {
    "duration": 29,
    "start_time": "2023-11-26T13:59:50.982Z"
   },
   {
    "duration": 257,
    "start_time": "2023-11-26T14:00:54.773Z"
   },
   {
    "duration": 540,
    "start_time": "2023-11-26T14:02:29.316Z"
   },
   {
    "duration": 158,
    "start_time": "2023-11-26T14:04:17.874Z"
   },
   {
    "duration": 280,
    "start_time": "2023-11-26T14:05:56.931Z"
   },
   {
    "duration": 281,
    "start_time": "2023-11-26T14:06:09.350Z"
   },
   {
    "duration": 165,
    "start_time": "2023-11-26T14:06:18.418Z"
   },
   {
    "duration": 221,
    "start_time": "2023-11-26T14:07:28.446Z"
   },
   {
    "duration": 188,
    "start_time": "2023-11-26T14:07:39.371Z"
   },
   {
    "duration": 174,
    "start_time": "2023-11-26T14:07:44.862Z"
   },
   {
    "duration": 284,
    "start_time": "2023-11-26T14:09:01.870Z"
   },
   {
    "duration": 306,
    "start_time": "2023-11-26T14:09:05.543Z"
   },
   {
    "duration": 10,
    "start_time": "2023-11-26T14:11:41.638Z"
   },
   {
    "duration": 9,
    "start_time": "2023-11-26T14:12:31.966Z"
   },
   {
    "duration": 112,
    "start_time": "2023-11-26T14:12:41.032Z"
   },
   {
    "duration": 110,
    "start_time": "2023-11-26T14:12:52.706Z"
   },
   {
    "duration": 4,
    "start_time": "2023-11-26T14:13:43.415Z"
   },
   {
    "duration": 6,
    "start_time": "2023-11-26T14:14:37.286Z"
   },
   {
    "duration": 9,
    "start_time": "2023-11-26T14:15:39.435Z"
   },
   {
    "duration": 8,
    "start_time": "2023-11-26T14:15:48.583Z"
   },
   {
    "duration": 120,
    "start_time": "2023-11-26T14:15:55.870Z"
   },
   {
    "duration": 3,
    "start_time": "2023-11-26T14:16:27.413Z"
   },
   {
    "duration": 12,
    "start_time": "2023-11-26T14:16:53.449Z"
   },
   {
    "duration": 4,
    "start_time": "2023-11-26T14:18:04.534Z"
   },
   {
    "duration": 129,
    "start_time": "2023-11-26T14:32:01.606Z"
   },
   {
    "duration": 9,
    "start_time": "2023-11-26T14:32:19.340Z"
   },
   {
    "duration": 103,
    "start_time": "2023-11-26T14:33:51.897Z"
   },
   {
    "duration": 102,
    "start_time": "2023-11-26T14:35:25.594Z"
   },
   {
    "duration": 99,
    "start_time": "2023-11-26T14:35:36.990Z"
   },
   {
    "duration": 225,
    "start_time": "2023-11-26T14:36:05.145Z"
   },
   {
    "duration": 139,
    "start_time": "2023-11-26T14:36:11.514Z"
   },
   {
    "duration": 6,
    "start_time": "2023-11-26T14:36:14.428Z"
   },
   {
    "duration": 8,
    "start_time": "2023-11-26T14:36:38.036Z"
   },
   {
    "duration": 6,
    "start_time": "2023-11-26T14:36:52.807Z"
   },
   {
    "duration": 20,
    "start_time": "2023-11-26T14:37:40.485Z"
   },
   {
    "duration": 272,
    "start_time": "2023-11-26T14:39:15.078Z"
   },
   {
    "duration": 4,
    "start_time": "2023-11-26T14:40:26.850Z"
   },
   {
    "duration": 1226,
    "start_time": "2023-11-26T14:40:33.361Z"
   },
   {
    "duration": 36,
    "start_time": "2023-11-26T14:40:34.589Z"
   },
   {
    "duration": 3,
    "start_time": "2023-11-26T14:40:34.627Z"
   },
   {
    "duration": 31,
    "start_time": "2023-11-26T14:40:34.632Z"
   },
   {
    "duration": 7,
    "start_time": "2023-11-26T14:40:34.664Z"
   },
   {
    "duration": 53,
    "start_time": "2023-11-26T14:40:34.673Z"
   },
   {
    "duration": 10,
    "start_time": "2023-11-26T14:40:34.727Z"
   },
   {
    "duration": 17,
    "start_time": "2023-11-26T14:40:34.739Z"
   },
   {
    "duration": 23,
    "start_time": "2023-11-26T14:40:34.758Z"
   },
   {
    "duration": 10,
    "start_time": "2023-11-26T14:40:34.783Z"
   },
   {
    "duration": 14,
    "start_time": "2023-11-26T14:40:34.795Z"
   },
   {
    "duration": 302,
    "start_time": "2023-11-26T14:40:34.810Z"
   },
   {
    "duration": 602,
    "start_time": "2023-11-26T14:40:35.114Z"
   },
   {
    "duration": 180,
    "start_time": "2023-11-26T14:40:35.718Z"
   },
   {
    "duration": 258,
    "start_time": "2023-11-26T14:40:35.899Z"
   },
   {
    "duration": 188,
    "start_time": "2023-11-26T14:40:36.158Z"
   },
   {
    "duration": 304,
    "start_time": "2023-11-26T14:40:36.347Z"
   },
   {
    "duration": 123,
    "start_time": "2023-11-26T14:40:36.652Z"
   },
   {
    "duration": 7,
    "start_time": "2023-11-26T14:40:36.777Z"
   },
   {
    "duration": 148,
    "start_time": "2023-11-26T14:40:36.785Z"
   },
   {
    "duration": 10,
    "start_time": "2023-11-26T14:40:36.934Z"
   },
   {
    "duration": 285,
    "start_time": "2023-11-26T14:40:36.946Z"
   },
   {
    "duration": 129,
    "start_time": "2023-11-26T14:40:37.233Z"
   },
   {
    "duration": 8,
    "start_time": "2023-11-26T14:40:37.363Z"
   },
   {
    "duration": 6,
    "start_time": "2023-11-26T14:40:37.372Z"
   },
   {
    "duration": 275,
    "start_time": "2023-11-26T14:40:37.380Z"
   },
   {
    "duration": 10,
    "start_time": "2023-11-26T14:41:44.228Z"
   },
   {
    "duration": 11,
    "start_time": "2023-11-26T14:44:42.858Z"
   },
   {
    "duration": 9,
    "start_time": "2023-11-26T14:44:54.554Z"
   },
   {
    "duration": 1529,
    "start_time": "2023-11-26T14:45:45.000Z"
   },
   {
    "duration": 38,
    "start_time": "2023-11-26T14:46:09.359Z"
   },
   {
    "duration": 43,
    "start_time": "2023-11-26T14:46:24.933Z"
   },
   {
    "duration": 15,
    "start_time": "2023-11-26T14:47:34.174Z"
   },
   {
    "duration": 40,
    "start_time": "2023-11-26T17:26:58.302Z"
   },
   {
    "duration": 1227,
    "start_time": "2023-11-26T17:27:05.518Z"
   },
   {
    "duration": 64,
    "start_time": "2023-11-26T17:27:06.747Z"
   },
   {
    "duration": 3,
    "start_time": "2023-11-26T17:27:06.812Z"
   },
   {
    "duration": 7,
    "start_time": "2023-11-26T17:27:06.816Z"
   },
   {
    "duration": 6,
    "start_time": "2023-11-26T17:27:06.824Z"
   },
   {
    "duration": 82,
    "start_time": "2023-11-26T17:27:06.831Z"
   },
   {
    "duration": 9,
    "start_time": "2023-11-26T17:27:06.915Z"
   },
   {
    "duration": 11,
    "start_time": "2023-11-26T17:27:06.925Z"
   },
   {
    "duration": 58,
    "start_time": "2023-11-26T17:27:06.937Z"
   },
   {
    "duration": 7,
    "start_time": "2023-11-26T17:27:06.997Z"
   },
   {
    "duration": 4,
    "start_time": "2023-11-26T17:27:07.005Z"
   },
   {
    "duration": 220,
    "start_time": "2023-11-26T17:27:07.010Z"
   },
   {
    "duration": 456,
    "start_time": "2023-11-26T17:27:07.232Z"
   },
   {
    "duration": 130,
    "start_time": "2023-11-26T17:27:07.689Z"
   },
   {
    "duration": 279,
    "start_time": "2023-11-26T17:27:07.820Z"
   },
   {
    "duration": 151,
    "start_time": "2023-11-26T17:27:08.100Z"
   },
   {
    "duration": 245,
    "start_time": "2023-11-26T17:27:08.252Z"
   },
   {
    "duration": 91,
    "start_time": "2023-11-26T17:27:08.498Z"
   },
   {
    "duration": 4,
    "start_time": "2023-11-26T17:27:08.590Z"
   },
   {
    "duration": 103,
    "start_time": "2023-11-26T17:27:08.595Z"
   },
   {
    "duration": 4,
    "start_time": "2023-11-26T17:27:08.699Z"
   },
   {
    "duration": 215,
    "start_time": "2023-11-26T17:27:08.704Z"
   },
   {
    "duration": 118,
    "start_time": "2023-11-26T17:27:08.920Z"
   },
   {
    "duration": 6,
    "start_time": "2023-11-26T17:27:09.039Z"
   },
   {
    "duration": 4,
    "start_time": "2023-11-26T17:27:09.046Z"
   },
   {
    "duration": 248,
    "start_time": "2023-11-26T17:27:09.052Z"
   },
   {
    "duration": 14,
    "start_time": "2023-11-26T17:27:09.302Z"
   },
   {
    "duration": 8,
    "start_time": "2023-11-26T17:27:09.319Z"
   },
   {
    "duration": 21,
    "start_time": "2023-11-26T17:27:09.328Z"
   },
   {
    "duration": 11,
    "start_time": "2023-11-26T17:27:09.350Z"
   },
   {
    "duration": 6,
    "start_time": "2023-11-26T17:42:49.620Z"
   },
   {
    "duration": 7,
    "start_time": "2023-11-26T17:43:02.713Z"
   },
   {
    "duration": 3,
    "start_time": "2023-11-26T17:44:01.015Z"
   },
   {
    "duration": 171,
    "start_time": "2023-11-26T18:23:14.977Z"
   },
   {
    "duration": 173,
    "start_time": "2023-11-26T18:23:41.559Z"
   },
   {
    "duration": 160,
    "start_time": "2023-11-26T18:33:24.687Z"
   },
   {
    "duration": 166,
    "start_time": "2023-11-26T18:33:59.425Z"
   },
   {
    "duration": 248,
    "start_time": "2023-11-26T18:39:08.379Z"
   },
   {
    "duration": 277,
    "start_time": "2023-11-26T18:39:49.884Z"
   },
   {
    "duration": 176,
    "start_time": "2023-11-26T18:42:32.299Z"
   },
   {
    "duration": 179,
    "start_time": "2023-11-26T18:43:09.717Z"
   },
   {
    "duration": 182,
    "start_time": "2023-11-26T18:43:26.919Z"
   },
   {
    "duration": 302,
    "start_time": "2023-11-26T18:48:29.382Z"
   },
   {
    "duration": 283,
    "start_time": "2023-11-26T18:48:58.853Z"
   },
   {
    "duration": 368,
    "start_time": "2023-11-26T18:50:24.583Z"
   },
   {
    "duration": 296,
    "start_time": "2023-11-26T18:52:17.244Z"
   },
   {
    "duration": 299,
    "start_time": "2023-11-26T18:52:35.081Z"
   },
   {
    "duration": 318,
    "start_time": "2023-11-26T18:52:40.526Z"
   },
   {
    "duration": 308,
    "start_time": "2023-11-26T18:52:45.337Z"
   },
   {
    "duration": 117,
    "start_time": "2023-11-26T18:56:04.119Z"
   },
   {
    "duration": 146,
    "start_time": "2023-11-26T18:56:30.650Z"
   },
   {
    "duration": 136,
    "start_time": "2023-11-26T18:56:54.646Z"
   },
   {
    "duration": 140,
    "start_time": "2023-11-26T18:57:56.230Z"
   },
   {
    "duration": 128,
    "start_time": "2023-11-26T19:05:08.421Z"
   },
   {
    "duration": 120,
    "start_time": "2023-11-26T19:05:23.670Z"
   },
   {
    "duration": 138,
    "start_time": "2023-11-26T19:05:54.532Z"
   },
   {
    "duration": 188,
    "start_time": "2023-11-26T19:05:57.319Z"
   },
   {
    "duration": 136,
    "start_time": "2023-11-26T19:06:32.631Z"
   },
   {
    "duration": 9,
    "start_time": "2023-11-26T19:28:27.498Z"
   },
   {
    "duration": 8,
    "start_time": "2023-11-26T19:43:58.157Z"
   },
   {
    "duration": 248,
    "start_time": "2023-11-26T19:53:49.153Z"
   },
   {
    "duration": 117,
    "start_time": "2023-11-26T20:00:16.204Z"
   },
   {
    "duration": 6,
    "start_time": "2023-11-26T20:01:14.237Z"
   },
   {
    "duration": 1197,
    "start_time": "2023-11-26T20:02:17.974Z"
   },
   {
    "duration": 12,
    "start_time": "2023-11-26T20:02:45.980Z"
   },
   {
    "duration": 1082,
    "start_time": "2023-11-26T20:04:34.365Z"
   },
   {
    "duration": 32,
    "start_time": "2023-11-26T20:04:35.449Z"
   },
   {
    "duration": 3,
    "start_time": "2023-11-26T20:04:35.482Z"
   },
   {
    "duration": 14,
    "start_time": "2023-11-26T20:04:35.487Z"
   },
   {
    "duration": 8,
    "start_time": "2023-11-26T20:04:35.502Z"
   },
   {
    "duration": 10,
    "start_time": "2023-11-26T20:04:35.511Z"
   },
   {
    "duration": 40,
    "start_time": "2023-11-26T20:04:35.522Z"
   },
   {
    "duration": 8,
    "start_time": "2023-11-26T20:04:35.563Z"
   },
   {
    "duration": 4,
    "start_time": "2023-11-26T20:04:35.572Z"
   },
   {
    "duration": 18,
    "start_time": "2023-11-26T20:04:35.578Z"
   },
   {
    "duration": 7,
    "start_time": "2023-11-26T20:04:35.597Z"
   },
   {
    "duration": 4,
    "start_time": "2023-11-26T20:04:35.605Z"
   },
   {
    "duration": 248,
    "start_time": "2023-11-26T20:04:35.609Z"
   },
   {
    "duration": 269,
    "start_time": "2023-11-26T20:04:35.858Z"
   },
   {
    "duration": 187,
    "start_time": "2023-11-26T20:04:36.129Z"
   },
   {
    "duration": 306,
    "start_time": "2023-11-26T20:04:36.319Z"
   },
   {
    "duration": 210,
    "start_time": "2023-11-26T20:04:36.627Z"
   },
   {
    "duration": 313,
    "start_time": "2023-11-26T20:04:36.839Z"
   },
   {
    "duration": 140,
    "start_time": "2023-11-26T20:04:37.153Z"
   },
   {
    "duration": 5,
    "start_time": "2023-11-26T20:04:37.294Z"
   },
   {
    "duration": 155,
    "start_time": "2023-11-26T20:04:37.300Z"
   },
   {
    "duration": 4,
    "start_time": "2023-11-26T20:04:37.456Z"
   },
   {
    "duration": 277,
    "start_time": "2023-11-26T20:04:37.461Z"
   },
   {
    "duration": 0,
    "start_time": "2023-11-26T20:04:37.740Z"
   },
   {
    "duration": 0,
    "start_time": "2023-11-26T20:04:37.740Z"
   },
   {
    "duration": 0,
    "start_time": "2023-11-26T20:04:37.742Z"
   },
   {
    "duration": 0,
    "start_time": "2023-11-26T20:04:37.743Z"
   },
   {
    "duration": 0,
    "start_time": "2023-11-26T20:04:37.743Z"
   },
   {
    "duration": 0,
    "start_time": "2023-11-26T20:04:37.744Z"
   },
   {
    "duration": 0,
    "start_time": "2023-11-26T20:04:37.745Z"
   },
   {
    "duration": 95,
    "start_time": "2023-11-26T20:06:13.493Z"
   },
   {
    "duration": 94,
    "start_time": "2023-11-26T20:08:48.209Z"
   },
   {
    "duration": 425,
    "start_time": "2023-11-26T20:09:29.554Z"
   },
   {
    "duration": 429,
    "start_time": "2023-11-26T20:09:55.769Z"
   },
   {
    "duration": 6,
    "start_time": "2023-11-26T20:11:11.084Z"
   },
   {
    "duration": 18,
    "start_time": "2023-11-26T20:11:49.339Z"
   },
   {
    "duration": 407,
    "start_time": "2023-11-26T20:11:56.666Z"
   },
   {
    "duration": 18,
    "start_time": "2023-11-26T20:12:11.036Z"
   },
   {
    "duration": 9,
    "start_time": "2023-11-26T20:12:17.201Z"
   },
   {
    "duration": 1165,
    "start_time": "2023-11-26T20:28:03.557Z"
   },
   {
    "duration": 1158,
    "start_time": "2023-11-26T20:28:50.171Z"
   },
   {
    "duration": 1070,
    "start_time": "2023-11-26T20:29:58.498Z"
   },
   {
    "duration": 32,
    "start_time": "2023-11-26T20:29:59.569Z"
   },
   {
    "duration": 2,
    "start_time": "2023-11-26T20:29:59.602Z"
   },
   {
    "duration": 8,
    "start_time": "2023-11-26T20:29:59.606Z"
   },
   {
    "duration": 4,
    "start_time": "2023-11-26T20:29:59.615Z"
   },
   {
    "duration": 6,
    "start_time": "2023-11-26T20:29:59.620Z"
   },
   {
    "duration": 39,
    "start_time": "2023-11-26T20:29:59.627Z"
   },
   {
    "duration": 8,
    "start_time": "2023-11-26T20:29:59.667Z"
   },
   {
    "duration": 6,
    "start_time": "2023-11-26T20:29:59.676Z"
   },
   {
    "duration": 19,
    "start_time": "2023-11-26T20:29:59.684Z"
   },
   {
    "duration": 7,
    "start_time": "2023-11-26T20:29:59.704Z"
   },
   {
    "duration": 10,
    "start_time": "2023-11-26T20:29:59.712Z"
   },
   {
    "duration": 229,
    "start_time": "2023-11-26T20:29:59.723Z"
   },
   {
    "duration": 268,
    "start_time": "2023-11-26T20:29:59.953Z"
   },
   {
    "duration": 210,
    "start_time": "2023-11-26T20:30:00.223Z"
   },
   {
    "duration": 283,
    "start_time": "2023-11-26T20:30:00.434Z"
   },
   {
    "duration": 199,
    "start_time": "2023-11-26T20:30:00.718Z"
   },
   {
    "duration": 315,
    "start_time": "2023-11-26T20:30:00.918Z"
   },
   {
    "duration": 137,
    "start_time": "2023-11-26T20:30:01.234Z"
   },
   {
    "duration": 5,
    "start_time": "2023-11-26T20:30:01.372Z"
   },
   {
    "duration": 249,
    "start_time": "2023-11-26T20:30:01.378Z"
   },
   {
    "duration": 3,
    "start_time": "2023-11-26T20:30:01.628Z"
   },
   {
    "duration": 449,
    "start_time": "2023-11-26T20:30:01.632Z"
   },
   {
    "duration": 17,
    "start_time": "2023-11-26T20:30:02.083Z"
   },
   {
    "duration": 7,
    "start_time": "2023-11-26T20:30:02.115Z"
   },
   {
    "duration": 2108,
    "start_time": "2023-11-26T20:30:02.123Z"
   },
   {
    "duration": 0,
    "start_time": "2023-11-26T20:30:04.232Z"
   },
   {
    "duration": 0,
    "start_time": "2023-11-26T20:30:04.233Z"
   },
   {
    "duration": 1168,
    "start_time": "2023-11-26T20:31:24.168Z"
   },
   {
    "duration": 12,
    "start_time": "2023-11-26T20:33:05.115Z"
   },
   {
    "duration": 111,
    "start_time": "2023-11-26T20:33:56.866Z"
   },
   {
    "duration": 111,
    "start_time": "2023-11-26T20:34:19.578Z"
   },
   {
    "duration": 114,
    "start_time": "2023-11-26T20:34:24.551Z"
   },
   {
    "duration": 21,
    "start_time": "2023-11-26T20:36:46.152Z"
   },
   {
    "duration": 10,
    "start_time": "2023-11-26T20:40:07.790Z"
   },
   {
    "duration": 1041,
    "start_time": "2023-11-26T20:46:54.930Z"
   },
   {
    "duration": 32,
    "start_time": "2023-11-26T20:46:55.972Z"
   },
   {
    "duration": 2,
    "start_time": "2023-11-26T20:46:56.005Z"
   },
   {
    "duration": 15,
    "start_time": "2023-11-26T20:46:56.009Z"
   },
   {
    "duration": 5,
    "start_time": "2023-11-26T20:46:56.025Z"
   },
   {
    "duration": 11,
    "start_time": "2023-11-26T20:46:56.031Z"
   },
   {
    "duration": 38,
    "start_time": "2023-11-26T20:46:56.044Z"
   },
   {
    "duration": 8,
    "start_time": "2023-11-26T20:46:56.083Z"
   },
   {
    "duration": 4,
    "start_time": "2023-11-26T20:46:56.092Z"
   },
   {
    "duration": 17,
    "start_time": "2023-11-26T20:46:56.098Z"
   },
   {
    "duration": 7,
    "start_time": "2023-11-26T20:46:56.117Z"
   },
   {
    "duration": 7,
    "start_time": "2023-11-26T20:46:56.125Z"
   },
   {
    "duration": 226,
    "start_time": "2023-11-26T20:46:56.133Z"
   },
   {
    "duration": 248,
    "start_time": "2023-11-26T20:46:56.360Z"
   },
   {
    "duration": 176,
    "start_time": "2023-11-26T20:46:56.609Z"
   },
   {
    "duration": 303,
    "start_time": "2023-11-26T20:46:56.786Z"
   },
   {
    "duration": 193,
    "start_time": "2023-11-26T20:46:57.091Z"
   },
   {
    "duration": 318,
    "start_time": "2023-11-26T20:46:57.285Z"
   },
   {
    "duration": 128,
    "start_time": "2023-11-26T20:46:57.614Z"
   },
   {
    "duration": 5,
    "start_time": "2023-11-26T20:46:57.743Z"
   },
   {
    "duration": 138,
    "start_time": "2023-11-26T20:46:57.749Z"
   },
   {
    "duration": 3,
    "start_time": "2023-11-26T20:46:57.888Z"
   },
   {
    "duration": 430,
    "start_time": "2023-11-26T20:46:57.893Z"
   },
   {
    "duration": 17,
    "start_time": "2023-11-26T20:46:58.325Z"
   },
   {
    "duration": 7,
    "start_time": "2023-11-26T20:46:58.343Z"
   },
   {
    "duration": 127,
    "start_time": "2023-11-26T20:46:58.351Z"
   },
   {
    "duration": 21,
    "start_time": "2023-11-26T20:46:58.479Z"
   },
   {
    "duration": 19,
    "start_time": "2023-11-26T20:46:58.502Z"
   },
   {
    "duration": 1401,
    "start_time": "2023-11-28T08:23:47.657Z"
   },
   {
    "duration": 71,
    "start_time": "2023-11-28T08:23:49.060Z"
   },
   {
    "duration": 3,
    "start_time": "2023-11-28T08:23:49.134Z"
   },
   {
    "duration": 18,
    "start_time": "2023-11-28T08:23:49.139Z"
   },
   {
    "duration": 5,
    "start_time": "2023-11-28T08:23:49.158Z"
   },
   {
    "duration": 10,
    "start_time": "2023-11-28T08:23:49.164Z"
   },
   {
    "duration": 87,
    "start_time": "2023-11-28T08:23:49.175Z"
   },
   {
    "duration": 11,
    "start_time": "2023-11-28T08:23:49.264Z"
   },
   {
    "duration": 5,
    "start_time": "2023-11-28T08:23:49.276Z"
   },
   {
    "duration": 60,
    "start_time": "2023-11-28T08:23:49.282Z"
   },
   {
    "duration": 9,
    "start_time": "2023-11-28T08:23:49.343Z"
   },
   {
    "duration": 9,
    "start_time": "2023-11-28T08:23:49.354Z"
   },
   {
    "duration": 274,
    "start_time": "2023-11-28T08:23:49.365Z"
   },
   {
    "duration": 308,
    "start_time": "2023-11-28T08:23:49.641Z"
   },
   {
    "duration": 224,
    "start_time": "2023-11-28T08:23:49.951Z"
   },
   {
    "duration": 383,
    "start_time": "2023-11-28T08:23:50.176Z"
   },
   {
    "duration": 278,
    "start_time": "2023-11-28T08:23:50.561Z"
   },
   {
    "duration": 348,
    "start_time": "2023-11-28T08:23:50.841Z"
   },
   {
    "duration": 167,
    "start_time": "2023-11-28T08:23:51.190Z"
   },
   {
    "duration": 7,
    "start_time": "2023-11-28T08:23:51.358Z"
   },
   {
    "duration": 191,
    "start_time": "2023-11-28T08:23:51.366Z"
   },
   {
    "duration": 3,
    "start_time": "2023-11-28T08:23:51.559Z"
   },
   {
    "duration": 528,
    "start_time": "2023-11-28T08:23:51.564Z"
   },
   {
    "duration": 35,
    "start_time": "2023-11-28T08:23:52.093Z"
   },
   {
    "duration": 14,
    "start_time": "2023-11-28T08:23:52.129Z"
   },
   {
    "duration": 140,
    "start_time": "2023-11-28T08:23:52.145Z"
   },
   {
    "duration": 38,
    "start_time": "2023-11-28T08:23:52.287Z"
   },
   {
    "duration": 12,
    "start_time": "2023-11-28T08:23:52.327Z"
   },
   {
    "duration": 32,
    "start_time": "2023-11-28T08:28:36.679Z"
   },
   {
    "duration": 31,
    "start_time": "2023-11-28T08:28:40.399Z"
   },
   {
    "duration": 31,
    "start_time": "2023-11-28T08:28:43.359Z"
   },
   {
    "duration": 33,
    "start_time": "2023-11-28T08:29:01.614Z"
   },
   {
    "duration": 32,
    "start_time": "2023-11-28T08:29:13.063Z"
   },
   {
    "duration": 6,
    "start_time": "2023-11-28T08:31:37.744Z"
   },
   {
    "duration": 5,
    "start_time": "2023-11-28T08:31:56.398Z"
   },
   {
    "duration": 6,
    "start_time": "2023-11-28T08:32:04.384Z"
   },
   {
    "duration": 5,
    "start_time": "2023-11-28T08:32:21.576Z"
   },
   {
    "duration": 6,
    "start_time": "2023-11-28T08:36:59.665Z"
   },
   {
    "duration": 47,
    "start_time": "2023-11-28T18:35:34.449Z"
   },
   {
    "duration": 1365,
    "start_time": "2023-11-28T18:35:41.277Z"
   },
   {
    "duration": 69,
    "start_time": "2023-11-28T18:35:42.644Z"
   },
   {
    "duration": 3,
    "start_time": "2023-11-28T18:35:42.715Z"
   },
   {
    "duration": 21,
    "start_time": "2023-11-28T18:35:42.720Z"
   },
   {
    "duration": 4,
    "start_time": "2023-11-28T18:35:42.742Z"
   },
   {
    "duration": 12,
    "start_time": "2023-11-28T18:35:42.748Z"
   },
   {
    "duration": 88,
    "start_time": "2023-11-28T18:35:42.761Z"
   },
   {
    "duration": 11,
    "start_time": "2023-11-28T18:35:42.850Z"
   },
   {
    "duration": 7,
    "start_time": "2023-11-28T18:35:42.862Z"
   },
   {
    "duration": 58,
    "start_time": "2023-11-28T18:35:42.872Z"
   },
   {
    "duration": 9,
    "start_time": "2023-11-28T18:35:42.932Z"
   },
   {
    "duration": 19,
    "start_time": "2023-11-28T18:35:42.943Z"
   },
   {
    "duration": 17,
    "start_time": "2023-11-28T18:35:42.963Z"
   },
   {
    "duration": 10,
    "start_time": "2023-11-28T18:35:42.981Z"
   },
   {
    "duration": 263,
    "start_time": "2023-11-28T18:35:42.992Z"
   },
   {
    "duration": 291,
    "start_time": "2023-11-28T18:35:43.257Z"
   },
   {
    "duration": 209,
    "start_time": "2023-11-28T18:35:43.550Z"
   },
   {
    "duration": 359,
    "start_time": "2023-11-28T18:35:43.761Z"
   },
   {
    "duration": 217,
    "start_time": "2023-11-28T18:35:44.122Z"
   },
   {
    "duration": 343,
    "start_time": "2023-11-28T18:35:44.341Z"
   },
   {
    "duration": 164,
    "start_time": "2023-11-28T18:35:44.686Z"
   },
   {
    "duration": 14,
    "start_time": "2023-11-28T18:35:44.851Z"
   },
   {
    "duration": 162,
    "start_time": "2023-11-28T18:35:44.866Z"
   },
   {
    "duration": 4,
    "start_time": "2023-11-28T18:35:45.029Z"
   },
   {
    "duration": 530,
    "start_time": "2023-11-28T18:35:45.035Z"
   },
   {
    "duration": 24,
    "start_time": "2023-11-28T18:35:45.566Z"
   },
   {
    "duration": 9,
    "start_time": "2023-11-28T18:35:45.591Z"
   },
   {
    "duration": 141,
    "start_time": "2023-11-28T18:35:45.602Z"
   },
   {
    "duration": 39,
    "start_time": "2023-11-28T18:35:45.745Z"
   },
   {
    "duration": 13,
    "start_time": "2023-11-28T18:35:45.786Z"
   },
   {
    "duration": 85,
    "start_time": "2023-11-28T18:37:28.918Z"
   },
   {
    "duration": 95,
    "start_time": "2023-11-28T18:37:40.834Z"
   },
   {
    "duration": 11,
    "start_time": "2023-11-28T18:41:08.332Z"
   },
   {
    "duration": 10,
    "start_time": "2023-11-28T18:42:18.111Z"
   },
   {
    "duration": 4,
    "start_time": "2023-11-28T18:42:42.948Z"
   },
   {
    "duration": 110,
    "start_time": "2023-11-28T18:42:48.835Z"
   },
   {
    "duration": 6,
    "start_time": "2023-11-28T18:43:01.282Z"
   },
   {
    "duration": 6,
    "start_time": "2023-11-28T18:43:40.396Z"
   },
   {
    "duration": 73,
    "start_time": "2023-11-28T18:44:07.979Z"
   },
   {
    "duration": 5,
    "start_time": "2023-11-28T18:44:18.840Z"
   },
   {
    "duration": 3,
    "start_time": "2023-11-28T18:44:28.808Z"
   },
   {
    "duration": 23,
    "start_time": "2023-11-28T18:47:21.963Z"
   },
   {
    "duration": 11,
    "start_time": "2023-11-28T18:47:39.462Z"
   },
   {
    "duration": 16,
    "start_time": "2023-11-28T18:49:36.166Z"
   },
   {
    "duration": 95,
    "start_time": "2023-11-28T19:08:39.930Z"
   },
   {
    "duration": 19,
    "start_time": "2023-11-28T19:08:45.905Z"
   },
   {
    "duration": 20,
    "start_time": "2023-11-28T19:09:16.593Z"
   },
   {
    "duration": 9,
    "start_time": "2023-11-28T19:18:44.287Z"
   },
   {
    "duration": 1223,
    "start_time": "2023-11-28T19:23:43.461Z"
   },
   {
    "duration": 36,
    "start_time": "2023-11-28T19:23:44.685Z"
   },
   {
    "duration": 3,
    "start_time": "2023-11-28T19:23:44.723Z"
   },
   {
    "duration": 12,
    "start_time": "2023-11-28T19:23:44.727Z"
   },
   {
    "duration": 4,
    "start_time": "2023-11-28T19:23:44.740Z"
   },
   {
    "duration": 10,
    "start_time": "2023-11-28T19:23:44.746Z"
   },
   {
    "duration": 43,
    "start_time": "2023-11-28T19:23:44.758Z"
   },
   {
    "duration": 9,
    "start_time": "2023-11-28T19:23:44.803Z"
   },
   {
    "duration": 4,
    "start_time": "2023-11-28T19:23:44.814Z"
   },
   {
    "duration": 20,
    "start_time": "2023-11-28T19:23:44.821Z"
   },
   {
    "duration": 9,
    "start_time": "2023-11-28T19:23:44.842Z"
   },
   {
    "duration": 4,
    "start_time": "2023-11-28T19:23:44.853Z"
   },
   {
    "duration": 14,
    "start_time": "2023-11-28T19:23:44.858Z"
   },
   {
    "duration": 8,
    "start_time": "2023-11-28T19:23:44.873Z"
   },
   {
    "duration": 17,
    "start_time": "2023-11-28T19:23:44.883Z"
   },
   {
    "duration": 20,
    "start_time": "2023-11-28T19:23:44.902Z"
   },
   {
    "duration": 39,
    "start_time": "2023-11-28T19:23:44.923Z"
   },
   {
    "duration": 19,
    "start_time": "2023-11-28T19:23:44.963Z"
   },
   {
    "duration": 26,
    "start_time": "2023-11-28T19:23:44.983Z"
   },
   {
    "duration": 10,
    "start_time": "2023-11-28T19:23:45.011Z"
   },
   {
    "duration": 66,
    "start_time": "2023-11-28T19:23:45.022Z"
   },
   {
    "duration": 266,
    "start_time": "2023-11-28T19:23:45.090Z"
   },
   {
    "duration": 303,
    "start_time": "2023-11-28T19:23:45.357Z"
   },
   {
    "duration": 220,
    "start_time": "2023-11-28T19:23:45.661Z"
   },
   {
    "duration": 298,
    "start_time": "2023-11-28T19:23:45.882Z"
   },
   {
    "duration": 229,
    "start_time": "2023-11-28T19:23:46.181Z"
   },
   {
    "duration": 313,
    "start_time": "2023-11-28T19:23:46.412Z"
   },
   {
    "duration": 154,
    "start_time": "2023-11-28T19:23:46.728Z"
   },
   {
    "duration": 6,
    "start_time": "2023-11-28T19:23:46.883Z"
   },
   {
    "duration": 162,
    "start_time": "2023-11-28T19:23:46.890Z"
   },
   {
    "duration": 4,
    "start_time": "2023-11-28T19:23:47.053Z"
   },
   {
    "duration": 512,
    "start_time": "2023-11-28T19:23:47.065Z"
   },
   {
    "duration": 23,
    "start_time": "2023-11-28T19:23:47.578Z"
   },
   {
    "duration": 9,
    "start_time": "2023-11-28T19:23:47.603Z"
   },
   {
    "duration": 157,
    "start_time": "2023-11-28T19:23:47.614Z"
   },
   {
    "duration": 28,
    "start_time": "2023-11-28T19:23:47.773Z"
   },
   {
    "duration": 13,
    "start_time": "2023-11-28T19:23:47.802Z"
   },
   {
    "duration": 23,
    "start_time": "2023-11-28T19:26:40.751Z"
   },
   {
    "duration": 25,
    "start_time": "2023-11-28T19:27:28.870Z"
   },
   {
    "duration": 22,
    "start_time": "2023-11-28T19:28:11.685Z"
   },
   {
    "duration": 10,
    "start_time": "2023-11-28T19:28:48.338Z"
   },
   {
    "duration": 29,
    "start_time": "2023-11-28T19:29:10.437Z"
   },
   {
    "duration": 1133,
    "start_time": "2024-02-25T18:19:20.699Z"
   },
   {
    "duration": 70,
    "start_time": "2024-02-25T18:19:21.833Z"
   },
   {
    "duration": 3,
    "start_time": "2024-02-25T18:19:21.905Z"
   },
   {
    "duration": 16,
    "start_time": "2024-02-25T18:19:21.909Z"
   },
   {
    "duration": 6,
    "start_time": "2024-02-25T18:19:21.926Z"
   },
   {
    "duration": 13,
    "start_time": "2024-02-25T18:19:21.933Z"
   },
   {
    "duration": 90,
    "start_time": "2024-02-25T18:19:21.947Z"
   },
   {
    "duration": 11,
    "start_time": "2024-02-25T18:19:22.038Z"
   },
   {
    "duration": 11,
    "start_time": "2024-02-25T18:19:22.050Z"
   },
   {
    "duration": 59,
    "start_time": "2024-02-25T18:19:22.063Z"
   },
   {
    "duration": 10,
    "start_time": "2024-02-25T18:19:22.123Z"
   },
   {
    "duration": 18,
    "start_time": "2024-02-25T18:19:22.134Z"
   },
   {
    "duration": 9,
    "start_time": "2024-02-25T18:19:22.154Z"
   },
   {
    "duration": 9,
    "start_time": "2024-02-25T18:19:22.164Z"
   },
   {
    "duration": 15,
    "start_time": "2024-02-25T18:19:22.174Z"
   },
   {
    "duration": 10,
    "start_time": "2024-02-25T18:19:22.190Z"
   },
   {
    "duration": 5,
    "start_time": "2024-02-25T18:19:22.201Z"
   },
   {
    "duration": 9,
    "start_time": "2024-02-25T18:19:22.207Z"
   },
   {
    "duration": 48,
    "start_time": "2024-02-25T18:19:22.217Z"
   },
   {
    "duration": 9,
    "start_time": "2024-02-25T18:19:22.267Z"
   },
   {
    "duration": 60,
    "start_time": "2024-02-25T18:19:22.277Z"
   },
   {
    "duration": 256,
    "start_time": "2024-02-25T18:19:22.339Z"
   },
   {
    "duration": 295,
    "start_time": "2024-02-25T18:19:22.596Z"
   },
   {
    "duration": 196,
    "start_time": "2024-02-25T18:19:22.892Z"
   },
   {
    "duration": 275,
    "start_time": "2024-02-25T18:19:23.090Z"
   },
   {
    "duration": 215,
    "start_time": "2024-02-25T18:19:23.366Z"
   },
   {
    "duration": 302,
    "start_time": "2024-02-25T18:19:23.582Z"
   },
   {
    "duration": 149,
    "start_time": "2024-02-25T18:19:23.888Z"
   },
   {
    "duration": 10,
    "start_time": "2024-02-25T18:19:24.039Z"
   },
   {
    "duration": 148,
    "start_time": "2024-02-25T18:19:24.050Z"
   },
   {
    "duration": 4,
    "start_time": "2024-02-25T18:19:24.200Z"
   },
   {
    "duration": 492,
    "start_time": "2024-02-25T18:19:24.206Z"
   },
   {
    "duration": 23,
    "start_time": "2024-02-25T18:19:24.699Z"
   },
   {
    "duration": 25,
    "start_time": "2024-02-25T18:19:24.724Z"
   },
   {
    "duration": 141,
    "start_time": "2024-02-25T18:19:24.750Z"
   },
   {
    "duration": 27,
    "start_time": "2024-02-25T18:19:24.892Z"
   },
   {
    "duration": 74,
    "start_time": "2024-02-25T18:19:24.920Z"
   }
  ],
  "kernelspec": {
   "display_name": "Python 3 (ipykernel)",
   "language": "python",
   "name": "python3"
  },
  "language_info": {
   "codemirror_mode": {
    "name": "ipython",
    "version": 3
   },
   "file_extension": ".py",
   "mimetype": "text/x-python",
   "name": "python",
   "nbconvert_exporter": "python",
   "pygments_lexer": "ipython3",
   "version": "3.9.13"
  },
  "toc": {
   "base_numbering": 1,
   "nav_menu": {},
   "number_sections": true,
   "sideBar": true,
   "skip_h1_title": true,
   "title_cell": "Table of Contents",
   "title_sidebar": "Contents",
   "toc_cell": false,
   "toc_position": {},
   "toc_section_display": true,
   "toc_window_display": false
  }
 },
 "nbformat": 4,
 "nbformat_minor": 2
}
